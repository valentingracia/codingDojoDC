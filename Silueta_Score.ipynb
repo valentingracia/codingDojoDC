{
  "nbformat": 4,
  "nbformat_minor": 0,
  "metadata": {
    "colab": {
      "name": "Silueta Score.ipynb",
      "provenance": [],
      "collapsed_sections": [],
      "mount_file_id": "1So7mOGcHrT9utZk2tP0cv1UsPZ2tio5F",
      "authorship_tag": "ABX9TyOwyXX/CViekco3dWGWnDV+",
      "include_colab_link": true
    },
    "kernelspec": {
      "name": "python3",
      "display_name": "Python 3"
    },
    "language_info": {
      "name": "python"
    }
  },
  "cells": [
    {
      "cell_type": "markdown",
      "metadata": {
        "id": "view-in-github",
        "colab_type": "text"
      },
      "source": [
        "<a href=\"https://colab.research.google.com/github/valentingracia/codingDojoDC/blob/main/Silueta_Score.ipynb\" target=\"_parent\"><img src=\"https://colab.research.google.com/assets/colab-badge.svg\" alt=\"Open In Colab\"/></a>"
      ]
    },
    {
      "cell_type": "code",
      "metadata": {
        "id": "1ehHi4yf9SB8"
      },
      "source": [
        "#libraries\n",
        "import matplotlib.pyplot as plt\n",
        "import seaborn as sb\n",
        "import pandas as pd\n",
        "import numpy as np\n",
        "from sklearn.preprocessing import StandardScaler\n",
        "\n",
        "#modelo\n",
        "from sklearn.cluster import KMeans\n",
        "from sklearn.cluster import AgglomerativeClustering\n",
        "from sklearn.cluster import DBSCAN\n",
        "\n",
        "#metrics\n",
        "from sklearn.metrics import silhouette_samples, silhouette_score"
      ],
      "execution_count": 293,
      "outputs": []
    },
    {
      "cell_type": "code",
      "metadata": {
        "id": "rbOzxl8w94Fo"
      },
      "source": [
        "#dataset\n",
        "my_df=pd.read_csv(\"/content/drive/MyDrive/Coding Dojo/noSupervisado/cust_seg.csv\",index_col=\"Customer Id\")"
      ],
      "execution_count": 294,
      "outputs": []
    },
    {
      "cell_type": "code",
      "metadata": {
        "id": "Q2tbFjKF-ebl"
      },
      "source": [
        "my_df.drop(columns=[\"Unnamed: 0\"],inplace=True)"
      ],
      "execution_count": 295,
      "outputs": []
    },
    {
      "cell_type": "code",
      "metadata": {
        "colab": {
          "base_uri": "https://localhost:8080/"
        },
        "id": "9mtEkJhj_IlC",
        "outputId": "e01b3508-d6e1-4ae8-d850-2e32b299d7df"
      },
      "source": [
        "my_df.info()"
      ],
      "execution_count": 296,
      "outputs": [
        {
          "output_type": "stream",
          "name": "stdout",
          "text": [
            "<class 'pandas.core.frame.DataFrame'>\n",
            "Int64Index: 850 entries, 1 to 850\n",
            "Data columns (total 8 columns):\n",
            " #   Column           Non-Null Count  Dtype  \n",
            "---  ------           --------------  -----  \n",
            " 0   Age              850 non-null    int64  \n",
            " 1   Edu              850 non-null    int64  \n",
            " 2   Years Employed   850 non-null    int64  \n",
            " 3   Income           850 non-null    int64  \n",
            " 4   Card Debt        850 non-null    float64\n",
            " 5   Other Debt       850 non-null    float64\n",
            " 6   Defaulted        700 non-null    float64\n",
            " 7   DebtIncomeRatio  850 non-null    float64\n",
            "dtypes: float64(4), int64(4)\n",
            "memory usage: 59.8 KB\n"
          ]
        }
      ]
    },
    {
      "cell_type": "code",
      "metadata": {
        "colab": {
          "base_uri": "https://localhost:8080/"
        },
        "id": "eI73apwz_048",
        "outputId": "37ee7e1d-b5c9-4c5f-8b39-ec67acfaf7cc"
      },
      "source": [
        "#missing values\n",
        "my_df[\"Defaulted\"].value_counts()"
      ],
      "execution_count": 297,
      "outputs": [
        {
          "output_type": "execute_result",
          "data": {
            "text/plain": [
              "0.0    517\n",
              "1.0    183\n",
              "Name: Defaulted, dtype: int64"
            ]
          },
          "metadata": {},
          "execution_count": 297
        }
      ]
    },
    {
      "cell_type": "code",
      "metadata": {
        "id": "pTJK_eNK__OH"
      },
      "source": [
        "#Drop missings\n",
        "#Not best solutions\n",
        "my_df.dropna(inplace=True)\n"
      ],
      "execution_count": 298,
      "outputs": []
    },
    {
      "cell_type": "code",
      "metadata": {
        "id": "tnPO48QfAUtk"
      },
      "source": [
        "#Escalamos Dataset\n",
        "scaler=StandardScaler()\n",
        "\n",
        "#En no supervisado podemos hacer los dos pasos, si miedo del leakage\n",
        "scaled_df=scaler.fit_transform(my_df)\n"
      ],
      "execution_count": 299,
      "outputs": []
    },
    {
      "cell_type": "code",
      "metadata": {
        "colab": {
          "base_uri": "https://localhost:8080/"
        },
        "id": "GMVO28F1A0IO",
        "outputId": "07663b49-da69-4e76-cb5e-86f24bc3456a"
      },
      "source": [
        "kmeans=KMeans(n_clusters=5)\n",
        "kmeans.fit(scaled_df)"
      ],
      "execution_count": 300,
      "outputs": [
        {
          "output_type": "execute_result",
          "data": {
            "text/plain": [
              "KMeans(algorithm='auto', copy_x=True, init='k-means++', max_iter=300,\n",
              "       n_clusters=5, n_init=10, n_jobs=None, precompute_distances='auto',\n",
              "       random_state=None, tol=0.0001, verbose=0)"
            ]
          },
          "metadata": {},
          "execution_count": 300
        }
      ]
    },
    {
      "cell_type": "code",
      "metadata": {
        "id": "gG6dRGQpBlVU"
      },
      "source": [
        "#nueva columna de clusters\n",
        "my_df[\"cluster\"]=kmeans.labels_"
      ],
      "execution_count": 301,
      "outputs": []
    },
    {
      "cell_type": "code",
      "metadata": {
        "colab": {
          "base_uri": "https://localhost:8080/",
          "height": 203
        },
        "id": "ITBglC9qCkBP",
        "outputId": "c5b492dc-b5fe-477f-d786-ca703fb04561"
      },
      "source": [
        "my_df.head(4)"
      ],
      "execution_count": 302,
      "outputs": [
        {
          "output_type": "execute_result",
          "data": {
            "text/html": [
              "<div>\n",
              "<style scoped>\n",
              "    .dataframe tbody tr th:only-of-type {\n",
              "        vertical-align: middle;\n",
              "    }\n",
              "\n",
              "    .dataframe tbody tr th {\n",
              "        vertical-align: top;\n",
              "    }\n",
              "\n",
              "    .dataframe thead th {\n",
              "        text-align: right;\n",
              "    }\n",
              "</style>\n",
              "<table border=\"1\" class=\"dataframe\">\n",
              "  <thead>\n",
              "    <tr style=\"text-align: right;\">\n",
              "      <th></th>\n",
              "      <th>Age</th>\n",
              "      <th>Edu</th>\n",
              "      <th>Years Employed</th>\n",
              "      <th>Income</th>\n",
              "      <th>Card Debt</th>\n",
              "      <th>Other Debt</th>\n",
              "      <th>Defaulted</th>\n",
              "      <th>DebtIncomeRatio</th>\n",
              "      <th>cluster</th>\n",
              "    </tr>\n",
              "    <tr>\n",
              "      <th>Customer Id</th>\n",
              "      <th></th>\n",
              "      <th></th>\n",
              "      <th></th>\n",
              "      <th></th>\n",
              "      <th></th>\n",
              "      <th></th>\n",
              "      <th></th>\n",
              "      <th></th>\n",
              "      <th></th>\n",
              "    </tr>\n",
              "  </thead>\n",
              "  <tbody>\n",
              "    <tr>\n",
              "      <th>1</th>\n",
              "      <td>41</td>\n",
              "      <td>2</td>\n",
              "      <td>6</td>\n",
              "      <td>19</td>\n",
              "      <td>0.124</td>\n",
              "      <td>1.073</td>\n",
              "      <td>0.0</td>\n",
              "      <td>6.3</td>\n",
              "      <td>3</td>\n",
              "    </tr>\n",
              "    <tr>\n",
              "      <th>2</th>\n",
              "      <td>47</td>\n",
              "      <td>1</td>\n",
              "      <td>26</td>\n",
              "      <td>100</td>\n",
              "      <td>4.582</td>\n",
              "      <td>8.218</td>\n",
              "      <td>0.0</td>\n",
              "      <td>12.8</td>\n",
              "      <td>2</td>\n",
              "    </tr>\n",
              "    <tr>\n",
              "      <th>3</th>\n",
              "      <td>33</td>\n",
              "      <td>2</td>\n",
              "      <td>10</td>\n",
              "      <td>57</td>\n",
              "      <td>6.111</td>\n",
              "      <td>5.802</td>\n",
              "      <td>1.0</td>\n",
              "      <td>20.9</td>\n",
              "      <td>4</td>\n",
              "    </tr>\n",
              "    <tr>\n",
              "      <th>4</th>\n",
              "      <td>29</td>\n",
              "      <td>2</td>\n",
              "      <td>4</td>\n",
              "      <td>19</td>\n",
              "      <td>0.681</td>\n",
              "      <td>0.516</td>\n",
              "      <td>0.0</td>\n",
              "      <td>6.3</td>\n",
              "      <td>3</td>\n",
              "    </tr>\n",
              "  </tbody>\n",
              "</table>\n",
              "</div>"
            ],
            "text/plain": [
              "             Age  Edu  Years Employed  ...  Defaulted  DebtIncomeRatio  cluster\n",
              "Customer Id                            ...                                     \n",
              "1             41    2               6  ...        0.0              6.3        3\n",
              "2             47    1              26  ...        0.0             12.8        2\n",
              "3             33    2              10  ...        1.0             20.9        4\n",
              "4             29    2               4  ...        0.0              6.3        3\n",
              "\n",
              "[4 rows x 9 columns]"
            ]
          },
          "metadata": {},
          "execution_count": 302
        }
      ]
    },
    {
      "cell_type": "code",
      "metadata": {
        "colab": {
          "base_uri": "https://localhost:8080/",
          "height": 279
        },
        "id": "f6gBy8PsDQXQ",
        "outputId": "30c3974d-d98a-452a-ccb5-065cb858615e"
      },
      "source": [
        "#visualizacion\n",
        "\n",
        "plt.scatter(my_df['Age'],my_df['Income'],c=my_df[\"cluster\"])\n",
        "plt.xlabel(\"Age\")\n",
        "plt.ylabel(\"Income\");"
      ],
      "execution_count": 303,
      "outputs": [
        {
          "output_type": "display_data",
          "data": {
            "image/png": "[encoded data removed]",
            "text/plain": [
              "<Figure size 432x288 with 1 Axes>"
            ]
          },
          "metadata": {
            "needs_background": "light"
          }
        }
      ]
    },
    {
      "cell_type": "code",
      "metadata": {
        "colab": {
          "base_uri": "https://localhost:8080/"
        },
        "id": "wX7Jb8aTEsay",
        "outputId": "c99ae85b-e5e7-4d75-b8f3-b049b5002478"
      },
      "source": [
        "my_df.cluster.value_counts()"
      ],
      "execution_count": 304,
      "outputs": [
        {
          "output_type": "execute_result",
          "data": {
            "text/plain": [
              "3    281\n",
              "2    154\n",
              "4    149\n",
              "0     79\n",
              "1     37\n",
              "Name: cluster, dtype: int64"
            ]
          },
          "metadata": {},
          "execution_count": 304
        }
      ]
    },
    {
      "cell_type": "code",
      "metadata": {
        "id": "le6gnfRPE4ez"
      },
      "source": [
        "seg1=my_df[my_df[\"cluster\"]==0]\n",
        "seg2=my_df[my_df[\"cluster\"]==1]\n",
        "seg3=my_df[my_df[\"cluster\"]==2]\n",
        "seg4=my_df[my_df[\"cluster\"]==3]\n",
        "seg5=my_df[my_df[\"cluster\"]==4]"
      ],
      "execution_count": 305,
      "outputs": []
    },
    {
      "cell_type": "code",
      "metadata": {
        "colab": {
          "base_uri": "https://localhost:8080/"
        },
        "id": "A_9uCgHVFDWl",
        "outputId": "7a40c233-7e55-49dd-945c-09d26ef54b11"
      },
      "source": [
        "cust_segs=[seg1,seg2,seg3,seg4,seg5]\n",
        "\n",
        "for seg in cust_segs:\n",
        "  print(seg.describe().T)\n"
      ],
      "execution_count": 306,
      "outputs": [
        {
          "output_type": "stream",
          "name": "stdout",
          "text": [
            "                 count       mean        std  ...     50%      75%      max\n",
            "Age               79.0  33.531646   7.623909  ...  34.000  37.5000   53.000\n",
            "Edu               79.0   3.481013   0.596158  ...   3.000   4.0000    5.000\n",
            "Years Employed    79.0   4.873418   4.453080  ...   4.000   8.5000   15.000\n",
            "Income            79.0  41.493671  24.688767  ...  34.000  47.0000  177.000\n",
            "Card Debt         79.0   0.949418   0.839498  ...   0.722   1.4220    4.936\n",
            "Other Debt        79.0   2.398633   1.920132  ...   1.756   3.3725    9.555\n",
            "Defaulted         79.0   0.177215   0.384291  ...   0.000   0.0000    1.000\n",
            "DebtIncomeRatio   79.0   8.569620   5.417075  ...   7.700  11.3000   24.600\n",
            "cluster           79.0   0.000000   0.000000  ...   0.000   0.0000    0.000\n",
            "\n",
            "[9 rows x 8 columns]\n",
            "                 count        mean        std  ...      50%      75%      max\n",
            "Age               37.0   43.216216   6.187510  ...   41.000   47.000   54.000\n",
            "Edu               37.0    2.297297   1.127063  ...    2.000    3.000    5.000\n",
            "Years Employed    37.0   17.432432   7.373152  ...   18.000   21.000   31.000\n",
            "Income            37.0  128.378378  79.120285  ...  113.000  145.000  446.000\n",
            "Card Debt         37.0    7.368216   4.676510  ...    6.566    9.593   20.561\n",
            "Other Debt        37.0   12.640676   5.003605  ...   11.874   15.405   27.034\n",
            "Defaulted         37.0    0.513514   0.506712  ...    1.000    1.000    1.000\n",
            "DebtIncomeRatio   37.0   19.178378   8.858459  ...   17.300   25.300   41.300\n",
            "cluster           37.0    1.000000   0.000000  ...    1.000    1.000    1.000\n",
            "\n",
            "[9 rows x 8 columns]\n",
            "                 count       mean        std  ...      50%       75%      max\n",
            "Age              154.0  41.584416   5.976754  ...  41.0000  46.00000   56.000\n",
            "Edu              154.0   1.467532   0.668320  ...   1.0000   2.00000    4.000\n",
            "Years Employed   154.0  16.214286   4.862776  ...  16.0000  19.00000   30.000\n",
            "Income           154.0  71.337662  31.133535  ...  64.5000  82.00000  242.000\n",
            "Card Debt        154.0   2.022571   1.451382  ...   1.6265   2.83575    6.589\n",
            "Other Debt       154.0   4.126981   2.687308  ...   3.7310   5.63800   12.714\n",
            "Defaulted        154.0   0.019481   0.138657  ...   0.0000   0.00000    1.000\n",
            "DebtIncomeRatio  154.0   9.605195   5.902916  ...   8.5000  13.62500   32.500\n",
            "cluster          154.0   2.000000   0.000000  ...   2.0000   2.00000    2.000\n",
            "\n",
            "[9 rows x 8 columns]\n",
            "                 count       mean        std  ...     50%     75%     max\n",
            "Age              281.0  32.170819   6.270054  ...  31.000  36.000  50.000\n",
            "Edu              281.0   1.306050   0.461673  ...   1.000   2.000   2.000\n",
            "Years Employed   281.0   6.234875   3.896197  ...   6.000   9.000  17.000\n",
            "Income           281.0  29.903915  11.138159  ...  27.000  36.000  78.000\n",
            "Card Debt        281.0   0.657199   0.624588  ...   0.443   0.878   3.703\n",
            "Other Debt       281.0   1.520071   0.999927  ...   1.281   2.076   5.960\n",
            "Defaulted        281.0   0.000000   0.000000  ...   0.000   0.000   0.000\n",
            "DebtIncomeRatio  281.0   7.682206   4.809459  ...   6.700  10.200  23.800\n",
            "cluster          281.0   3.000000   0.000000  ...   3.000   3.000   3.000\n",
            "\n",
            "[9 rows x 8 columns]\n",
            "                 count       mean        std  ...     50%     75%     max\n",
            "Age              149.0  31.610738   7.810865  ...  29.000  36.000  55.000\n",
            "Edu              149.0   1.697987   0.759665  ...   2.000   2.000   4.000\n",
            "Years Employed   149.0   3.979866   3.658514  ...   3.000   6.000  15.000\n",
            "Income           149.0  30.228188  14.257819  ...  27.000  37.000  94.000\n",
            "Card Debt        149.0   1.635698   1.468142  ...   1.209   2.284   6.912\n",
            "Other Debt       149.0   2.824463   2.175316  ...   2.350   3.806  10.754\n",
            "Defaulted        149.0   0.986577   0.115465  ...   1.000   1.000   1.000\n",
            "DebtIncomeRatio  149.0  14.482550   7.306455  ...  13.800  19.200  35.300\n",
            "cluster          149.0   4.000000   0.000000  ...   4.000   4.000   4.000\n",
            "\n",
            "[9 rows x 8 columns]\n"
          ]
        }
      ]
    },
    {
      "cell_type": "code",
      "metadata": {
        "id": "S_KL13V3GVzN"
      },
      "source": [
        "#algunos promedios\n",
        "age_means = [np.mean(seg[\"Age\"]) for seg in cust_segs]\n",
        "income_means = [np.mean(seg[\"Income\"]) for seg in cust_segs]\n",
        "cardDebt_means = [np.mean(seg[\"Card Debt\"]) for seg in cust_segs]\n"
      ],
      "execution_count": 307,
      "outputs": []
    },
    {
      "cell_type": "code",
      "metadata": {
        "colab": {
          "base_uri": "https://localhost:8080/",
          "height": 203
        },
        "id": "0gtAo7oQHAvI",
        "outputId": "3515ea3d-4b64-4583-ac6e-f223e450c2ec"
      },
      "source": [
        "#dataframe salida\n",
        "\n",
        "summary_df=pd.DataFrame({\"cust_segs\":[\"seg1\",\"seg2\",\"seg3\",\"seg4\",\"seg5\"],\"Age Means\":age_means,\"Income Means\":income_means,\"Card Debt\":cardDebt_means})\n",
        "summary_df"
      ],
      "execution_count": 308,
      "outputs": [
        {
          "output_type": "execute_result",
          "data": {
            "text/html": [
              "<div>\n",
              "<style scoped>\n",
              "    .dataframe tbody tr th:only-of-type {\n",
              "        vertical-align: middle;\n",
              "    }\n",
              "\n",
              "    .dataframe tbody tr th {\n",
              "        vertical-align: top;\n",
              "    }\n",
              "\n",
              "    .dataframe thead th {\n",
              "        text-align: right;\n",
              "    }\n",
              "</style>\n",
              "<table border=\"1\" class=\"dataframe\">\n",
              "  <thead>\n",
              "    <tr style=\"text-align: right;\">\n",
              "      <th></th>\n",
              "      <th>cust_segs</th>\n",
              "      <th>Age Means</th>\n",
              "      <th>Income Means</th>\n",
              "      <th>Card Debt</th>\n",
              "    </tr>\n",
              "  </thead>\n",
              "  <tbody>\n",
              "    <tr>\n",
              "      <th>0</th>\n",
              "      <td>seg1</td>\n",
              "      <td>33.531646</td>\n",
              "      <td>41.493671</td>\n",
              "      <td>0.949418</td>\n",
              "    </tr>\n",
              "    <tr>\n",
              "      <th>1</th>\n",
              "      <td>seg2</td>\n",
              "      <td>43.216216</td>\n",
              "      <td>128.378378</td>\n",
              "      <td>7.368216</td>\n",
              "    </tr>\n",
              "    <tr>\n",
              "      <th>2</th>\n",
              "      <td>seg3</td>\n",
              "      <td>41.584416</td>\n",
              "      <td>71.337662</td>\n",
              "      <td>2.022571</td>\n",
              "    </tr>\n",
              "    <tr>\n",
              "      <th>3</th>\n",
              "      <td>seg4</td>\n",
              "      <td>32.170819</td>\n",
              "      <td>29.903915</td>\n",
              "      <td>0.657199</td>\n",
              "    </tr>\n",
              "    <tr>\n",
              "      <th>4</th>\n",
              "      <td>seg5</td>\n",
              "      <td>31.610738</td>\n",
              "      <td>30.228188</td>\n",
              "      <td>1.635698</td>\n",
              "    </tr>\n",
              "  </tbody>\n",
              "</table>\n",
              "</div>"
            ],
            "text/plain": [
              "  cust_segs  Age Means  Income Means  Card Debt\n",
              "0      seg1  33.531646     41.493671   0.949418\n",
              "1      seg2  43.216216    128.378378   7.368216\n",
              "2      seg3  41.584416     71.337662   2.022571\n",
              "3      seg4  32.170819     29.903915   0.657199\n",
              "4      seg5  31.610738     30.228188   1.635698"
            ]
          },
          "metadata": {},
          "execution_count": 308
        }
      ]
    },
    {
      "cell_type": "code",
      "metadata": {
        "colab": {
          "base_uri": "https://localhost:8080/",
          "height": 265
        },
        "id": "RtdXPpexLKz-",
        "outputId": "665e5645-9f66-4a2b-db57-30246839d9b8"
      },
      "source": [
        "plt.bar(summary_df[\"cust_segs\"],summary_df[\"Income Means\"])\n",
        "plt.ylabel(\"Income Means\");"
      ],
      "execution_count": 309,
      "outputs": [
        {
          "output_type": "display_data",
          "data": {
            "image/png": "[encoded data removed]",
            "text/plain": [
              "<Figure size 432x288 with 1 Axes>"
            ]
          },
          "metadata": {
            "needs_background": "light"
          }
        }
      ]
    },
    {
      "cell_type": "code",
      "metadata": {
        "id": "eISQ8rwSXCkE"
      },
      "source": [
        "n_cluster=range(2,11)\n"
      ],
      "execution_count": 310,
      "outputs": []
    },
    {
      "cell_type": "code",
      "metadata": {
        "colab": {
          "base_uri": "https://localhost:8080/",
          "height": 298
        },
        "id": "GIIEuItuXhgq",
        "outputId": "de0b8100-daad-4bd9-c886-ae0a00758406"
      },
      "source": [
        "# Visualiza diferentes puntuaciones de silueta\n",
        "# Guardar las puntuaciones de silueta para varios números de clúster en la lista\n",
        "silhouette_scores = []\n",
        "for i in n_cluster:\n",
        "  kmeans = KMeans(n_clusters = i)\n",
        "  kmeans.fit(scaled_df)\n",
        "  silhouette_scores.append(silhouette_score(scaled_df, kmeans.labels_))\n",
        "# Visualize scores\n",
        "plt.plot(range(2, 11), silhouette_scores, marker = '.')\n",
        "plt.xlabel('Number of Clusters')\n",
        "plt.ylabel('Silhouette Score')\n",
        "silhouette_score(scaled_df, kmeans.labels_)"
      ],
      "execution_count": 311,
      "outputs": [
        {
          "output_type": "execute_result",
          "data": {
            "text/plain": [
              "0.20229606626915556"
            ]
          },
          "metadata": {},
          "execution_count": 311
        },
        {
          "output_type": "display_data",
          "data": {
            "image/png": "[encoded data removed]",
            "text/plain": [
              "<Figure size 432x288 with 1 Axes>"
            ]
          },
          "metadata": {
            "needs_background": "light"
          }
        }
      ]
    },
    {
      "cell_type": "code",
      "metadata": {
        "colab": {
          "base_uri": "https://localhost:8080/"
        },
        "id": "TOYnaPq6f8ke",
        "outputId": "a8631999-20a7-46f5-94f2-146ee46d92e7"
      },
      "source": [
        "kmeans = KMeans(n_clusters = 2)\n",
        "kmeans.fit(scaled_df)\n",
        "silhouette_score(scaled_df, kmeans.labels_)"
      ],
      "execution_count": 312,
      "outputs": [
        {
          "output_type": "execute_result",
          "data": {
            "text/plain": [
              "0.33496643365707623"
            ]
          },
          "metadata": {},
          "execution_count": 312
        }
      ]
    },
    {
      "cell_type": "code",
      "metadata": {
        "colab": {
          "base_uri": "https://localhost:8080/",
          "height": 296
        },
        "id": "f7uGu3UVd6U0",
        "outputId": "695c3b7e-6f30-477e-bf0b-de370e763905"
      },
      "source": [
        "# Visualiza diferentes puntuaciones de silueta\n",
        "# Guardar las puntuaciones de silueta para varios números de clúster en la lista\n",
        "\n",
        "\n",
        "silhouette_scores = []\n",
        "for i in n_cluster:\n",
        "  aggClust = AgglomerativeClustering(n_clusters = i)\n",
        "  aggClust.fit(scaled_df)\n",
        "  silhouette_scores.append(silhouette_score(scaled_df, aggClust.labels_))\n",
        "# Visualize scores\n",
        "plt.plot(range(2, 11), silhouette_scores, marker = '.')\n",
        "plt.xlabel('Number of Clusters')\n",
        "plt.ylabel('Silhouette Score')\n",
        "silhouette_score(scaled_df, aggClust.labels_)"
      ],
      "execution_count": 313,
      "outputs": [
        {
          "output_type": "execute_result",
          "data": {
            "text/plain": [
              "0.1773632738821424"
            ]
          },
          "metadata": {},
          "execution_count": 313
        },
        {
          "output_type": "display_data",
          "data": {
            "image/png": "[encoded data removed]",
            "text/plain": [
              "<Figure size 432x288 with 1 Axes>"
            ]
          },
          "metadata": {
            "needs_background": "light"
          }
        }
      ]
    },
    {
      "cell_type": "code",
      "metadata": {
        "colab": {
          "base_uri": "https://localhost:8080/"
        },
        "id": "k7MlmqTmgDle",
        "outputId": "57784e24-535e-4a71-9999-3f0f155fe43e"
      },
      "source": [
        "aggClust = AgglomerativeClustering(n_clusters = 2)\n",
        "aggClust.fit(scaled_df)\n",
        "silhouette_score(scaled_df, aggClust.labels_)"
      ],
      "execution_count": 314,
      "outputs": [
        {
          "output_type": "execute_result",
          "data": {
            "text/plain": [
              "0.3357297821671033"
            ]
          },
          "metadata": {},
          "execution_count": 314
        }
      ]
    },
    {
      "cell_type": "code",
      "metadata": {
        "colab": {
          "base_uri": "https://localhost:8080/",
          "height": 300
        },
        "id": "ExQI-lRde6CH",
        "outputId": "427cb6ce-fd6d-4f4c-b534-db1c9a761b70"
      },
      "source": [
        "# Visualiza diferentes puntuaciones de silueta\n",
        "# Guardar las puntuaciones de silueta para varios números de clúster en la lista\n",
        "\n",
        "silhouette_scores = []\n",
        "for i in n_cluster:\n",
        "  dbScan = DBSCAN(eps=3, min_samples=i)\n",
        "  dbScan.fit(scaled_df)\n",
        "  silhouette_scores.append(silhouette_score(scaled_df, dbScan.labels_))\n",
        "# Visualize scores\n",
        "plt.plot(range(2, 11), silhouette_scores, marker = '.')\n",
        "plt.xlabel('Number of Clusters')\n",
        "plt.ylabel('Silhouette Score')\n",
        "silhouette_score(scaled_df, dbScan.labels_)"
      ],
      "execution_count": 318,
      "outputs": [
        {
          "output_type": "execute_result",
          "data": {
            "text/plain": [
              "0.6205511154449708"
            ]
          },
          "metadata": {},
          "execution_count": 318
        },
        {
          "output_type": "display_data",
          "data": {
            "image/png": "[encoded data removed]",
            "text/plain": [
              "<Figure size 432x288 with 1 Axes>"
            ]
          },
          "metadata": {
            "needs_background": "light"
          }
        }
      ]
    },
    {
      "cell_type": "code",
      "metadata": {
        "colab": {
          "base_uri": "https://localhost:8080/"
        },
        "id": "TssK6aIxgeLh",
        "outputId": "f744060a-a83a-467c-d29b-8f9455d07a73"
      },
      "source": [
        "dbScan = DBSCAN(eps =7, min_samples = 3)                \n",
        "dbScan.fit(scaled_df)\n",
        "silhouette_score(scaled_df, dbScan.labels_)"
      ],
      "execution_count": 324,
      "outputs": [
        {
          "output_type": "execute_result",
          "data": {
            "text/plain": [
              "0.734494641708757"
            ]
          },
          "metadata": {},
          "execution_count": 324
        }
      ]
    },
    {
      "cell_type": "code",
      "metadata": {
        "id": "D6W2jLaUis__"
      },
      "source": [
        ""
      ],
      "execution_count": 316,
      "outputs": []
    },
    {
      "cell_type": "markdown",
      "metadata": {
        "id": "ceANgY-ghAu1"
      },
      "source": [
        "el mejor modelo es el DBSCAN, con epsilon 7, estara bien mover tanto el epsilon?"
      ]
    }
  ]
}