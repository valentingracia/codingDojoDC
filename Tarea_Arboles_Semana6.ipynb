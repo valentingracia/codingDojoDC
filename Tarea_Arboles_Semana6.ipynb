{
  "nbformat": 4,
  "nbformat_minor": 0,
  "metadata": {
    "colab": {
      "name": "Tarea Arboles Semana6.ipynb",
      "provenance": [],
      "collapsed_sections": [],
      "mount_file_id": "1E55cAmk8-Im2pklZbjgX40cWESSH9PtW",
      "authorship_tag": "ABX9TyNySS9+iS75bnNVvN5aBwQm",
      "include_colab_link": true
    },
    "kernelspec": {
      "name": "python3",
      "display_name": "Python 3"
    },
    "language_info": {
      "name": "python"
    },
    "widgets": {
      "application/vnd.jupyter.widget-state+json": {
        "080a7046bcee4eb79d98779f82043599": {
          "model_module": "@jupyter-widgets/controls",
          "model_name": "VBoxModel",
          "model_module_version": "1.5.0",
          "state": {
            "_view_name": "VBoxView",
            "_dom_classes": [
              "widget-interact"
            ],
            "_model_name": "VBoxModel",
            "_view_module": "@jupyter-widgets/controls",
            "_model_module_version": "1.5.0",
            "_view_count": null,
            "_view_module_version": "1.5.0",
            "box_style": "",
            "layout": "IPY_MODEL_6ac058e9718f49c9bd83b698436a2d25",
            "_model_module": "@jupyter-widgets/controls",
            "children": [
              "IPY_MODEL_40c972358cd3444b988495888f5821c1",
              "IPY_MODEL_b713d430bd494c1594a4fd5f4bc0531c"
            ]
          }
        },
        "6ac058e9718f49c9bd83b698436a2d25": {
          "model_module": "@jupyter-widgets/base",
          "model_name": "LayoutModel",
          "model_module_version": "1.2.0",
          "state": {
            "_view_name": "LayoutView",
            "grid_template_rows": null,
            "right": null,
            "justify_content": null,
            "_view_module": "@jupyter-widgets/base",
            "overflow": null,
            "_model_module_version": "1.2.0",
            "_view_count": null,
            "flex_flow": null,
            "width": null,
            "min_width": null,
            "border": null,
            "align_items": null,
            "bottom": null,
            "_model_module": "@jupyter-widgets/base",
            "top": null,
            "grid_column": null,
            "overflow_y": null,
            "overflow_x": null,
            "grid_auto_flow": null,
            "grid_area": null,
            "grid_template_columns": null,
            "flex": null,
            "_model_name": "LayoutModel",
            "justify_items": null,
            "grid_row": null,
            "max_height": null,
            "align_content": null,
            "visibility": null,
            "align_self": null,
            "height": null,
            "min_height": null,
            "padding": null,
            "grid_auto_rows": null,
            "grid_gap": null,
            "max_width": null,
            "order": null,
            "_view_module_version": "1.2.0",
            "grid_template_areas": null,
            "object_position": null,
            "object_fit": null,
            "grid_auto_columns": null,
            "margin": null,
            "display": null,
            "left": null
          }
        },
        "40c972358cd3444b988495888f5821c1": {
          "model_module": "@jupyter-widgets/controls",
          "model_name": "IntSliderModel",
          "model_module_version": "1.5.0",
          "state": {
            "_view_name": "IntSliderView",
            "style": "IPY_MODEL_eee7e5025043449dbc9407b0f4d3ef34",
            "_dom_classes": [],
            "description": "varCol",
            "step": 1,
            "_model_name": "IntSliderModel",
            "orientation": "horizontal",
            "max": 20,
            "_view_module": "@jupyter-widgets/controls",
            "_model_module_version": "1.5.0",
            "value": 0,
            "_view_count": null,
            "disabled": false,
            "_view_module_version": "1.5.0",
            "min": 0,
            "continuous_update": true,
            "readout_format": "d",
            "description_tooltip": null,
            "readout": true,
            "_model_module": "@jupyter-widgets/controls",
            "layout": "IPY_MODEL_3799e03035604ef0972d75e3408634e4"
          }
        },
        "b713d430bd494c1594a4fd5f4bc0531c": {
          "model_module": "@jupyter-widgets/output",
          "model_name": "OutputModel",
          "model_module_version": "1.0.0",
          "state": {
            "_view_name": "OutputView",
            "msg_id": "",
            "_dom_classes": [],
            "_model_name": "OutputModel",
            "outputs": [
              {
                "output_type": "stream",
                "name": "stdout",
                "text": [
                  "Variable  \u001b[31m*0*  dtype:int64\u001b[0m\n",
                  "-----\n",
                  "21436 Categorias\n",
                  "0 perdidos de  21613\n"
                ]
              },
              {
                "output_type": "display_data",
                "data": {
                  "text/html": "<div>\n<style scoped>\n    .dataframe tbody tr th:only-of-type {\n        vertical-align: middle;\n    }\n\n    .dataframe tbody tr th {\n        vertical-align: top;\n    }\n\n    .dataframe thead th {\n        text-align: right;\n    }\n</style>\n<table border=\"1\" class=\"dataframe\">\n  <thead>\n    <tr style=\"text-align: right;\">\n      <th></th>\n      <th>count</th>\n    </tr>\n    <tr>\n      <th>id</th>\n      <th></th>\n    </tr>\n  </thead>\n  <tbody>\n    <tr>\n      <th>795000620</th>\n      <td>3</td>\n    </tr>\n    <tr>\n      <th>1000102</th>\n      <td>2</td>\n    </tr>\n    <tr>\n      <th>3935900232</th>\n      <td>2</td>\n    </tr>\n    <tr>\n      <th>6791200120</th>\n      <td>2</td>\n    </tr>\n    <tr>\n      <th>1901600090</th>\n      <td>2</td>\n    </tr>\n    <tr>\n      <th>...</th>\n      <td>...</td>\n    </tr>\n    <tr>\n      <th>6303400520</th>\n      <td>1</td>\n    </tr>\n    <tr>\n      <th>6303400965</th>\n      <td>1</td>\n    </tr>\n    <tr>\n      <th>6303400981</th>\n      <td>1</td>\n    </tr>\n    <tr>\n      <th>6303401050</th>\n      <td>1</td>\n    </tr>\n    <tr>\n      <th>3904921120</th>\n      <td>1</td>\n    </tr>\n  </tbody>\n</table>\n<p>21436 rows × 1 columns</p>\n</div>",
                  "text/plain": "            count\nid               \n795000620       3\n1000102         2\n3935900232      2\n6791200120      2\n1901600090      2\n...           ...\n6303400520      1\n6303400965      1\n6303400981      1\n6303401050      1\n3904921120      1\n\n[21436 rows x 1 columns]"
                },
                "metadata": {}
              }
            ],
            "_view_module": "@jupyter-widgets/output",
            "_model_module_version": "1.0.0",
            "_view_count": null,
            "_view_module_version": "1.0.0",
            "layout": "IPY_MODEL_50184c2c1e2243b29499c98c09228666",
            "_model_module": "@jupyter-widgets/output"
          }
        },
        "eee7e5025043449dbc9407b0f4d3ef34": {
          "model_module": "@jupyter-widgets/controls",
          "model_name": "SliderStyleModel",
          "model_module_version": "1.5.0",
          "state": {
            "_view_name": "StyleView",
            "handle_color": null,
            "_model_name": "SliderStyleModel",
            "description_width": "",
            "_view_module": "@jupyter-widgets/base",
            "_model_module_version": "1.5.0",
            "_view_count": null,
            "_view_module_version": "1.2.0",
            "_model_module": "@jupyter-widgets/controls"
          }
        },
        "3799e03035604ef0972d75e3408634e4": {
          "model_module": "@jupyter-widgets/base",
          "model_name": "LayoutModel",
          "model_module_version": "1.2.0",
          "state": {
            "_view_name": "LayoutView",
            "grid_template_rows": null,
            "right": null,
            "justify_content": null,
            "_view_module": "@jupyter-widgets/base",
            "overflow": null,
            "_model_module_version": "1.2.0",
            "_view_count": null,
            "flex_flow": null,
            "width": null,
            "min_width": null,
            "border": null,
            "align_items": null,
            "bottom": null,
            "_model_module": "@jupyter-widgets/base",
            "top": null,
            "grid_column": null,
            "overflow_y": null,
            "overflow_x": null,
            "grid_auto_flow": null,
            "grid_area": null,
            "grid_template_columns": null,
            "flex": null,
            "_model_name": "LayoutModel",
            "justify_items": null,
            "grid_row": null,
            "max_height": null,
            "align_content": null,
            "visibility": null,
            "align_self": null,
            "height": null,
            "min_height": null,
            "padding": null,
            "grid_auto_rows": null,
            "grid_gap": null,
            "max_width": null,
            "order": null,
            "_view_module_version": "1.2.0",
            "grid_template_areas": null,
            "object_position": null,
            "object_fit": null,
            "grid_auto_columns": null,
            "margin": null,
            "display": null,
            "left": null
          }
        },
        "50184c2c1e2243b29499c98c09228666": {
          "model_module": "@jupyter-widgets/base",
          "model_name": "LayoutModel",
          "model_module_version": "1.2.0",
          "state": {
            "_view_name": "LayoutView",
            "grid_template_rows": null,
            "right": null,
            "justify_content": null,
            "_view_module": "@jupyter-widgets/base",
            "overflow": null,
            "_model_module_version": "1.2.0",
            "_view_count": null,
            "flex_flow": null,
            "width": null,
            "min_width": null,
            "border": null,
            "align_items": null,
            "bottom": null,
            "_model_module": "@jupyter-widgets/base",
            "top": null,
            "grid_column": null,
            "overflow_y": null,
            "overflow_x": null,
            "grid_auto_flow": null,
            "grid_area": null,
            "grid_template_columns": null,
            "flex": null,
            "_model_name": "LayoutModel",
            "justify_items": null,
            "grid_row": null,
            "max_height": null,
            "align_content": null,
            "visibility": null,
            "align_self": null,
            "height": null,
            "min_height": null,
            "padding": null,
            "grid_auto_rows": null,
            "grid_gap": null,
            "max_width": null,
            "order": null,
            "_view_module_version": "1.2.0",
            "grid_template_areas": null,
            "object_position": null,
            "object_fit": null,
            "grid_auto_columns": null,
            "margin": null,
            "display": null,
            "left": null
          }
        }
      }
    }
  },
  "cells": [
    {
      "cell_type": "markdown",
      "metadata": {
        "id": "view-in-github",
        "colab_type": "text"
      },
      "source": [
        "<a href=\"https://colab.research.google.com/github/valentingracia/codingDojoDC/blob/main/Tarea_Arboles_Semana6.ipynb\" target=\"_parent\"><img src=\"https://colab.research.google.com/assets/colab-badge.svg\" alt=\"Open In Colab\"/></a>"
      ]
    },
    {
      "cell_type": "markdown",
      "metadata": {
        "id": "M7qMCnbY3mvm"
      },
      "source": [
        "#Tarea Semana 6"
      ]
    },
    {
      "cell_type": "code",
      "metadata": {
        "id": "nuXs2vOz3jno"
      },
      "source": [
        "#Librerias clasicas\n",
        "\n",
        "#Models\n",
        "from sklearn.linear_model import SGDRegressor\n",
        "from sklearn.linear_model import LinearRegression\n",
        "#Bagged Trees and Random Forest\n",
        "from sklearn.ensemble import BaggingRegressor, RandomForestRegressor\n",
        "\n",
        "from sklearn.datasets import load_boston\n",
        "from sklearn.datasets import make_regression\n",
        "from sklearn.metrics import mean_squared_error\n",
        "from sklearn.model_selection import train_test_split\n",
        "from sklearn.model_selection import cross_val_score\n",
        "from sklearn.model_selection import GridSearchCV\n",
        "from sklearn.preprocessing import StandardScaler\n",
        "import matplotlib.pyplot as plt\n",
        "import pandas as pd\n",
        "\n",
        "#Widgets\n",
        "from ipywidgets import interact, interactive, fixed, interact_manual,IntSlider\n",
        "import ipywidgets as widgets\n",
        "\n",
        "#explore df\n",
        "import missingno as msno \n",
        "#other\n",
        "from termcolor import colored\n",
        "from google.colab import output\n"
      ],
      "execution_count": 95,
      "outputs": []
    },
    {
      "cell_type": "markdown",
      "metadata": {
        "id": "iivr5OO04LiT"
      },
      "source": [
        "#Chocopanda"
      ]
    },
    {
      "cell_type": "code",
      "metadata": {
        "colab": {
          "base_uri": "https://localhost:8080/",
          "height": 132
        },
        "id": "0lnEcWvK4PEr",
        "outputId": "a6e68ee2-3bdd-4603-9e47-f8e10691d0a0"
      },
      "source": [
        "kcHouseData_df=pd.read_csv(\"/content/drive/MyDrive/Coding Dojo/Semana6/kc_house_data.csv\")\n",
        "kcHouseData_df.head(2)"
      ],
      "execution_count": 96,
      "outputs": [
        {
          "output_type": "execute_result",
          "data": {
            "text/html": [
              "<div>\n",
              "<style scoped>\n",
              "    .dataframe tbody tr th:only-of-type {\n",
              "        vertical-align: middle;\n",
              "    }\n",
              "\n",
              "    .dataframe tbody tr th {\n",
              "        vertical-align: top;\n",
              "    }\n",
              "\n",
              "    .dataframe thead th {\n",
              "        text-align: right;\n",
              "    }\n",
              "</style>\n",
              "<table border=\"1\" class=\"dataframe\">\n",
              "  <thead>\n",
              "    <tr style=\"text-align: right;\">\n",
              "      <th></th>\n",
              "      <th>id</th>\n",
              "      <th>date</th>\n",
              "      <th>price</th>\n",
              "      <th>bedrooms</th>\n",
              "      <th>bathrooms</th>\n",
              "      <th>sqft_living</th>\n",
              "      <th>sqft_lot</th>\n",
              "      <th>floors</th>\n",
              "      <th>waterfront</th>\n",
              "      <th>view</th>\n",
              "      <th>condition</th>\n",
              "      <th>grade</th>\n",
              "      <th>sqft_above</th>\n",
              "      <th>sqft_basement</th>\n",
              "      <th>yr_built</th>\n",
              "      <th>yr_renovated</th>\n",
              "      <th>zipcode</th>\n",
              "      <th>lat</th>\n",
              "      <th>long</th>\n",
              "      <th>sqft_living15</th>\n",
              "      <th>sqft_lot15</th>\n",
              "    </tr>\n",
              "  </thead>\n",
              "  <tbody>\n",
              "    <tr>\n",
              "      <th>0</th>\n",
              "      <td>7129300520</td>\n",
              "      <td>20141013T000000</td>\n",
              "      <td>221900.0</td>\n",
              "      <td>3</td>\n",
              "      <td>1.00</td>\n",
              "      <td>1180</td>\n",
              "      <td>5650</td>\n",
              "      <td>1.0</td>\n",
              "      <td>0</td>\n",
              "      <td>0</td>\n",
              "      <td>3</td>\n",
              "      <td>7</td>\n",
              "      <td>1180</td>\n",
              "      <td>0</td>\n",
              "      <td>1955</td>\n",
              "      <td>0</td>\n",
              "      <td>98178</td>\n",
              "      <td>47.5112</td>\n",
              "      <td>-122.257</td>\n",
              "      <td>1340</td>\n",
              "      <td>5650</td>\n",
              "    </tr>\n",
              "    <tr>\n",
              "      <th>1</th>\n",
              "      <td>6414100192</td>\n",
              "      <td>20141209T000000</td>\n",
              "      <td>538000.0</td>\n",
              "      <td>3</td>\n",
              "      <td>2.25</td>\n",
              "      <td>2570</td>\n",
              "      <td>7242</td>\n",
              "      <td>2.0</td>\n",
              "      <td>0</td>\n",
              "      <td>0</td>\n",
              "      <td>3</td>\n",
              "      <td>7</td>\n",
              "      <td>2170</td>\n",
              "      <td>400</td>\n",
              "      <td>1951</td>\n",
              "      <td>1991</td>\n",
              "      <td>98125</td>\n",
              "      <td>47.7210</td>\n",
              "      <td>-122.319</td>\n",
              "      <td>1690</td>\n",
              "      <td>7639</td>\n",
              "    </tr>\n",
              "  </tbody>\n",
              "</table>\n",
              "</div>"
            ],
            "text/plain": [
              "           id             date     price  ...     long  sqft_living15  sqft_lot15\n",
              "0  7129300520  20141013T000000  221900.0  ... -122.257           1340        5650\n",
              "1  6414100192  20141209T000000  538000.0  ... -122.319           1690        7639\n",
              "\n",
              "[2 rows x 21 columns]"
            ]
          },
          "metadata": {},
          "execution_count": 96
        }
      ]
    },
    {
      "cell_type": "markdown",
      "metadata": {
        "id": "gNdnFo7k63Al"
      },
      "source": [
        "EXploracion"
      ]
    },
    {
      "cell_type": "code",
      "metadata": {
        "colab": {
          "base_uri": "https://localhost:8080/"
        },
        "id": "7-hsT9No64zS",
        "outputId": "fdf4dc2f-4de3-46a2-8129-afa5d3d1f272"
      },
      "source": [
        "kcHouseData_df.info()"
      ],
      "execution_count": 97,
      "outputs": [
        {
          "output_type": "stream",
          "name": "stdout",
          "text": [
            "<class 'pandas.core.frame.DataFrame'>\n",
            "RangeIndex: 21613 entries, 0 to 21612\n",
            "Data columns (total 21 columns):\n",
            " #   Column         Non-Null Count  Dtype  \n",
            "---  ------         --------------  -----  \n",
            " 0   id             21613 non-null  int64  \n",
            " 1   date           21613 non-null  object \n",
            " 2   price          21613 non-null  float64\n",
            " 3   bedrooms       21613 non-null  int64  \n",
            " 4   bathrooms      21613 non-null  float64\n",
            " 5   sqft_living    21613 non-null  int64  \n",
            " 6   sqft_lot       21613 non-null  int64  \n",
            " 7   floors         21613 non-null  float64\n",
            " 8   waterfront     21613 non-null  int64  \n",
            " 9   view           21613 non-null  int64  \n",
            " 10  condition      21613 non-null  int64  \n",
            " 11  grade          21613 non-null  int64  \n",
            " 12  sqft_above     21613 non-null  int64  \n",
            " 13  sqft_basement  21613 non-null  int64  \n",
            " 14  yr_built       21613 non-null  int64  \n",
            " 15  yr_renovated   21613 non-null  int64  \n",
            " 16  zipcode        21613 non-null  int64  \n",
            " 17  lat            21613 non-null  float64\n",
            " 18  long           21613 non-null  float64\n",
            " 19  sqft_living15  21613 non-null  int64  \n",
            " 20  sqft_lot15     21613 non-null  int64  \n",
            "dtypes: float64(5), int64(15), object(1)\n",
            "memory usage: 3.5+ MB\n"
          ]
        }
      ]
    },
    {
      "cell_type": "markdown",
      "metadata": {
        "id": "14DZQp567AjR"
      },
      "source": [
        "#body Counts"
      ]
    },
    {
      "cell_type": "code",
      "metadata": {
        "colab": {
          "base_uri": "https://localhost:8080/",
          "height": 576,
          "referenced_widgets": [
            "080a7046bcee4eb79d98779f82043599",
            "6ac058e9718f49c9bd83b698436a2d25",
            "40c972358cd3444b988495888f5821c1",
            "b713d430bd494c1594a4fd5f4bc0531c",
            "eee7e5025043449dbc9407b0f4d3ef34",
            "3799e03035604ef0972d75e3408634e4",
            "50184c2c1e2243b29499c98c09228666"
          ]
        },
        "id": "Fha0M2ME7C-R",
        "outputId": "b88d4c64-1bfd-4086-d15c-fcf7659015b5"
      },
      "source": [
        "from google.colab import widgets\n",
        "\n",
        "#estoy trabajando esta funcion.\n",
        "def f(varCol=0):\n",
        "  df=kcHouseData_df\n",
        "  output.clear()\n",
        "  f=df.iloc[:,[varCol]];\n",
        "  f=f.value_counts()\n",
        "  f=pd.DataFrame(f)\n",
        "  #print(f\"csm {df.iloc[:,[x]].columns}\")\n",
        "  #print(\"Variable \", colored(f\"*{df.iloc[:,[x]].column}*\",'red'))\n",
        "  #f.index.name =df.iloc[:,[x]].columns\n",
        "  f.columns = ['count']\n",
        "\n",
        "  print(\"Variable \", colored(f\"*{varCol}*  dtype:{df.dtypes[varCol]}\",'red'))\n",
        "  print(\"-----\")\n",
        "  print(f\"{len(f.index)} Categorias\")\n",
        "  print(f\"{df.shape[0]-f.values.sum()} perdidos de  {df.shape[0]}\")\n",
        "  if len(f.index)== df.shape[0]:\n",
        "    print(\"UNICO, se podria usar de indice\")\n",
        " \n",
        " \n",
        "  return f;\n",
        "  \n",
        "interact(f, varCol=(0,len(kcHouseData_df.columns)-1))"
      ],
      "execution_count": 98,
      "outputs": [
        {
          "output_type": "display_data",
          "data": {
            "application/vnd.jupyter.widget-view+json": {
              "model_id": "080a7046bcee4eb79d98779f82043599",
              "version_minor": 0,
              "version_major": 2
            },
            "text/plain": [
              "interactive(children=(IntSlider(value=0, description='varCol', max=20), Output()), _dom_classes=('widget-inter…"
            ]
          },
          "metadata": {}
        },
        {
          "output_type": "execute_result",
          "data": {
            "text/plain": [
              "<function __main__.f>"
            ]
          },
          "metadata": {},
          "execution_count": 98
        }
      ]
    },
    {
      "cell_type": "markdown",
      "metadata": {
        "id": "XnbSb6EF8t1y"
      },
      "source": [
        "#Preparamos dataset para facilitar su proceso"
      ]
    },
    {
      "cell_type": "code",
      "metadata": {
        "id": "bTdVd-aG8xWa"
      },
      "source": [
        "kcHouseData_df.index=kcHouseData_df[\"id\"]\n",
        "kcHouseData_df.drop(columns=[\"date\",\"id\"],inplace=True)"
      ],
      "execution_count": 99,
      "outputs": []
    },
    {
      "cell_type": "code",
      "metadata": {
        "id": "XSGFnNmDHu8L"
      },
      "source": [
        "X=kcHouseData_df.drop(columns=[\"price\"])\n",
        "y=kcHouseData_df[\"price\"]"
      ],
      "execution_count": 100,
      "outputs": []
    },
    {
      "cell_type": "code",
      "metadata": {
        "id": "yDVUT1X0H6dL"
      },
      "source": [
        "X_train,X_test,y_train,y_test = train_test_split(X,y,random_state=3)"
      ],
      "execution_count": 69,
      "outputs": []
    },
    {
      "cell_type": "code",
      "metadata": {
        "colab": {
          "base_uri": "https://localhost:8080/"
        },
        "id": "ZyGC1NauIJe4",
        "outputId": "6beabb6b-1229-42ea-d21d-1ad8182e2734"
      },
      "source": [
        "bt=BaggingRegressor()\n",
        "bt.fit(X_train,y_train)"
      ],
      "execution_count": 101,
      "outputs": [
        {
          "output_type": "execute_result",
          "data": {
            "text/plain": [
              "BaggingRegressor(base_estimator=None, bootstrap=True, bootstrap_features=False,\n",
              "                 max_features=1.0, max_samples=1.0, n_estimators=10,\n",
              "                 n_jobs=None, oob_score=False, random_state=None, verbose=0,\n",
              "                 warm_start=False)"
            ]
          },
          "metadata": {},
          "execution_count": 101
        }
      ]
    },
    {
      "cell_type": "code",
      "metadata": {
        "colab": {
          "base_uri": "https://localhost:8080/"
        },
        "id": "G3YD403zIjqh",
        "outputId": "b69ebad7-3d60-4ff3-ce94-c08892723f7e"
      },
      "source": [
        "#training R2\n",
        "bt.score(X_train,y_train)"
      ],
      "execution_count": 102,
      "outputs": [
        {
          "output_type": "execute_result",
          "data": {
            "text/plain": [
              "0.975225015768655"
            ]
          },
          "metadata": {},
          "execution_count": 102
        }
      ]
    },
    {
      "cell_type": "code",
      "metadata": {
        "colab": {
          "base_uri": "https://localhost:8080/"
        },
        "id": "lDSJh4T7IwdL",
        "outputId": "443bf6bc-758d-4556-ca14-bf5d9a91ffb6"
      },
      "source": [
        "#Testing R2\n",
        "bt.score(X_test,y_test)"
      ],
      "execution_count": 103,
      "outputs": [
        {
          "output_type": "execute_result",
          "data": {
            "text/plain": [
              "0.8698847803046511"
            ]
          },
          "metadata": {},
          "execution_count": 103
        }
      ]
    },
    {
      "cell_type": "markdown",
      "metadata": {
        "id": "PF8AhUN1Jb8U"
      },
      "source": [
        "Ahora Random Forest"
      ]
    },
    {
      "cell_type": "code",
      "metadata": {
        "colab": {
          "base_uri": "https://localhost:8080/"
        },
        "id": "WV3pS04VJWaK",
        "outputId": "c89bb7f7-5588-431a-f5f6-bf3021dcc11a"
      },
      "source": [
        "rf=RandomForestRegressor()\n",
        "rf.fit(X_train,y_train)"
      ],
      "execution_count": 104,
      "outputs": [
        {
          "output_type": "execute_result",
          "data": {
            "text/plain": [
              "RandomForestRegressor(bootstrap=True, ccp_alpha=0.0, criterion='mse',\n",
              "                      max_depth=None, max_features='auto', max_leaf_nodes=None,\n",
              "                      max_samples=None, min_impurity_decrease=0.0,\n",
              "                      min_impurity_split=None, min_samples_leaf=1,\n",
              "                      min_samples_split=2, min_weight_fraction_leaf=0.0,\n",
              "                      n_estimators=100, n_jobs=None, oob_score=False,\n",
              "                      random_state=None, verbose=0, warm_start=False)"
            ]
          },
          "metadata": {},
          "execution_count": 104
        }
      ]
    },
    {
      "cell_type": "code",
      "metadata": {
        "colab": {
          "base_uri": "https://localhost:8080/"
        },
        "id": "G6wyR6OTJqmv",
        "outputId": "976ae1ec-7c31-486b-e7a0-8cc728760ad4"
      },
      "source": [
        "#training R2\n",
        "rf.score(X_train,y_train)"
      ],
      "execution_count": 105,
      "outputs": [
        {
          "output_type": "execute_result",
          "data": {
            "text/plain": [
              "0.9816849671409719"
            ]
          },
          "metadata": {},
          "execution_count": 105
        }
      ]
    },
    {
      "cell_type": "code",
      "metadata": {
        "colab": {
          "base_uri": "https://localhost:8080/"
        },
        "id": "iWvbPqHDJtpt",
        "outputId": "5286db3d-da64-4ca0-ad12-a8c8087590ec"
      },
      "source": [
        "#test R2\n",
        "rf.score(X_test,y_test)"
      ],
      "execution_count": 106,
      "outputs": [
        {
          "output_type": "execute_result",
          "data": {
            "text/plain": [
              "0.884892359562453"
            ]
          },
          "metadata": {},
          "execution_count": 106
        }
      ]
    },
    {
      "cell_type": "markdown",
      "metadata": {
        "id": "VlEhUnR_J9bC"
      },
      "source": [
        "Cuales la columna mas relevante"
      ]
    },
    {
      "cell_type": "code",
      "metadata": {
        "id": "wJyNB5P-KCTG"
      },
      "source": [
        "rf_features=pd.DataFrame({'feature':X_train.columns,\"feature_importance\":rf.feature_importances_})\n",
        "rf_features.sort_values(by=\"feature_importance\",inplace=True)"
      ],
      "execution_count": 76,
      "outputs": []
    },
    {
      "cell_type": "code",
      "metadata": {
        "colab": {
          "base_uri": "https://localhost:8080/",
          "height": 612
        },
        "id": "HPzFuSkqKK_X",
        "outputId": "30425c39-12ff-4ff3-8f63-3b4dad0c45aa"
      },
      "source": [
        "rf_features"
      ],
      "execution_count": 107,
      "outputs": [
        {
          "output_type": "execute_result",
          "data": {
            "text/html": [
              "<div>\n",
              "<style scoped>\n",
              "    .dataframe tbody tr th:only-of-type {\n",
              "        vertical-align: middle;\n",
              "    }\n",
              "\n",
              "    .dataframe tbody tr th {\n",
              "        vertical-align: top;\n",
              "    }\n",
              "\n",
              "    .dataframe thead th {\n",
              "        text-align: right;\n",
              "    }\n",
              "</style>\n",
              "<table border=\"1\" class=\"dataframe\">\n",
              "  <thead>\n",
              "    <tr style=\"text-align: right;\">\n",
              "      <th></th>\n",
              "      <th>feature</th>\n",
              "      <th>feature_importance</th>\n",
              "    </tr>\n",
              "  </thead>\n",
              "  <tbody>\n",
              "    <tr>\n",
              "      <th>12</th>\n",
              "      <td>yr_renovated</td>\n",
              "      <td>0.002181</td>\n",
              "    </tr>\n",
              "    <tr>\n",
              "      <th>4</th>\n",
              "      <td>floors</td>\n",
              "      <td>0.002197</td>\n",
              "    </tr>\n",
              "    <tr>\n",
              "      <th>7</th>\n",
              "      <td>condition</td>\n",
              "      <td>0.002704</td>\n",
              "    </tr>\n",
              "    <tr>\n",
              "      <th>0</th>\n",
              "      <td>bedrooms</td>\n",
              "      <td>0.003190</td>\n",
              "    </tr>\n",
              "    <tr>\n",
              "      <th>10</th>\n",
              "      <td>sqft_basement</td>\n",
              "      <td>0.005781</td>\n",
              "    </tr>\n",
              "    <tr>\n",
              "      <th>1</th>\n",
              "      <td>bathrooms</td>\n",
              "      <td>0.006060</td>\n",
              "    </tr>\n",
              "    <tr>\n",
              "      <th>13</th>\n",
              "      <td>zipcode</td>\n",
              "      <td>0.012709</td>\n",
              "    </tr>\n",
              "    <tr>\n",
              "      <th>17</th>\n",
              "      <td>sqft_lot15</td>\n",
              "      <td>0.013258</td>\n",
              "    </tr>\n",
              "    <tr>\n",
              "      <th>3</th>\n",
              "      <td>sqft_lot</td>\n",
              "      <td>0.013813</td>\n",
              "    </tr>\n",
              "    <tr>\n",
              "      <th>6</th>\n",
              "      <td>view</td>\n",
              "      <td>0.017185</td>\n",
              "    </tr>\n",
              "    <tr>\n",
              "      <th>9</th>\n",
              "      <td>sqft_above</td>\n",
              "      <td>0.019918</td>\n",
              "    </tr>\n",
              "    <tr>\n",
              "      <th>5</th>\n",
              "      <td>waterfront</td>\n",
              "      <td>0.023465</td>\n",
              "    </tr>\n",
              "    <tr>\n",
              "      <th>11</th>\n",
              "      <td>yr_built</td>\n",
              "      <td>0.028726</td>\n",
              "    </tr>\n",
              "    <tr>\n",
              "      <th>16</th>\n",
              "      <td>sqft_living15</td>\n",
              "      <td>0.032244</td>\n",
              "    </tr>\n",
              "    <tr>\n",
              "      <th>15</th>\n",
              "      <td>long</td>\n",
              "      <td>0.066044</td>\n",
              "    </tr>\n",
              "    <tr>\n",
              "      <th>14</th>\n",
              "      <td>lat</td>\n",
              "      <td>0.160106</td>\n",
              "    </tr>\n",
              "    <tr>\n",
              "      <th>2</th>\n",
              "      <td>sqft_living</td>\n",
              "      <td>0.289601</td>\n",
              "    </tr>\n",
              "    <tr>\n",
              "      <th>8</th>\n",
              "      <td>grade</td>\n",
              "      <td>0.300821</td>\n",
              "    </tr>\n",
              "  </tbody>\n",
              "</table>\n",
              "</div>"
            ],
            "text/plain": [
              "          feature  feature_importance\n",
              "12   yr_renovated            0.002181\n",
              "4          floors            0.002197\n",
              "7       condition            0.002704\n",
              "0        bedrooms            0.003190\n",
              "10  sqft_basement            0.005781\n",
              "1       bathrooms            0.006060\n",
              "13        zipcode            0.012709\n",
              "17     sqft_lot15            0.013258\n",
              "3        sqft_lot            0.013813\n",
              "6            view            0.017185\n",
              "9      sqft_above            0.019918\n",
              "5      waterfront            0.023465\n",
              "11       yr_built            0.028726\n",
              "16  sqft_living15            0.032244\n",
              "15           long            0.066044\n",
              "14            lat            0.160106\n",
              "2     sqft_living            0.289601\n",
              "8           grade            0.300821"
            ]
          },
          "metadata": {},
          "execution_count": 107
        }
      ]
    },
    {
      "cell_type": "markdown",
      "metadata": {
        "id": "RlwGJ3KkX6dg"
      },
      "source": [
        "Latitud,metros cuadrados y grado."
      ]
    },
    {
      "cell_type": "code",
      "metadata": {
        "id": "aKmUp6qQLKfQ"
      },
      "source": [
        "plt.figure(figsize=(12,5))\n",
        "plt.barh(rf_feature[\"feature\"],rf_feature[\"feature_importance\"]);"
      ],
      "execution_count": null,
      "outputs": []
    },
    {
      "cell_type": "markdown",
      "metadata": {
        "id": "wFX-K9yYQ9IW"
      },
      "source": [
        "#que otros parametros pudimos tunear"
      ]
    },
    {
      "cell_type": "code",
      "metadata": {
        "id": "u2rv-OUGMRtm"
      },
      "source": [
        "#param_grid = [{'max_depth': [2,3,4,5,6,7,8,9,10], 'n_estimators': [10,20,30,40,50,60,70,80,90,100], 'max_samples': [0.05,0.1,0.15]}]\n",
        "param_grid = [{'n_estimators': [10,20,30,40,50,60,70,80,90,100]}]\n"
      ],
      "execution_count": 108,
      "outputs": []
    },
    {
      "cell_type": "code",
      "metadata": {
        "id": "_8tbNEHUQ78T"
      },
      "source": [
        "rf= GridSearchCV(estimator =RandomForestRegressor() , param_grid = param_grid, scoring = 'neg_mean_squared_error', cv=10) \n"
      ],
      "execution_count": 109,
      "outputs": []
    },
    {
      "cell_type": "code",
      "metadata": {
        "id": "4IodDrFlVaQE"
      },
      "source": [
        "rf.fit(X_train, y_train)"
      ],
      "execution_count": null,
      "outputs": []
    },
    {
      "cell_type": "code",
      "metadata": {
        "colab": {
          "base_uri": "https://localhost:8080/"
        },
        "id": "GwlM4esaV8_5",
        "outputId": "eba58429-dc90-4adc-8912-eaf4da0c01a3"
      },
      "source": [
        "print(\"Mejor score (error minimo cuadrado negativo): \", rf.best_score_)\n",
        "print(\"Mejores hiperparámetros: \", rf.best_params_)\n",
        "print(\"Mejor modelo: \", rf.best_estimator_)\n",
        "\n",
        "model = rf.best_estimator_"
      ],
      "execution_count": 94,
      "outputs": [
        {
          "output_type": "stream",
          "name": "stdout",
          "text": [
            "Mejor score (error minimo cuadrado negativo):  -46957913851.86029\n",
            "Mejores hiperparámetros:  {'max_depth': 3}\n",
            "Mejor modelo:  RandomForestRegressor(bootstrap=True, ccp_alpha=0.0, criterion='mse',\n",
            "                      max_depth=3, max_features='auto', max_leaf_nodes=None,\n",
            "                      max_samples=None, min_impurity_decrease=0.0,\n",
            "                      min_impurity_split=None, min_samples_leaf=1,\n",
            "                      min_samples_split=2, min_weight_fraction_leaf=0.0,\n",
            "                      n_estimators=100, n_jobs=None, oob_score=False,\n",
            "                      random_state=None, verbose=0, warm_start=False)\n"
          ]
        }
      ]
    },
    {
      "cell_type": "code",
      "metadata": {
        "colab": {
          "base_uri": "https://localhost:8080/"
        },
        "id": "CV8zbpCKWWjC",
        "outputId": "410aa725-5827-4e65-d26b-e0ad7fd8228a"
      },
      "source": [
        "rf.score(X_test,y_test)"
      ],
      "execution_count": 90,
      "outputs": [
        {
          "output_type": "execute_result",
          "data": {
            "text/plain": [
              "-30197379419.928486"
            ]
          },
          "metadata": {},
          "execution_count": 90
        }
      ]
    },
    {
      "cell_type": "markdown",
      "metadata": {
        "id": "EZOSXgj-YBCJ"
      },
      "source": [
        "No logre interpretar el error negativo cuadrado, el cual se disaro."
      ]
    },
    {
      "cell_type": "code",
      "metadata": {
        "id": "kdK2CPXOQNVb"
      },
      "source": [
        ""
      ],
      "execution_count": null,
      "outputs": []
    },
    {
      "cell_type": "code",
      "metadata": {
        "id": "V1j16cI4VZG6"
      },
      "source": [
        ""
      ],
      "execution_count": null,
      "outputs": []
    }
  ]
}