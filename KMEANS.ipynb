{
  "nbformat": 4,
  "nbformat_minor": 0,
  "metadata": {
    "colab": {
      "name": "KMEANS.ipynb",
      "provenance": [],
      "collapsed_sections": [],
      "mount_file_id": "1So7mOGcHrT9utZk2tP0cv1UsPZ2tio5F",
      "authorship_tag": "ABX9TyOj0KVJUqDKQE2zwyGLOy1i",
      "include_colab_link": true
    },
    "kernelspec": {
      "name": "python3",
      "display_name": "Python 3"
    },
    "language_info": {
      "name": "python"
    }
  },
  "cells": [
    {
      "cell_type": "markdown",
      "metadata": {
        "id": "view-in-github",
        "colab_type": "text"
      },
      "source": [
        "<a href=\"https://colab.research.google.com/github/valentingracia/codingDojoDC/blob/main/KMEANS.ipynb\" target=\"_parent\"><img src=\"https://colab.research.google.com/assets/colab-badge.svg\" alt=\"Open In Colab\"/></a>"
      ]
    },
    {
      "cell_type": "code",
      "metadata": {
        "id": "1ehHi4yf9SB8"
      },
      "source": [
        "#libraries\n",
        "import matplotlib.pyplot as plt\n",
        "import seaborn as sb\n",
        "import pandas as pd\n",
        "import numpy as np\n",
        "from sklearn.preprocessing import StandardScaler\n",
        "\n",
        "#modelo\n",
        "from sklearn.cluster import KMeans\n"
      ],
      "execution_count": 124,
      "outputs": []
    },
    {
      "cell_type": "code",
      "metadata": {
        "id": "rbOzxl8w94Fo"
      },
      "source": [
        "#dataset\n",
        "my_df=pd.read_csv(\"/content/drive/MyDrive/Coding Dojo/noSupervisado/cust_seg.csv\",index_col=\"Customer Id\")"
      ],
      "execution_count": 125,
      "outputs": []
    },
    {
      "cell_type": "code",
      "metadata": {
        "id": "Q2tbFjKF-ebl"
      },
      "source": [
        "my_df.drop(columns=[\"Unnamed: 0\"],inplace=True)"
      ],
      "execution_count": 126,
      "outputs": []
    },
    {
      "cell_type": "code",
      "metadata": {
        "colab": {
          "base_uri": "https://localhost:8080/"
        },
        "id": "9mtEkJhj_IlC",
        "outputId": "599d3707-edf2-44f3-f1a4-92f8a7c04c2d"
      },
      "source": [
        "my_df.info()"
      ],
      "execution_count": 127,
      "outputs": [
        {
          "output_type": "stream",
          "name": "stdout",
          "text": [
            "<class 'pandas.core.frame.DataFrame'>\n",
            "Int64Index: 850 entries, 1 to 850\n",
            "Data columns (total 8 columns):\n",
            " #   Column           Non-Null Count  Dtype  \n",
            "---  ------           --------------  -----  \n",
            " 0   Age              850 non-null    int64  \n",
            " 1   Edu              850 non-null    int64  \n",
            " 2   Years Employed   850 non-null    int64  \n",
            " 3   Income           850 non-null    int64  \n",
            " 4   Card Debt        850 non-null    float64\n",
            " 5   Other Debt       850 non-null    float64\n",
            " 6   Defaulted        700 non-null    float64\n",
            " 7   DebtIncomeRatio  850 non-null    float64\n",
            "dtypes: float64(4), int64(4)\n",
            "memory usage: 59.8 KB\n"
          ]
        }
      ]
    },
    {
      "cell_type": "code",
      "metadata": {
        "colab": {
          "base_uri": "https://localhost:8080/"
        },
        "id": "eI73apwz_048",
        "outputId": "eb4cee61-2d4a-4da0-b456-9c97b4348112"
      },
      "source": [
        "#missing values\n",
        "my_df[\"Defaulted\"].value_counts()"
      ],
      "execution_count": 128,
      "outputs": [
        {
          "output_type": "execute_result",
          "data": {
            "text/plain": [
              "0.0    517\n",
              "1.0    183\n",
              "Name: Defaulted, dtype: int64"
            ]
          },
          "metadata": {},
          "execution_count": 128
        }
      ]
    },
    {
      "cell_type": "code",
      "metadata": {
        "id": "pTJK_eNK__OH"
      },
      "source": [
        "#Drop missings\n",
        "#Not best solutions\n",
        "my_df.dropna(inplace=True)\n"
      ],
      "execution_count": 129,
      "outputs": []
    },
    {
      "cell_type": "code",
      "metadata": {
        "id": "tnPO48QfAUtk"
      },
      "source": [
        "#Escalamos Dataset\n",
        "scaler=StandardScaler()\n",
        "\n",
        "#En no supervisado podemos hacer los dos pasos, si miedo del leakage\n",
        "scaled_df=scaler.fit_transform(my_df)\n"
      ],
      "execution_count": 130,
      "outputs": []
    },
    {
      "cell_type": "code",
      "metadata": {
        "colab": {
          "base_uri": "https://localhost:8080/"
        },
        "id": "GMVO28F1A0IO",
        "outputId": "a80643b7-d752-49e9-c582-d017e89ed405"
      },
      "source": [
        "kmeans=KMeans(n_clusters=5)\n",
        "kmeans.fit(scaled_df)"
      ],
      "execution_count": 131,
      "outputs": [
        {
          "output_type": "execute_result",
          "data": {
            "text/plain": [
              "KMeans(algorithm='auto', copy_x=True, init='k-means++', max_iter=300,\n",
              "       n_clusters=5, n_init=10, n_jobs=None, precompute_distances='auto',\n",
              "       random_state=None, tol=0.0001, verbose=0)"
            ]
          },
          "metadata": {},
          "execution_count": 131
        }
      ]
    },
    {
      "cell_type": "code",
      "metadata": {
        "id": "gG6dRGQpBlVU"
      },
      "source": [
        "#nueva columna de clusters\n",
        "my_df[\"cluster\"]=kmeans.labels_"
      ],
      "execution_count": 132,
      "outputs": []
    },
    {
      "cell_type": "code",
      "metadata": {
        "colab": {
          "base_uri": "https://localhost:8080/",
          "height": 257
        },
        "id": "ITBglC9qCkBP",
        "outputId": "96435909-9c2f-4e31-caaa-336a643dca3e"
      },
      "source": [
        "my_df.head(4)"
      ],
      "execution_count": 133,
      "outputs": [
        {
          "output_type": "execute_result",
          "data": {
            "text/html": [
              "<div>\n",
              "<style scoped>\n",
              "    .dataframe tbody tr th:only-of-type {\n",
              "        vertical-align: middle;\n",
              "    }\n",
              "\n",
              "    .dataframe tbody tr th {\n",
              "        vertical-align: top;\n",
              "    }\n",
              "\n",
              "    .dataframe thead th {\n",
              "        text-align: right;\n",
              "    }\n",
              "</style>\n",
              "<table border=\"1\" class=\"dataframe\">\n",
              "  <thead>\n",
              "    <tr style=\"text-align: right;\">\n",
              "      <th></th>\n",
              "      <th>Age</th>\n",
              "      <th>Edu</th>\n",
              "      <th>Years Employed</th>\n",
              "      <th>Income</th>\n",
              "      <th>Card Debt</th>\n",
              "      <th>Other Debt</th>\n",
              "      <th>Defaulted</th>\n",
              "      <th>DebtIncomeRatio</th>\n",
              "      <th>cluster</th>\n",
              "    </tr>\n",
              "    <tr>\n",
              "      <th>Customer Id</th>\n",
              "      <th></th>\n",
              "      <th></th>\n",
              "      <th></th>\n",
              "      <th></th>\n",
              "      <th></th>\n",
              "      <th></th>\n",
              "      <th></th>\n",
              "      <th></th>\n",
              "      <th></th>\n",
              "    </tr>\n",
              "  </thead>\n",
              "  <tbody>\n",
              "    <tr>\n",
              "      <th>1</th>\n",
              "      <td>41</td>\n",
              "      <td>2</td>\n",
              "      <td>6</td>\n",
              "      <td>19</td>\n",
              "      <td>0.124</td>\n",
              "      <td>1.073</td>\n",
              "      <td>0.0</td>\n",
              "      <td>6.3</td>\n",
              "      <td>3</td>\n",
              "    </tr>\n",
              "    <tr>\n",
              "      <th>2</th>\n",
              "      <td>47</td>\n",
              "      <td>1</td>\n",
              "      <td>26</td>\n",
              "      <td>100</td>\n",
              "      <td>4.582</td>\n",
              "      <td>8.218</td>\n",
              "      <td>0.0</td>\n",
              "      <td>12.8</td>\n",
              "      <td>1</td>\n",
              "    </tr>\n",
              "    <tr>\n",
              "      <th>3</th>\n",
              "      <td>33</td>\n",
              "      <td>2</td>\n",
              "      <td>10</td>\n",
              "      <td>57</td>\n",
              "      <td>6.111</td>\n",
              "      <td>5.802</td>\n",
              "      <td>1.0</td>\n",
              "      <td>20.9</td>\n",
              "      <td>0</td>\n",
              "    </tr>\n",
              "    <tr>\n",
              "      <th>4</th>\n",
              "      <td>29</td>\n",
              "      <td>2</td>\n",
              "      <td>4</td>\n",
              "      <td>19</td>\n",
              "      <td>0.681</td>\n",
              "      <td>0.516</td>\n",
              "      <td>0.0</td>\n",
              "      <td>6.3</td>\n",
              "      <td>3</td>\n",
              "    </tr>\n",
              "  </tbody>\n",
              "</table>\n",
              "</div>"
            ],
            "text/plain": [
              "             Age  Edu  Years Employed  ...  Defaulted  DebtIncomeRatio  cluster\n",
              "Customer Id                            ...                                     \n",
              "1             41    2               6  ...        0.0              6.3        3\n",
              "2             47    1              26  ...        0.0             12.8        1\n",
              "3             33    2              10  ...        1.0             20.9        0\n",
              "4             29    2               4  ...        0.0              6.3        3\n",
              "\n",
              "[4 rows x 9 columns]"
            ]
          },
          "metadata": {},
          "execution_count": 133
        }
      ]
    },
    {
      "cell_type": "code",
      "metadata": {
        "colab": {
          "base_uri": "https://localhost:8080/",
          "height": 279
        },
        "id": "f6gBy8PsDQXQ",
        "outputId": "c1b5fdcb-d3f6-4bd8-bab3-22a7c4eefdd1"
      },
      "source": [
        "#visualizacion\n",
        "\n",
        "plt.scatter(my_df['Age'],my_df['Income'],c=my_df[\"cluster\"])\n",
        "plt.xlabel(\"Age\")\n",
        "plt.ylabel(\"Income\");"
      ],
      "execution_count": 134,
      "outputs": [
        {
          "output_type": "display_data",
          "data": {
            "image/png": "[encoded data removed]",
            "text/plain": [
              "<Figure size 432x288 with 1 Axes>"
            ]
          },
          "metadata": {
            "needs_background": "light"
          }
        }
      ]
    },
    {
      "cell_type": "code",
      "metadata": {
        "colab": {
          "base_uri": "https://localhost:8080/"
        },
        "id": "wX7Jb8aTEsay",
        "outputId": "7cd3e1e6-b432-414a-99f7-8a7ffdbddcba"
      },
      "source": [
        "my_df.cluster.value_counts()"
      ],
      "execution_count": 135,
      "outputs": [
        {
          "output_type": "execute_result",
          "data": {
            "text/plain": [
              "3    285\n",
              "1    153\n",
              "0    150\n",
              "2     80\n",
              "4     32\n",
              "Name: cluster, dtype: int64"
            ]
          },
          "metadata": {},
          "execution_count": 135
        }
      ]
    },
    {
      "cell_type": "code",
      "metadata": {
        "id": "le6gnfRPE4ez"
      },
      "source": [
        "seg1=my_df[my_df[\"cluster\"]==0]\n",
        "seg2=my_df[my_df[\"cluster\"]==1]\n",
        "seg3=my_df[my_df[\"cluster\"]==2]\n",
        "seg4=my_df[my_df[\"cluster\"]==3]\n",
        "seg5=my_df[my_df[\"cluster\"]==4]"
      ],
      "execution_count": 136,
      "outputs": []
    },
    {
      "cell_type": "code",
      "metadata": {
        "colab": {
          "base_uri": "https://localhost:8080/"
        },
        "id": "A_9uCgHVFDWl",
        "outputId": "e60fa9cb-6047-4358-b50c-b0bb1b1cd10b"
      },
      "source": [
        "cust_segs=[seg1,seg2,seg3,seg4,seg5]\n",
        "\n",
        "for seg in cust_segs:\n",
        "  print(seg.describe().T)\n"
      ],
      "execution_count": 142,
      "outputs": [
        {
          "output_type": "stream",
          "name": "stdout",
          "text": [
            "                 count       mean        std  ...      50%       75%     max\n",
            "Age              150.0  31.753333   7.978105  ...  29.5000  36.00000  55.000\n",
            "Edu              150.0   1.693333   0.759253  ...   2.0000   2.00000   4.000\n",
            "Years Employed   150.0   4.013333   3.669184  ...   3.0000   6.00000  15.000\n",
            "Income           150.0  30.360000  14.301302  ...  27.0000  38.50000  94.000\n",
            "Card Debt        150.0   1.638233   1.463537  ...   1.2095   2.25000   6.912\n",
            "Other Debt       150.0   2.829527   2.168891  ...   2.3585   3.80075  10.754\n",
            "Defaulted        150.0   0.986667   0.115082  ...   1.0000   1.00000   1.000\n",
            "DebtIncomeRatio  150.0  14.460667   7.286826  ...  13.8000  19.12500  35.300\n",
            "cluster          150.0   0.000000   0.000000  ...   0.0000   0.00000   0.000\n",
            "\n",
            "[9 rows x 8 columns]\n",
            "                 count       mean        std  ...     50%     75%      max\n",
            "Age              153.0  41.666667   5.922748  ...  41.000  46.000   56.000\n",
            "Edu              153.0   1.477124   0.679444  ...   1.000   2.000    4.000\n",
            "Years Employed   153.0  16.464052   4.834125  ...  16.000  19.000   30.000\n",
            "Income           153.0  72.784314  31.561957  ...  66.000  89.000  242.000\n",
            "Card Debt        153.0   2.091346   1.479965  ...   1.641   2.995    6.589\n",
            "Other Debt       153.0   4.449065   2.919972  ...   4.047   5.978   12.714\n",
            "Defaulted        153.0   0.013072   0.113956  ...   0.000   0.000    1.000\n",
            "DebtIncomeRatio  153.0   9.952941   6.094519  ...   9.100  13.800   32.500\n",
            "cluster          153.0   1.000000   0.000000  ...   1.000   1.000    1.000\n",
            "\n",
            "[9 rows x 8 columns]\n",
            "                 count       mean        std  ...      50%       75%      max\n",
            "Age               80.0  33.637500   7.634439  ...  34.0000  38.00000   53.000\n",
            "Edu               80.0   3.475000   0.594809  ...   3.0000   4.00000    5.000\n",
            "Years Employed    80.0   4.975000   4.517126  ...   4.0000   9.00000   15.000\n",
            "Income            80.0  42.000000  24.946525  ...  34.5000  47.75000  177.000\n",
            "Card Debt         80.0   0.953987   0.835169  ...   0.7255   1.42050    4.936\n",
            "Other Debt        80.0   2.386037   1.911263  ...   1.7375   3.34425    9.555\n",
            "Defaulted         80.0   0.175000   0.382364  ...   0.0000   0.00000    1.000\n",
            "DebtIncomeRatio   80.0   8.503750   5.414828  ...   7.2000  11.20000   24.600\n",
            "cluster           80.0   2.000000   0.000000  ...   2.0000   2.00000    2.000\n",
            "\n",
            "[9 rows x 8 columns]\n",
            "                 count       mean        std  ...     50%     75%     max\n",
            "Age              285.0  32.256140   6.277700  ...  31.000  37.000  50.000\n",
            "Edu              285.0   1.308772   0.462799  ...   1.000   2.000   2.000\n",
            "Years Employed   285.0   6.326316   3.948905  ...   6.000   9.000  17.000\n",
            "Income           285.0  30.221053  11.578129  ...  27.000  36.000  82.000\n",
            "Card Debt        285.0   0.665270   0.628827  ...   0.450   0.883   3.703\n",
            "Other Debt       285.0   1.517246   0.997855  ...   1.281   2.076   5.960\n",
            "Defaulted        285.0   0.000000   0.000000  ...   0.000   0.000   0.000\n",
            "DebtIncomeRatio  285.0   7.658246   4.795073  ...   6.700  10.100  23.800\n",
            "cluster          285.0   3.000000   0.000000  ...   3.000   3.000   3.000\n",
            "\n",
            "[9 rows x 8 columns]\n",
            "                 count        mean        std  ...       50%        75%      max\n",
            "Age               32.0   43.125000   6.524149  ...   41.0000   47.25000   54.000\n",
            "Edu               32.0    2.343750   1.153099  ...    2.0000    3.00000    5.000\n",
            "Years Employed    32.0   17.187500   7.863503  ...   17.5000   21.25000   31.000\n",
            "Income            32.0  133.062500  83.682170  ...  110.0000  168.50000  446.000\n",
            "Card Debt         32.0    7.995750   4.706821  ...    7.1345    9.66925   20.561\n",
            "Other Debt        32.0   12.884469   5.328054  ...   12.3675   16.79725   27.034\n",
            "Defaulted         32.0    0.593750   0.498991  ...    1.0000    1.00000    1.000\n",
            "DebtIncomeRatio   32.0   19.612500   9.054236  ...   18.2500   25.60000   41.300\n",
            "cluster           32.0    4.000000   0.000000  ...    4.0000    4.00000    4.000\n",
            "\n",
            "[9 rows x 8 columns]\n"
          ]
        }
      ]
    },
    {
      "cell_type": "code",
      "metadata": {
        "id": "S_KL13V3GVzN"
      },
      "source": [
        "#algunos promedios\n",
        "age_means = [np.mean(seg[\"Age\"]) for seg in cust_segs]\n",
        "income_means = [np.mean(seg[\"Income\"]) for seg in cust_segs]\n",
        "cardDebt_means = [np.mean(seg[\"Card Debt\"]) for seg in cust_segs]\n"
      ],
      "execution_count": 148,
      "outputs": []
    },
    {
      "cell_type": "code",
      "metadata": {
        "colab": {
          "base_uri": "https://localhost:8080/",
          "height": 203
        },
        "id": "0gtAo7oQHAvI",
        "outputId": "7a8133ca-12b7-4dbf-c738-ebd75bea54ed"
      },
      "source": [
        "#dataframe salida\n",
        "\n",
        "summary_df=pd.DataFrame({\"cust_segs\":[\"seg1\",\"seg2\",\"seg3\",\"seg4\",\"seg5\"],\"Age Means\":age_means,\"Income Means\":income_means,\"Card Debt\":cardDebt_means})\n",
        "summary_df"
      ],
      "execution_count": 149,
      "outputs": [
        {
          "output_type": "execute_result",
          "data": {
            "text/html": [
              "<div>\n",
              "<style scoped>\n",
              "    .dataframe tbody tr th:only-of-type {\n",
              "        vertical-align: middle;\n",
              "    }\n",
              "\n",
              "    .dataframe tbody tr th {\n",
              "        vertical-align: top;\n",
              "    }\n",
              "\n",
              "    .dataframe thead th {\n",
              "        text-align: right;\n",
              "    }\n",
              "</style>\n",
              "<table border=\"1\" class=\"dataframe\">\n",
              "  <thead>\n",
              "    <tr style=\"text-align: right;\">\n",
              "      <th></th>\n",
              "      <th>cust_segs</th>\n",
              "      <th>Age Means</th>\n",
              "      <th>Income Means</th>\n",
              "      <th>Card Debt</th>\n",
              "    </tr>\n",
              "  </thead>\n",
              "  <tbody>\n",
              "    <tr>\n",
              "      <th>0</th>\n",
              "      <td>seg1</td>\n",
              "      <td>31.753333</td>\n",
              "      <td>30.360000</td>\n",
              "      <td>1.638233</td>\n",
              "    </tr>\n",
              "    <tr>\n",
              "      <th>1</th>\n",
              "      <td>seg2</td>\n",
              "      <td>41.666667</td>\n",
              "      <td>72.784314</td>\n",
              "      <td>2.091346</td>\n",
              "    </tr>\n",
              "    <tr>\n",
              "      <th>2</th>\n",
              "      <td>seg3</td>\n",
              "      <td>33.637500</td>\n",
              "      <td>42.000000</td>\n",
              "      <td>0.953987</td>\n",
              "    </tr>\n",
              "    <tr>\n",
              "      <th>3</th>\n",
              "      <td>seg4</td>\n",
              "      <td>32.256140</td>\n",
              "      <td>30.221053</td>\n",
              "      <td>0.665270</td>\n",
              "    </tr>\n",
              "    <tr>\n",
              "      <th>4</th>\n",
              "      <td>seg5</td>\n",
              "      <td>43.125000</td>\n",
              "      <td>133.062500</td>\n",
              "      <td>7.995750</td>\n",
              "    </tr>\n",
              "  </tbody>\n",
              "</table>\n",
              "</div>"
            ],
            "text/plain": [
              "  cust_segs  Age Means  Income Means  Card Debt\n",
              "0      seg1  31.753333     30.360000   1.638233\n",
              "1      seg2  41.666667     72.784314   2.091346\n",
              "2      seg3  33.637500     42.000000   0.953987\n",
              "3      seg4  32.256140     30.221053   0.665270\n",
              "4      seg5  43.125000    133.062500   7.995750"
            ]
          },
          "metadata": {},
          "execution_count": 149
        }
      ]
    },
    {
      "cell_type": "code",
      "metadata": {
        "colab": {
          "base_uri": "https://localhost:8080/",
          "height": 265
        },
        "id": "RtdXPpexLKz-",
        "outputId": "80663e79-8886-4ff5-db76-725d08e18e4d"
      },
      "source": [
        "plt.bar(summary_df[\"cust_segs\"],summary_df[\"Income Means\"])\n",
        "plt.ylabel(\"Income Means\");"
      ],
      "execution_count": 151,
      "outputs": [
        {
          "output_type": "display_data",
          "data": {
            "image/png": "[encoded data removed]",
            "text/plain": [
              "<Figure size 432x288 with 1 Axes>"
            ]
          },
          "metadata": {
            "needs_background": "light"
          }
        }
      ]
    }
  ]
}