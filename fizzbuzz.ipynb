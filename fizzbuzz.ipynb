{
  "nbformat": 4,
  "nbformat_minor": 0,
  "metadata": {
    "colab": {
      "name": "fizzbuzz.ipynb",
      "provenance": [],
      "authorship_tag": "ABX9TyOsfFNKcO+xwrelpZZCLxCS",
      "include_colab_link": true
    },
    "kernelspec": {
      "name": "python3",
      "display_name": "Python 3"
    },
    "language_info": {
      "name": "python"
    }
  },
  "cells": [
    {
      "cell_type": "markdown",
      "metadata": {
        "id": "view-in-github",
        "colab_type": "text"
      },
      "source": [
        "<a href=\"https://colab.research.google.com/github/valentingracia/codingDojoDC/blob/main/fizzbuzz.ipynb\" target=\"_parent\"><img src=\"https://colab.research.google.com/assets/colab-badge.svg\" alt=\"Open In Colab\"/></a>"
      ]
    },
    {
      "cell_type": "markdown",
      "metadata": {
        "id": "kWsKqFZX7jfN"
      },
      "source": [
        "# fizzBuzz\n",
        "# La siguiente tarea de FizzBuzz podría parecer más simple ahora.\n",
        "# Tu tarea es escribir código para resolver el problema FizzBuzz:\n",
        "# Escribe código que muestre en pantalla los números del 1 al 20. Pero para los múltiplos de tres, muestra en pantalla «Fizz» en lugar del número y, para los múltiplos de cinco, muestra «Buzz». Para los números que son múltiplos de cinco y tres, muestra en pantalla «FizzBuzz».La siguiente tarea de FizzBuzz podría parecer más simple ahora.\n"
      ]
    },
    {
      "cell_type": "code",
      "metadata": {
        "colab": {
          "base_uri": "https://localhost:8080/"
        },
        "id": "ABr1Gbz27gyV",
        "outputId": "e46bd5e3-8d0a-42df-e6f1-263c871c2a72"
      },
      "source": [
        "for i in range(1, 21, 1):\n",
        "    if i % 3 == 0 and i % 5 == 0:\n",
        "        print(\"fizbuzz\")\n",
        "    elif i % 3 == 0:\n",
        "        print(\"fizz\")\n",
        "    elif i % 5 == 0:\n",
        "        print(\"buzz\")\n",
        "    else:\n",
        "        print(f\"numero {i}\")\n"
      ],
      "execution_count": 1,
      "outputs": [
        {
          "output_type": "stream",
          "text": [
            "numero 1\n",
            "numero 2\n",
            "fizz\n",
            "numero 4\n",
            "buzz\n",
            "fizz\n",
            "numero 7\n",
            "numero 8\n",
            "fizz\n",
            "buzz\n",
            "numero 11\n",
            "fizz\n",
            "numero 13\n",
            "numero 14\n",
            "fizbuzz\n",
            "numero 16\n",
            "numero 17\n",
            "fizz\n",
            "numero 19\n",
            "buzz\n"
          ],
          "name": "stdout"
        }
      ]
    }
  ]
}