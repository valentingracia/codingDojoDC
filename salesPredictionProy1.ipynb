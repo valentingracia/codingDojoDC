{
  "nbformat": 4,
  "nbformat_minor": 0,
  "metadata": {
    "colab": {
      "name": "salesPredictionProy1.ipynb",
      "provenance": [],
      "mount_file_id": "1IEu4X8fB1_ARkgcUx3uYDdIJNEeNFOJY",
      "authorship_tag": "ABX9TyOi7sVe2uFPojxEfGf/cCob",
      "include_colab_link": true
    },
    "kernelspec": {
      "name": "python3",
      "display_name": "Python 3"
    },
    "language_info": {
      "name": "python"
    }
  },
  "cells": [
    {
      "cell_type": "markdown",
      "metadata": {
        "id": "view-in-github",
        "colab_type": "text"
      },
      "source": [
        "<a href=\"https://colab.research.google.com/github/valentingracia/codingDojoDC/blob/main/salesPredictionProy1.ipynb\" target=\"_parent\"><img src=\"https://colab.research.google.com/assets/colab-badge.svg\" alt=\"Open In Colab\"/></a>"
      ]
    },
    {
      "cell_type": "markdown",
      "metadata": {
        "id": "LIoZdpQCPPda"
      },
      "source": [
        "#Alumno : Valentin Gracia"
      ]
    },
    {
      "cell_type": "markdown",
      "metadata": {
        "id": "qzYguRBs_rnr"
      },
      "source": [
        "se importa el dataset, y se despliega informacion basica"
      ]
    },
    {
      "cell_type": "code",
      "metadata": {
        "colab": {
          "base_uri": "https://localhost:8080/"
        },
        "id": "htszJxURPO0G",
        "outputId": "5f9cfebb-d62a-47d8-a4d1-414e5e0069af"
      },
      "source": [
        "import pandas as pd\n",
        "import numpy as np\n",
        "sales_df=pd.read_csv(\"/content/drive/MyDrive/Coding Dojo/salesPrediction/sales_predictions.csv\")\n",
        "print(f\"HEAD \\n {sales_df.head(3)}\")\n",
        "print(f\"INFO \\n {sales_df.info()}\")\n",
        "#print(sales_df.describe())\n",
        "#sales_df.dropna(inplace=True)\n",
        "#print(sales_df.info())\n",
        "\n"
      ],
      "execution_count": 136,
      "outputs": [
        {
          "output_type": "stream",
          "text": [
            "HEAD \n",
            "   Item_Identifier  Item_Weight  ...        Outlet_Type  Item_Outlet_Sales\n",
            "0           FDA15         9.30  ...  Supermarket Type1          3735.1380\n",
            "1           DRC01         5.92  ...  Supermarket Type2           443.4228\n",
            "2           FDN15        17.50  ...  Supermarket Type1          2097.2700\n",
            "\n",
            "[3 rows x 12 columns]\n",
            "<class 'pandas.core.frame.DataFrame'>\n",
            "RangeIndex: 8523 entries, 0 to 8522\n",
            "Data columns (total 12 columns):\n",
            " #   Column                     Non-Null Count  Dtype  \n",
            "---  ------                     --------------  -----  \n",
            " 0   Item_Identifier            8523 non-null   object \n",
            " 1   Item_Weight                7060 non-null   float64\n",
            " 2   Item_Fat_Content           8523 non-null   object \n",
            " 3   Item_Visibility            8523 non-null   float64\n",
            " 4   Item_Type                  8523 non-null   object \n",
            " 5   Item_MRP                   8523 non-null   float64\n",
            " 6   Outlet_Identifier          8523 non-null   object \n",
            " 7   Outlet_Establishment_Year  8523 non-null   int64  \n",
            " 8   Outlet_Size                6113 non-null   object \n",
            " 9   Outlet_Location_Type       8523 non-null   object \n",
            " 10  Outlet_Type                8523 non-null   object \n",
            " 11  Item_Outlet_Sales          8523 non-null   float64\n",
            "dtypes: float64(4), int64(1), object(7)\n",
            "memory usage: 799.2+ KB\n",
            "INFO \n",
            " None\n"
          ],
          "name": "stdout"
        }
      ]
    },
    {
      "cell_type": "markdown",
      "metadata": {
        "id": "b-_Ge5QfBjaP"
      },
      "source": [
        "buscamos las entradas unicas de columna y correjimos entradas no normalizadas"
      ]
    },
    {
      "cell_type": "code",
      "metadata": {
        "colab": {
          "base_uri": "https://localhost:8080/"
        },
        "id": "q6Aco1oCBbAi",
        "outputId": "5c296887-5856-46a0-ba3c-f605e995b347"
      },
      "source": [
        "sales_df.value_counts()"
      ],
      "execution_count": 137,
      "outputs": [
        {
          "output_type": "execute_result",
          "data": {
            "text/plain": [
              "Item_Identifier  Item_Weight  Item_Fat_Content  Item_Visibility  Item_Type     Item_MRP  Outlet_Identifier  Outlet_Establishment_Year  Outlet_Size  Outlet_Location_Type  Outlet_Type        Item_Outlet_Sales\n",
              "NCZ54            14.650       Low Fat           0.083699         Household     163.4552  OUT018             2009                       Medium       Tier 3                Supermarket Type2  2599.2832            1\n",
              "FDJ04            18.000       Low Fat           0.124452         Frozen Foods  118.5124  OUT046             1997                       Small        Tier 1                Supermarket Type1  1303.6364            1\n",
              "FDJ15            11.350       Regular           0.023322         Dairy         182.5608  OUT046             1997                       Small        Tier 1                Supermarket Type1  3307.6944            1\n",
              "                                                0.023359         Dairy         184.4608  OUT049             1999                       Medium       Tier 1                Supermarket Type1  4042.7376            1\n",
              "FDJ16            9.195        LF                0.114864         Frozen Foods  59.0246   OUT035             2004                       Small        Tier 2                Supermarket Type1  1853.5872            1\n",
              "                                                                                                                                                                                                                 ..\n",
              "FDV24            5.635        Low Fat           0.000000         Baking Goods  148.7050  OUT049             1999                       Medium       Tier 1                Supermarket Type1  1198.4400            1\n",
              "                                                0.103693         Baking Goods  149.9050  OUT018             2009                       Medium       Tier 3                Supermarket Type2  2546.6850            1\n",
              "FDV25            5.905        Low Fat           0.045723         Canned        222.1456  OUT049             1999                       Medium       Tier 1                Supermarket Type1  5747.1856            1\n",
              "                                                0.045838         Canned        222.5456  OUT018             2009                       Medium       Tier 3                Supermarket Type2  3315.6840            1\n",
              "DRA12            11.600       LF                0.000000         Soft Drinks   141.9154  OUT035             2004                       Small        Tier 2                Supermarket Type1  992.7078             1\n",
              "Length: 4650, dtype: int64"
            ]
          },
          "metadata": {},
          "execution_count": 137
        }
      ]
    },
    {
      "cell_type": "code",
      "metadata": {
        "colab": {
          "base_uri": "https://localhost:8080/"
        },
        "id": "ZCjtpGO8Bts-",
        "outputId": "787bdb8f-9ce9-4afe-d967-3cf9253056e2"
      },
      "source": [
        "sales_df[\"Item_Fat_Content\"].replace({\"LF\": \"Low Fat\", \"reg\": \"Regular\",\"low fat\":\"Low Fat\"}, inplace=True)\n",
        "sales_df[\"Item_Fat_Content\"].value_counts()\n"
      ],
      "execution_count": 138,
      "outputs": [
        {
          "output_type": "execute_result",
          "data": {
            "text/plain": [
              "Low Fat    5517\n",
              "Regular    3006\n",
              "Name: Item_Fat_Content, dtype: int64"
            ]
          },
          "metadata": {},
          "execution_count": 138
        }
      ]
    },
    {
      "cell_type": "markdown",
      "metadata": {
        "id": "VJI4bQuhTi84"
      },
      "source": [
        "algunas vistas"
      ]
    },
    {
      "cell_type": "code",
      "metadata": {
        "colab": {
          "base_uri": "https://localhost:8080/",
          "height": 440
        },
        "id": "BUgFRCZt76pv",
        "outputId": "75fb0898-08a1-4713-de43-84b368f04909"
      },
      "source": [
        "\n",
        "\n",
        "sales_df.groupby([\"Item_Fat_Content\",\"Item_Type\"])[\"Item_Outlet_Sales\"].count()\n",
        "(pd.pivot_table(sales_df, index=[\"Item_Type\"], columns=[\"Item_Fat_Content\"], values=[\"Item_Outlet_Sales\"], aggfunc=np.sum,margins = True)).style.format('{0:,.0f}')"
      ],
      "execution_count": 139,
      "outputs": [
        {
          "output_type": "execute_result",
          "data": {
            "text/html": [
              "<style  type=\"text/css\" >\n",
              "</style><table id=\"T_7c14a5aa_079d_11ec_aa63_0242ac1c0002\" ><thead>    <tr>        <th class=\"blank level0\" ></th>        <th class=\"col_heading level0 col0\" colspan=3>Item_Outlet_Sales</th>    </tr>    <tr>        <th class=\"index_name level1\" >Item_Fat_Content</th>        <th class=\"col_heading level1 col0\" >Low Fat</th>        <th class=\"col_heading level1 col1\" >Regular</th>        <th class=\"col_heading level1 col2\" >All</th>    </tr>    <tr>        <th class=\"index_name level0\" >Item_Type</th>        <th class=\"blank\" ></th>        <th class=\"blank\" ></th>        <th class=\"blank\" ></th>    </tr></thead><tbody>\n",
              "                <tr>\n",
              "                        <th id=\"T_7c14a5aa_079d_11ec_aa63_0242ac1c0002level0_row0\" class=\"row_heading level0 row0\" >Baking Goods</th>\n",
              "                        <td id=\"T_7c14a5aa_079d_11ec_aa63_0242ac1c0002row0_col0\" class=\"data row0 col0\" >580,524</td>\n",
              "                        <td id=\"T_7c14a5aa_079d_11ec_aa63_0242ac1c0002row0_col1\" class=\"data row0 col1\" >685,002</td>\n",
              "                        <td id=\"T_7c14a5aa_079d_11ec_aa63_0242ac1c0002row0_col2\" class=\"data row0 col2\" >1,265,525</td>\n",
              "            </tr>\n",
              "            <tr>\n",
              "                        <th id=\"T_7c14a5aa_079d_11ec_aa63_0242ac1c0002level0_row1\" class=\"row_heading level0 row1\" >Breads</th>\n",
              "                        <td id=\"T_7c14a5aa_079d_11ec_aa63_0242ac1c0002row1_col0\" class=\"data row1 col0\" >305,681</td>\n",
              "                        <td id=\"T_7c14a5aa_079d_11ec_aa63_0242ac1c0002row1_col1\" class=\"data row1 col1\" >247,556</td>\n",
              "                        <td id=\"T_7c14a5aa_079d_11ec_aa63_0242ac1c0002row1_col2\" class=\"data row1 col2\" >553,237</td>\n",
              "            </tr>\n",
              "            <tr>\n",
              "                        <th id=\"T_7c14a5aa_079d_11ec_aa63_0242ac1c0002level0_row2\" class=\"row_heading level0 row2\" >Breakfast</th>\n",
              "                        <td id=\"T_7c14a5aa_079d_11ec_aa63_0242ac1c0002row2_col0\" class=\"data row2 col0\" >99,442</td>\n",
              "                        <td id=\"T_7c14a5aa_079d_11ec_aa63_0242ac1c0002row2_col1\" class=\"data row2 col1\" >132,857</td>\n",
              "                        <td id=\"T_7c14a5aa_079d_11ec_aa63_0242ac1c0002row2_col2\" class=\"data row2 col2\" >232,299</td>\n",
              "            </tr>\n",
              "            <tr>\n",
              "                        <th id=\"T_7c14a5aa_079d_11ec_aa63_0242ac1c0002level0_row3\" class=\"row_heading level0 row3\" >Canned</th>\n",
              "                        <td id=\"T_7c14a5aa_079d_11ec_aa63_0242ac1c0002row3_col0\" class=\"data row3 col0\" >753,172</td>\n",
              "                        <td id=\"T_7c14a5aa_079d_11ec_aa63_0242ac1c0002row3_col1\" class=\"data row3 col1\" >690,980</td>\n",
              "                        <td id=\"T_7c14a5aa_079d_11ec_aa63_0242ac1c0002row3_col2\" class=\"data row3 col2\" >1,444,151</td>\n",
              "            </tr>\n",
              "            <tr>\n",
              "                        <th id=\"T_7c14a5aa_079d_11ec_aa63_0242ac1c0002level0_row4\" class=\"row_heading level0 row4\" >Dairy</th>\n",
              "                        <td id=\"T_7c14a5aa_079d_11ec_aa63_0242ac1c0002row4_col0\" class=\"data row4 col0\" >896,683</td>\n",
              "                        <td id=\"T_7c14a5aa_079d_11ec_aa63_0242ac1c0002row4_col1\" class=\"data row4 col1\" >625,911</td>\n",
              "                        <td id=\"T_7c14a5aa_079d_11ec_aa63_0242ac1c0002row4_col2\" class=\"data row4 col2\" >1,522,594</td>\n",
              "            </tr>\n",
              "            <tr>\n",
              "                        <th id=\"T_7c14a5aa_079d_11ec_aa63_0242ac1c0002level0_row5\" class=\"row_heading level0 row5\" >Frozen Foods</th>\n",
              "                        <td id=\"T_7c14a5aa_079d_11ec_aa63_0242ac1c0002row5_col0\" class=\"data row5 col0\" >952,891</td>\n",
              "                        <td id=\"T_7c14a5aa_079d_11ec_aa63_0242ac1c0002row5_col1\" class=\"data row5 col1\" >872,844</td>\n",
              "                        <td id=\"T_7c14a5aa_079d_11ec_aa63_0242ac1c0002row5_col2\" class=\"data row5 col2\" >1,825,735</td>\n",
              "            </tr>\n",
              "            <tr>\n",
              "                        <th id=\"T_7c14a5aa_079d_11ec_aa63_0242ac1c0002level0_row6\" class=\"row_heading level0 row6\" >Fruits and Vegetables</th>\n",
              "                        <td id=\"T_7c14a5aa_079d_11ec_aa63_0242ac1c0002row6_col0\" class=\"data row6 col0\" >1,374,916</td>\n",
              "                        <td id=\"T_7c14a5aa_079d_11ec_aa63_0242ac1c0002row6_col1\" class=\"data row6 col1\" >1,445,144</td>\n",
              "                        <td id=\"T_7c14a5aa_079d_11ec_aa63_0242ac1c0002row6_col2\" class=\"data row6 col2\" >2,820,060</td>\n",
              "            </tr>\n",
              "            <tr>\n",
              "                        <th id=\"T_7c14a5aa_079d_11ec_aa63_0242ac1c0002level0_row7\" class=\"row_heading level0 row7\" >Hard Drinks</th>\n",
              "                        <td id=\"T_7c14a5aa_079d_11ec_aa63_0242ac1c0002row7_col0\" class=\"data row7 col0\" >457,793</td>\n",
              "                        <td id=\"T_7c14a5aa_079d_11ec_aa63_0242ac1c0002row7_col1\" class=\"data row7 col1\" >nan</td>\n",
              "                        <td id=\"T_7c14a5aa_079d_11ec_aa63_0242ac1c0002row7_col2\" class=\"data row7 col2\" >457,793</td>\n",
              "            </tr>\n",
              "            <tr>\n",
              "                        <th id=\"T_7c14a5aa_079d_11ec_aa63_0242ac1c0002level0_row8\" class=\"row_heading level0 row8\" >Health and Hygiene</th>\n",
              "                        <td id=\"T_7c14a5aa_079d_11ec_aa63_0242ac1c0002row8_col0\" class=\"data row8 col0\" >1,045,200</td>\n",
              "                        <td id=\"T_7c14a5aa_079d_11ec_aa63_0242ac1c0002row8_col1\" class=\"data row8 col1\" >nan</td>\n",
              "                        <td id=\"T_7c14a5aa_079d_11ec_aa63_0242ac1c0002row8_col2\" class=\"data row8 col2\" >1,045,200</td>\n",
              "            </tr>\n",
              "            <tr>\n",
              "                        <th id=\"T_7c14a5aa_079d_11ec_aa63_0242ac1c0002level0_row9\" class=\"row_heading level0 row9\" >Household</th>\n",
              "                        <td id=\"T_7c14a5aa_079d_11ec_aa63_0242ac1c0002row9_col0\" class=\"data row9 col0\" >2,055,494</td>\n",
              "                        <td id=\"T_7c14a5aa_079d_11ec_aa63_0242ac1c0002row9_col1\" class=\"data row9 col1\" >nan</td>\n",
              "                        <td id=\"T_7c14a5aa_079d_11ec_aa63_0242ac1c0002row9_col2\" class=\"data row9 col2\" >2,055,494</td>\n",
              "            </tr>\n",
              "            <tr>\n",
              "                        <th id=\"T_7c14a5aa_079d_11ec_aa63_0242ac1c0002level0_row10\" class=\"row_heading level0 row10\" >Meat</th>\n",
              "                        <td id=\"T_7c14a5aa_079d_11ec_aa63_0242ac1c0002row10_col0\" class=\"data row10 col0\" >346,055</td>\n",
              "                        <td id=\"T_7c14a5aa_079d_11ec_aa63_0242ac1c0002row10_col1\" class=\"data row10 col1\" >571,511</td>\n",
              "                        <td id=\"T_7c14a5aa_079d_11ec_aa63_0242ac1c0002row10_col2\" class=\"data row10 col2\" >917,566</td>\n",
              "            </tr>\n",
              "            <tr>\n",
              "                        <th id=\"T_7c14a5aa_079d_11ec_aa63_0242ac1c0002level0_row11\" class=\"row_heading level0 row11\" >Others</th>\n",
              "                        <td id=\"T_7c14a5aa_079d_11ec_aa63_0242ac1c0002row11_col0\" class=\"data row11 col0\" >325,518</td>\n",
              "                        <td id=\"T_7c14a5aa_079d_11ec_aa63_0242ac1c0002row11_col1\" class=\"data row11 col1\" >nan</td>\n",
              "                        <td id=\"T_7c14a5aa_079d_11ec_aa63_0242ac1c0002row11_col2\" class=\"data row11 col2\" >325,518</td>\n",
              "            </tr>\n",
              "            <tr>\n",
              "                        <th id=\"T_7c14a5aa_079d_11ec_aa63_0242ac1c0002level0_row12\" class=\"row_heading level0 row12\" >Seafood</th>\n",
              "                        <td id=\"T_7c14a5aa_079d_11ec_aa63_0242ac1c0002row12_col0\" class=\"data row12 col0\" >70,588</td>\n",
              "                        <td id=\"T_7c14a5aa_079d_11ec_aa63_0242ac1c0002row12_col1\" class=\"data row12 col1\" >78,280</td>\n",
              "                        <td id=\"T_7c14a5aa_079d_11ec_aa63_0242ac1c0002row12_col2\" class=\"data row12 col2\" >148,868</td>\n",
              "            </tr>\n",
              "            <tr>\n",
              "                        <th id=\"T_7c14a5aa_079d_11ec_aa63_0242ac1c0002level0_row13\" class=\"row_heading level0 row13\" >Snack Foods</th>\n",
              "                        <td id=\"T_7c14a5aa_079d_11ec_aa63_0242ac1c0002row13_col0\" class=\"data row13 col0\" >1,669,089</td>\n",
              "                        <td id=\"T_7c14a5aa_079d_11ec_aa63_0242ac1c0002row13_col1\" class=\"data row13 col1\" >1,063,697</td>\n",
              "                        <td id=\"T_7c14a5aa_079d_11ec_aa63_0242ac1c0002row13_col2\" class=\"data row13 col2\" >2,732,786</td>\n",
              "            </tr>\n",
              "            <tr>\n",
              "                        <th id=\"T_7c14a5aa_079d_11ec_aa63_0242ac1c0002level0_row14\" class=\"row_heading level0 row14\" >Soft Drinks</th>\n",
              "                        <td id=\"T_7c14a5aa_079d_11ec_aa63_0242ac1c0002row14_col0\" class=\"data row14 col0\" >761,259</td>\n",
              "                        <td id=\"T_7c14a5aa_079d_11ec_aa63_0242ac1c0002row14_col1\" class=\"data row14 col1\" >131,639</td>\n",
              "                        <td id=\"T_7c14a5aa_079d_11ec_aa63_0242ac1c0002row14_col2\" class=\"data row14 col2\" >892,898</td>\n",
              "            </tr>\n",
              "            <tr>\n",
              "                        <th id=\"T_7c14a5aa_079d_11ec_aa63_0242ac1c0002level0_row15\" class=\"row_heading level0 row15\" >Starchy Foods</th>\n",
              "                        <td id=\"T_7c14a5aa_079d_11ec_aa63_0242ac1c0002row15_col0\" class=\"data row15 col0\" >209,791</td>\n",
              "                        <td id=\"T_7c14a5aa_079d_11ec_aa63_0242ac1c0002row15_col1\" class=\"data row15 col1\" >141,610</td>\n",
              "                        <td id=\"T_7c14a5aa_079d_11ec_aa63_0242ac1c0002row15_col2\" class=\"data row15 col2\" >351,401</td>\n",
              "            </tr>\n",
              "            <tr>\n",
              "                        <th id=\"T_7c14a5aa_079d_11ec_aa63_0242ac1c0002level0_row16\" class=\"row_heading level0 row16\" >All</th>\n",
              "                        <td id=\"T_7c14a5aa_079d_11ec_aa63_0242ac1c0002row16_col0\" class=\"data row16 col0\" >11,904,095</td>\n",
              "                        <td id=\"T_7c14a5aa_079d_11ec_aa63_0242ac1c0002row16_col1\" class=\"data row16 col1\" >6,687,031</td>\n",
              "                        <td id=\"T_7c14a5aa_079d_11ec_aa63_0242ac1c0002row16_col2\" class=\"data row16 col2\" >18,591,125</td>\n",
              "            </tr>\n",
              "    </tbody></table>"
            ],
            "text/plain": [
              "<pandas.io.formats.style.Styler at 0x7fbb2bbccdd0>"
            ]
          },
          "metadata": {},
          "execution_count": 139
        }
      ]
    },
    {
      "cell_type": "code",
      "metadata": {
        "colab": {
          "base_uri": "https://localhost:8080/",
          "height": 166
        },
        "id": "y3ldE7_H_dJ5",
        "outputId": "ece7ecc1-dd47-4cca-d257-6d19af5df468"
      },
      "source": [
        "(pd.pivot_table(sales_df, index=[\"Outlet_Location_Type\"], columns=[\"Item_Fat_Content\"], values=[\"Item_Outlet_Sales\"], aggfunc=np.sum,margins = True)).style.format('{0:,.0f}')"
      ],
      "execution_count": 140,
      "outputs": [
        {
          "output_type": "execute_result",
          "data": {
            "text/html": [
              "<style  type=\"text/css\" >\n",
              "</style><table id=\"T_7c1dc6bc_079d_11ec_aa63_0242ac1c0002\" ><thead>    <tr>        <th class=\"blank level0\" ></th>        <th class=\"col_heading level0 col0\" colspan=3>Item_Outlet_Sales</th>    </tr>    <tr>        <th class=\"index_name level1\" >Item_Fat_Content</th>        <th class=\"col_heading level1 col0\" >Low Fat</th>        <th class=\"col_heading level1 col1\" >Regular</th>        <th class=\"col_heading level1 col2\" >All</th>    </tr>    <tr>        <th class=\"index_name level0\" >Outlet_Location_Type</th>        <th class=\"blank\" ></th>        <th class=\"blank\" ></th>        <th class=\"blank\" ></th>    </tr></thead><tbody>\n",
              "                <tr>\n",
              "                        <th id=\"T_7c1dc6bc_079d_11ec_aa63_0242ac1c0002level0_row0\" class=\"row_heading level0 row0\" >Tier 1</th>\n",
              "                        <td id=\"T_7c1dc6bc_079d_11ec_aa63_0242ac1c0002row0_col0\" class=\"data row0 col0\" >2,828,747</td>\n",
              "                        <td id=\"T_7c1dc6bc_079d_11ec_aa63_0242ac1c0002row0_col1\" class=\"data row0 col1\" >1,653,312</td>\n",
              "                        <td id=\"T_7c1dc6bc_079d_11ec_aa63_0242ac1c0002row0_col2\" class=\"data row0 col2\" >4,482,059</td>\n",
              "            </tr>\n",
              "            <tr>\n",
              "                        <th id=\"T_7c1dc6bc_079d_11ec_aa63_0242ac1c0002level0_row1\" class=\"row_heading level0 row1\" >Tier 2</th>\n",
              "                        <td id=\"T_7c1dc6bc_079d_11ec_aa63_0242ac1c0002row1_col0\" class=\"data row1 col0\" >4,134,787</td>\n",
              "                        <td id=\"T_7c1dc6bc_079d_11ec_aa63_0242ac1c0002row1_col1\" class=\"data row1 col1\" >2,337,527</td>\n",
              "                        <td id=\"T_7c1dc6bc_079d_11ec_aa63_0242ac1c0002row1_col2\" class=\"data row1 col2\" >6,472,314</td>\n",
              "            </tr>\n",
              "            <tr>\n",
              "                        <th id=\"T_7c1dc6bc_079d_11ec_aa63_0242ac1c0002level0_row2\" class=\"row_heading level0 row2\" >Tier 3</th>\n",
              "                        <td id=\"T_7c1dc6bc_079d_11ec_aa63_0242ac1c0002row2_col0\" class=\"data row2 col0\" >4,940,560</td>\n",
              "                        <td id=\"T_7c1dc6bc_079d_11ec_aa63_0242ac1c0002row2_col1\" class=\"data row2 col1\" >2,696,192</td>\n",
              "                        <td id=\"T_7c1dc6bc_079d_11ec_aa63_0242ac1c0002row2_col2\" class=\"data row2 col2\" >7,636,753</td>\n",
              "            </tr>\n",
              "            <tr>\n",
              "                        <th id=\"T_7c1dc6bc_079d_11ec_aa63_0242ac1c0002level0_row3\" class=\"row_heading level0 row3\" >All</th>\n",
              "                        <td id=\"T_7c1dc6bc_079d_11ec_aa63_0242ac1c0002row3_col0\" class=\"data row3 col0\" >11,904,095</td>\n",
              "                        <td id=\"T_7c1dc6bc_079d_11ec_aa63_0242ac1c0002row3_col1\" class=\"data row3 col1\" >6,687,031</td>\n",
              "                        <td id=\"T_7c1dc6bc_079d_11ec_aa63_0242ac1c0002row3_col2\" class=\"data row3 col2\" >18,591,125</td>\n",
              "            </tr>\n",
              "    </tbody></table>"
            ],
            "text/plain": [
              "<pandas.io.formats.style.Styler at 0x7fbb2bbaf050>"
            ]
          },
          "metadata": {},
          "execution_count": 140
        }
      ]
    },
    {
      "cell_type": "code",
      "metadata": {
        "id": "ckWQPlziTSoz"
      },
      "source": [
        "plt.plot()"
      ],
      "execution_count": 140,
      "outputs": []
    }
  ]
}