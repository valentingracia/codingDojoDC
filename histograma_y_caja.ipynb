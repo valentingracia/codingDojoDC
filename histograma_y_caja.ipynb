{
  "nbformat": 4,
  "nbformat_minor": 0,
  "metadata": {
    "colab": {
      "name": "histograma y caja.ipynb",
      "provenance": [],
      "collapsed_sections": [],
      "mount_file_id": "1IeIWRLpqWG8qAD0HaAUO52aaeYLqOwhe",
      "authorship_tag": "ABX9TyOqaxOdzPyMqg85MH+OLv0P",
      "include_colab_link": true
    },
    "kernelspec": {
      "name": "python3",
      "display_name": "Python 3"
    },
    "language_info": {
      "name": "python"
    }
  },
  "cells": [
    {
      "cell_type": "markdown",
      "metadata": {
        "id": "view-in-github",
        "colab_type": "text"
      },
      "source": [
        "<a href=\"https://colab.research.google.com/github/valentingracia/codingDojoDC/blob/main/histograma_y_caja.ipynb\" target=\"_parent\"><img src=\"https://colab.research.google.com/assets/colab-badge.svg\" alt=\"Open In Colab\"/></a>"
      ]
    },
    {
      "cell_type": "markdown",
      "metadata": {
        "id": "olJ8Gf6M6aIj"
      },
      "source": [
        "Tarea 1 Semana 4 \n",
        "Valentin Gracia : "
      ]
    },
    {
      "cell_type": "code",
      "metadata": {
        "id": "c683LKvC4qBC"
      },
      "source": [
        "import pandas as pd\n",
        "import numpy as np\n",
        "from termcolor import colored\n",
        "from google.colab import output\n",
        "import missingno as msno\n",
        " \n",
        "import matplotlib as mpl\n",
        "import matplotlib.pyplot as plt\n",
        "import seaborn as sb\n",
        "\n"
      ],
      "execution_count": 34,
      "outputs": []
    },
    {
      "cell_type": "code",
      "metadata": {
        "colab": {
          "base_uri": "https://localhost:8080/",
          "height": 143
        },
        "id": "b5l3DvZJ8khb",
        "outputId": "ea649feb-9e02-4259-a20a-d602c229c54a"
      },
      "source": [
        "catsvdogs_df=pd.read_excel(\"/content/drive/MyDrive/Coding Dojo/Semana4/catsvdogs.xlsx\")\n",
        "catsvdogs_df.head(2)"
      ],
      "execution_count": 35,
      "outputs": [
        {
          "output_type": "execute_result",
          "data": {
            "text/html": [
              "<div>\n",
              "<style scoped>\n",
              "    .dataframe tbody tr th:only-of-type {\n",
              "        vertical-align: middle;\n",
              "    }\n",
              "\n",
              "    .dataframe tbody tr th {\n",
              "        vertical-align: top;\n",
              "    }\n",
              "\n",
              "    .dataframe thead th {\n",
              "        text-align: right;\n",
              "    }\n",
              "</style>\n",
              "<table border=\"1\" class=\"dataframe\">\n",
              "  <thead>\n",
              "    <tr style=\"text-align: right;\">\n",
              "      <th></th>\n",
              "      <th>Location</th>\n",
              "      <th>Number of Households (in 1000)</th>\n",
              "      <th>Percentage of households with pets</th>\n",
              "      <th>Number of Pet Households (in 1000)</th>\n",
              "      <th>Percentage of Dog Owners</th>\n",
              "      <th>Dog Owning Households (1000s)</th>\n",
              "      <th>Mean Number of Dogs per household</th>\n",
              "      <th>Dog Population (in 1000)</th>\n",
              "      <th>Percentage of Cat Owners</th>\n",
              "      <th>Cat Owning Households</th>\n",
              "      <th>Mean Number of Cats</th>\n",
              "      <th>Cat Population</th>\n",
              "    </tr>\n",
              "  </thead>\n",
              "  <tbody>\n",
              "    <tr>\n",
              "      <th>0</th>\n",
              "      <td>Alabama</td>\n",
              "      <td>1828</td>\n",
              "      <td>59.5</td>\n",
              "      <td>1088</td>\n",
              "      <td>44.1</td>\n",
              "      <td>807</td>\n",
              "      <td>1.7</td>\n",
              "      <td>1410</td>\n",
              "      <td>27.4</td>\n",
              "      <td>501</td>\n",
              "      <td>2.5</td>\n",
              "      <td>1252</td>\n",
              "    </tr>\n",
              "    <tr>\n",
              "      <th>1</th>\n",
              "      <td>Arizona</td>\n",
              "      <td>2515</td>\n",
              "      <td>59.5</td>\n",
              "      <td>1497</td>\n",
              "      <td>40.1</td>\n",
              "      <td>1008</td>\n",
              "      <td>1.8</td>\n",
              "      <td>1798</td>\n",
              "      <td>29.6</td>\n",
              "      <td>743</td>\n",
              "      <td>1.9</td>\n",
              "      <td>1438</td>\n",
              "    </tr>\n",
              "  </tbody>\n",
              "</table>\n",
              "</div>"
            ],
            "text/plain": [
              "  Location  Number of Households (in 1000)  ...  Mean Number of Cats  Cat Population\n",
              "0  Alabama                            1828  ...                  2.5            1252\n",
              "1  Arizona                            2515  ...                  1.9            1438\n",
              "\n",
              "[2 rows x 12 columns]"
            ]
          },
          "metadata": {},
          "execution_count": 35
        }
      ]
    },
    {
      "cell_type": "code",
      "metadata": {
        "colab": {
          "base_uri": "https://localhost:8080/"
        },
        "id": "0eWsfurJ9DJC",
        "outputId": "ec87750e-8871-4037-f8b9-de3019ef107b"
      },
      "source": [
        "catsvdogs_df.info()"
      ],
      "execution_count": 36,
      "outputs": [
        {
          "output_type": "stream",
          "name": "stdout",
          "text": [
            "<class 'pandas.core.frame.DataFrame'>\n",
            "RangeIndex: 49 entries, 0 to 48\n",
            "Data columns (total 12 columns):\n",
            " #   Column                              Non-Null Count  Dtype  \n",
            "---  ------                              --------------  -----  \n",
            " 0   Location                            49 non-null     object \n",
            " 1   Number of Households (in 1000)      49 non-null     int64  \n",
            " 2   Percentage of households with pets  49 non-null     float64\n",
            " 3   Number of Pet Households (in 1000)  49 non-null     int64  \n",
            " 4   Percentage of Dog Owners            49 non-null     float64\n",
            " 5   Dog Owning Households (1000s)       49 non-null     int64  \n",
            " 6   Mean Number of Dogs per household   49 non-null     float64\n",
            " 7   Dog Population (in 1000)            49 non-null     int64  \n",
            " 8   Percentage of Cat Owners            49 non-null     float64\n",
            " 9   Cat Owning Households               49 non-null     int64  \n",
            " 10  Mean Number of Cats                 49 non-null     float64\n",
            " 11  Cat Population                      49 non-null     int64  \n",
            "dtypes: float64(5), int64(6), object(1)\n",
            "memory usage: 4.7+ KB\n"
          ]
        }
      ]
    },
    {
      "cell_type": "code",
      "metadata": {
        "id": "O_H3OGNG-CyY"
      },
      "source": [
        "def value_cunt(df):\n",
        "  for c in df.columns:\n",
        "    value_cunt=df[c].value_counts()\n",
        "    value_cunt=pd.DataFrame(value_cunt)\n",
        "    value_cunt.index.name = c\n",
        "    value_cunt.columns = ['count']\n",
        "  \n",
        "    print(\"Variable \", colored(f\"*{c}*  dtype:{df.dtypes[c]}\",'red'))\n",
        "    print(\"-----\")\n",
        "    print(f\"{len(value_cunt.index)} Categorias\")\n",
        "    print(f\"{df.shape[0]-value_cunt.values.sum()} perdidos de  {df.shape[0]}\")\n",
        "    if len(value_cunt.index)== df.shape[0]:\n",
        "      print(\"UNICO, se podria usar de indice\")\n",
        "    display(value_cunt)\n",
        "    input(\"press enter >>\")\n",
        "    \n",
        "    output.clear()\n",
        "  print(\"FIN\")"
      ],
      "execution_count": 37,
      "outputs": []
    },
    {
      "cell_type": "code",
      "metadata": {
        "id": "ZfrCe0FU-9gd"
      },
      "source": [
        "#value_cunt(catsvdogs_df)"
      ],
      "execution_count": 38,
      "outputs": []
    },
    {
      "cell_type": "code",
      "metadata": {
        "colab": {
          "base_uri": "https://localhost:8080/",
          "height": 365
        },
        "id": "6SI82w0M_ps3",
        "outputId": "deebaed8-534f-4d98-d6d7-779ae7583ee5"
      },
      "source": [
        "plt.style.use('seaborn')\n",
        "catsvdogs_df['Percentage of Dog Owners'].hist(color=\"blue\",alpha=0.5,label=\"dog\")\n",
        "catsvdogs_df['Percentage of Cat Owners'].hist(color=\"yellow\",alpha=0.5,label=\"cat\")\n",
        "plt.xlabel('percentage of anima owners')\n",
        "plt.ylabel('cuenta')\n",
        "plt.xticks(rotation = 45)\n",
        "plt.legend()\n",
        "\n",
        "plt.ticklabel_format(useOffset=False, style='plain')"
      ],
      "execution_count": 39,
      "outputs": [
        {
          "output_type": "display_data",
          "data": {
            "image/png": "[encoded data removed]",
            "text/plain": [
              "<Figure size 576x396 with 1 Axes>"
            ]
          },
          "metadata": {}
        }
      ]
    },
    {
      "cell_type": "markdown",
      "metadata": {
        "id": "_95YeIm2nAHM"
      },
      "source": [
        "# No pude completar este ejercicio, tengo la idea que el dataset es el equivocado (no tengo campos para diferenciar perros o gatos)"
      ]
    },
    {
      "cell_type": "code",
      "metadata": {
        "colab": {
          "base_uri": "https://localhost:8080/",
          "height": 346
        },
        "id": "sCDNn7aOHy_U",
        "outputId": "bef4dcbf-877a-44dc-a173-599f94fbb277"
      },
      "source": [
        "plt.style.use('seaborn')\n",
        "#catsvdogs_df.boxplot(\"Mean Number of Dogs per household \n",
        "\n",
        "fig, ax = plt.subplots()\n",
        "\n",
        "ax.boxplot([catsvdogs_df[\"Mean Number of Cats\"]], labels=['CATS']);\n",
        "ax.boxplot([catsvdogs_df[\"Mean Number of Dogs per household\"]], labels=['DOGS']);\n",
        "\n"
      ],
      "execution_count": 51,
      "outputs": [
        {
          "output_type": "display_data",
          "data": {
            "image/png": "[encoded data removed]",
            "text/plain": [
              "<Figure size 576x396 with 1 Axes>"
            ]
          },
          "metadata": {}
        }
      ]
    }
  ]
}