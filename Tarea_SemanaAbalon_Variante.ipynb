{
  "nbformat": 4,
  "nbformat_minor": 0,
  "metadata": {
    "colab": {
      "name": "Tarea SemanaAbalon Variante.ipynb",
      "provenance": [],
      "collapsed_sections": [],
      "mount_file_id": "1L7UxS1fvyvSiVGSsGs1JwQMLrEk-sa7H",
      "authorship_tag": "ABX9TyN5Jua1EJPYvhTXThTOVXlL",
      "include_colab_link": true
    },
    "kernelspec": {
      "name": "python3",
      "display_name": "Python 3"
    },
    "language_info": {
      "name": "python"
    },
    "widgets": {
      "application/vnd.jupyter.widget-state+json": {
        "f2339fd14b0b497dae037206e85c1cdf": {
          "model_module": "@jupyter-widgets/controls",
          "model_name": "VBoxModel",
          "model_module_version": "1.5.0",
          "state": {
            "_view_name": "VBoxView",
            "_dom_classes": [
              "widget-interact"
            ],
            "_model_name": "VBoxModel",
            "_view_module": "@jupyter-widgets/controls",
            "_model_module_version": "1.5.0",
            "_view_count": null,
            "_view_module_version": "1.5.0",
            "box_style": "",
            "layout": "IPY_MODEL_0c8ddc168c9a4ab88cfe9c261227b8db",
            "_model_module": "@jupyter-widgets/controls",
            "children": [
              "IPY_MODEL_b9d1b3448298414ba29ffba3acb772ee",
              "IPY_MODEL_06f7b1d459dd4d93ac8a3a84b2563fd1"
            ]
          }
        },
        "0c8ddc168c9a4ab88cfe9c261227b8db": {
          "model_module": "@jupyter-widgets/base",
          "model_name": "LayoutModel",
          "model_module_version": "1.2.0",
          "state": {
            "_view_name": "LayoutView",
            "grid_template_rows": null,
            "right": null,
            "justify_content": null,
            "_view_module": "@jupyter-widgets/base",
            "overflow": null,
            "_model_module_version": "1.2.0",
            "_view_count": null,
            "flex_flow": null,
            "width": null,
            "min_width": null,
            "border": null,
            "align_items": null,
            "bottom": null,
            "_model_module": "@jupyter-widgets/base",
            "top": null,
            "grid_column": null,
            "overflow_y": null,
            "overflow_x": null,
            "grid_auto_flow": null,
            "grid_area": null,
            "grid_template_columns": null,
            "flex": null,
            "_model_name": "LayoutModel",
            "justify_items": null,
            "grid_row": null,
            "max_height": null,
            "align_content": null,
            "visibility": null,
            "align_self": null,
            "height": null,
            "min_height": null,
            "padding": null,
            "grid_auto_rows": null,
            "grid_gap": null,
            "max_width": null,
            "order": null,
            "_view_module_version": "1.2.0",
            "grid_template_areas": null,
            "object_position": null,
            "object_fit": null,
            "grid_auto_columns": null,
            "margin": null,
            "display": null,
            "left": null
          }
        },
        "b9d1b3448298414ba29ffba3acb772ee": {
          "model_module": "@jupyter-widgets/controls",
          "model_name": "IntSliderModel",
          "model_module_version": "1.5.0",
          "state": {
            "_view_name": "IntSliderView",
            "style": "IPY_MODEL_51aa973045a94c33bca5a178bfa0abb1",
            "_dom_classes": [],
            "description": "x",
            "step": 1,
            "_model_name": "IntSliderModel",
            "orientation": "horizontal",
            "max": 8,
            "_view_module": "@jupyter-widgets/controls",
            "_model_module_version": "1.5.0",
            "value": 0,
            "_view_count": null,
            "disabled": false,
            "_view_module_version": "1.5.0",
            "min": 0,
            "continuous_update": true,
            "readout_format": "d",
            "description_tooltip": null,
            "readout": true,
            "_model_module": "@jupyter-widgets/controls",
            "layout": "IPY_MODEL_3153bae318f24e088a67ac80c6e64792"
          }
        },
        "06f7b1d459dd4d93ac8a3a84b2563fd1": {
          "model_module": "@jupyter-widgets/output",
          "model_name": "OutputModel",
          "model_module_version": "1.0.0",
          "state": {
            "_view_name": "OutputView",
            "msg_id": "",
            "_dom_classes": [],
            "_model_name": "OutputModel",
            "outputs": [
              {
                "output_type": "stream",
                "name": "stdout",
                "text": [
                  "Variable  \u001b[31m*0*  dtype:object\u001b[0m\n",
                  "-----\n",
                  "3 Categorias\n",
                  "0 perdidos de  4177\n"
                ]
              },
              {
                "output_type": "display_data",
                "data": {
                  "text/html": "<div>\n<style scoped>\n    .dataframe tbody tr th:only-of-type {\n        vertical-align: middle;\n    }\n\n    .dataframe tbody tr th {\n        vertical-align: top;\n    }\n\n    .dataframe thead th {\n        text-align: right;\n    }\n</style>\n<table border=\"1\" class=\"dataframe\">\n  <thead>\n    <tr style=\"text-align: right;\">\n      <th></th>\n      <th>count</th>\n    </tr>\n    <tr>\n      <th>Sex</th>\n      <th></th>\n    </tr>\n  </thead>\n  <tbody>\n    <tr>\n      <th>M</th>\n      <td>1528</td>\n    </tr>\n    <tr>\n      <th>I</th>\n      <td>1342</td>\n    </tr>\n    <tr>\n      <th>F</th>\n      <td>1307</td>\n    </tr>\n  </tbody>\n</table>\n</div>",
                  "text/plain": "     count\nSex       \nM     1528\nI     1342\nF     1307"
                },
                "metadata": {}
              }
            ],
            "_view_module": "@jupyter-widgets/output",
            "_model_module_version": "1.0.0",
            "_view_count": null,
            "_view_module_version": "1.0.0",
            "layout": "IPY_MODEL_389fb13cae5442598dd6a8a3e94aedc9",
            "_model_module": "@jupyter-widgets/output"
          }
        },
        "51aa973045a94c33bca5a178bfa0abb1": {
          "model_module": "@jupyter-widgets/controls",
          "model_name": "SliderStyleModel",
          "model_module_version": "1.5.0",
          "state": {
            "_view_name": "StyleView",
            "handle_color": null,
            "_model_name": "SliderStyleModel",
            "description_width": "",
            "_view_module": "@jupyter-widgets/base",
            "_model_module_version": "1.5.0",
            "_view_count": null,
            "_view_module_version": "1.2.0",
            "_model_module": "@jupyter-widgets/controls"
          }
        },
        "3153bae318f24e088a67ac80c6e64792": {
          "model_module": "@jupyter-widgets/base",
          "model_name": "LayoutModel",
          "model_module_version": "1.2.0",
          "state": {
            "_view_name": "LayoutView",
            "grid_template_rows": null,
            "right": null,
            "justify_content": null,
            "_view_module": "@jupyter-widgets/base",
            "overflow": null,
            "_model_module_version": "1.2.0",
            "_view_count": null,
            "flex_flow": null,
            "width": null,
            "min_width": null,
            "border": null,
            "align_items": null,
            "bottom": null,
            "_model_module": "@jupyter-widgets/base",
            "top": null,
            "grid_column": null,
            "overflow_y": null,
            "overflow_x": null,
            "grid_auto_flow": null,
            "grid_area": null,
            "grid_template_columns": null,
            "flex": null,
            "_model_name": "LayoutModel",
            "justify_items": null,
            "grid_row": null,
            "max_height": null,
            "align_content": null,
            "visibility": null,
            "align_self": null,
            "height": null,
            "min_height": null,
            "padding": null,
            "grid_auto_rows": null,
            "grid_gap": null,
            "max_width": null,
            "order": null,
            "_view_module_version": "1.2.0",
            "grid_template_areas": null,
            "object_position": null,
            "object_fit": null,
            "grid_auto_columns": null,
            "margin": null,
            "display": null,
            "left": null
          }
        },
        "389fb13cae5442598dd6a8a3e94aedc9": {
          "model_module": "@jupyter-widgets/base",
          "model_name": "LayoutModel",
          "model_module_version": "1.2.0",
          "state": {
            "_view_name": "LayoutView",
            "grid_template_rows": null,
            "right": null,
            "justify_content": null,
            "_view_module": "@jupyter-widgets/base",
            "overflow": null,
            "_model_module_version": "1.2.0",
            "_view_count": null,
            "flex_flow": null,
            "width": null,
            "min_width": null,
            "border": null,
            "align_items": null,
            "bottom": null,
            "_model_module": "@jupyter-widgets/base",
            "top": null,
            "grid_column": null,
            "overflow_y": null,
            "overflow_x": null,
            "grid_auto_flow": null,
            "grid_area": null,
            "grid_template_columns": null,
            "flex": null,
            "_model_name": "LayoutModel",
            "justify_items": null,
            "grid_row": null,
            "max_height": null,
            "align_content": null,
            "visibility": null,
            "align_self": null,
            "height": null,
            "min_height": null,
            "padding": null,
            "grid_auto_rows": null,
            "grid_gap": null,
            "max_width": null,
            "order": null,
            "_view_module_version": "1.2.0",
            "grid_template_areas": null,
            "object_position": null,
            "object_fit": null,
            "grid_auto_columns": null,
            "margin": null,
            "display": null,
            "left": null
          }
        }
      }
    }
  },
  "cells": [
    {
      "cell_type": "markdown",
      "metadata": {
        "id": "view-in-github",
        "colab_type": "text"
      },
      "source": [
        "<a href=\"https://colab.research.google.com/github/valentingracia/codingDojoDC/blob/main/Tarea_SemanaAbalon_Variante.ipynb\" target=\"_parent\"><img src=\"https://colab.research.google.com/assets/colab-badge.svg\" alt=\"Open In Colab\"/></a>"
      ]
    },
    {
      "cell_type": "markdown",
      "metadata": {
        "id": "c2ubxPtzc2Re"
      },
      "source": [
        "#Alumno : Valentin Gracia\n",
        "\n",
        "Tarea Clasificadeores Abalon semana 4\n",
        "Data Science G1 2021"
      ]
    },
    {
      "cell_type": "code",
      "metadata": {
        "id": "3m3DA7C1cuGx"
      },
      "source": [
        "# Se importan las librerias\n",
        "\n",
        "#Clásicas\n",
        "import matplotlib.pyplot as plt\n",
        "import seaborn as sb\n",
        "import pandas as pd\n",
        "import numpy as np\n",
        "from termcolor import colored\n",
        "from google.colab import output\n",
        "import missingno as msno \n",
        "import matplotlib as mpl\n",
        "import matplotlib.pyplot as plt\n",
        "\n",
        "#Widgets\n",
        "from ipywidgets import interact, interactive, fixed, interact_manual,IntSlider\n",
        "import ipywidgets as widgets\n",
        "\n",
        "\n",
        "#Modelo Lineal\n",
        "from sklearn.linear_model import LinearRegression\n",
        "\n",
        "#Modelo KNN Clasificador\n",
        "from sklearn.neighbors import KNeighborsClassifier\n",
        "from sklearn.preprocessing import StandardScaler\n",
        "\n",
        "#Modelo KNN Regressor\n",
        "from sklearn.neighbors import KNeighborsRegressor\n",
        "\n",
        "#muestreo\n",
        "from sklearn.model_selection import train_test_split\n",
        "\n",
        "#metricsContinuo\n",
        "from sklearn.metrics import r2_score\n",
        "from sklearn.metrics import mean_absolute_error\n",
        "from sklearn.metrics import mean_squared_error\n",
        "\n",
        "\n",
        "\n"
      ],
      "execution_count": 229,
      "outputs": []
    },
    {
      "cell_type": "markdown",
      "metadata": {
        "id": "uaOD2pb7fpmE"
      },
      "source": [
        "#Descripcion avalon"
      ]
    },
    {
      "cell_type": "code",
      "metadata": {
        "id": "OiVwo26jdKp5"
      },
      "source": [
        "abalon_df=pd.read_csv(\"/content/drive/MyDrive/Coding Dojo/Semana4/abalon.csv\",names=[\"Sex\",\"Length\",\"Diameter\",\"Height\",\"Whole Weight\",\"Shucked Weight\",\"Viscera Weight\",\"Shell Weight\",\"Rings\"])\n",
        "abalon_df.head(3)\n",
        "#backup\n",
        "abalon_Ori_df=abalon_df"
      ],
      "execution_count": 230,
      "outputs": []
    },
    {
      "cell_type": "markdown",
      "metadata": {
        "id": "3H8Ef02dhOTE"
      },
      "source": [
        "#Rings  + 1.5 = years"
      ]
    },
    {
      "cell_type": "markdown",
      "metadata": {
        "id": "Fu-dkWIfh6AU"
      },
      "source": [
        "#Exploracion"
      ]
    },
    {
      "cell_type": "code",
      "metadata": {
        "colab": {
          "base_uri": "https://localhost:8080/",
          "height": 272
        },
        "id": "zEm9M4-jh9jU",
        "outputId": "dba9b96b-246b-474e-e7e0-e279da653c56"
      },
      "source": [
        "myLayout=(21.7,8)\n",
        "abalon_df.hist(figsize=myLayout);\n"
      ],
      "execution_count": 231,
      "outputs": [
        {
          "output_type": "display_data",
          "data": {
            "image/png": "[encoded data removed]",
            "text/plain": [
              "<Figure size 1562.4x576 with 9 Axes>"
            ]
          },
          "metadata": {
            "needs_background": "light"
          }
        }
      ]
    },
    {
      "cell_type": "code",
      "metadata": {
        "colab": {
          "base_uri": "https://localhost:8080/",
          "height": 288,
          "referenced_widgets": [
            "f2339fd14b0b497dae037206e85c1cdf",
            "0c8ddc168c9a4ab88cfe9c261227b8db",
            "b9d1b3448298414ba29ffba3acb772ee",
            "06f7b1d459dd4d93ac8a3a84b2563fd1",
            "51aa973045a94c33bca5a178bfa0abb1",
            "3153bae318f24e088a67ac80c6e64792",
            "389fb13cae5442598dd6a8a3e94aedc9"
          ]
        },
        "id": "e2qafgmHln-u",
        "outputId": "6369c8da-a51e-413c-a988-d69e0200caaa"
      },
      "source": [
        "from google.colab import widgets\n",
        "\n",
        "#estoy trabajando esta funcion.\n",
        "def f(x=0):\n",
        "  df=abalon_df\n",
        "  output.clear()\n",
        "  f=df.iloc[:,[x]];\n",
        "  f=f.value_counts()\n",
        "  f=pd.DataFrame(f)\n",
        "  #print(f\"csm {df.iloc[:,[x]].columns}\")\n",
        "  #print(\"Variable \", colored(f\"*{df.iloc[:,[x]].column}*\",'red'))\n",
        "  #f.index.name =df.iloc[:,[x]].columns\n",
        "  f.columns = ['count']\n",
        "\n",
        "  print(\"Variable \", colored(f\"*{x}*  dtype:{df.dtypes[x]}\",'red'))\n",
        "  print(\"-----\")\n",
        "  print(f\"{len(f.index)} Categorias\")\n",
        "  print(f\"{df.shape[0]-f.values.sum()} perdidos de  {df.shape[0]}\")\n",
        "  if len(f.index)== df.shape[0]:\n",
        "    print(\"UNICO, se podria usar de indice\")\n",
        " \n",
        " \n",
        "  return f;\n",
        "  \n",
        "interact(f, x=(0,len(abalon_df.columns)-1))"
      ],
      "execution_count": 232,
      "outputs": [
        {
          "output_type": "display_data",
          "data": {
            "application/vnd.jupyter.widget-view+json": {
              "model_id": "f2339fd14b0b497dae037206e85c1cdf",
              "version_minor": 0,
              "version_major": 2
            },
            "text/plain": [
              "interactive(children=(IntSlider(value=0, description='x', max=8), Output()), _dom_classes=('widget-interact',)…"
            ]
          },
          "metadata": {}
        },
        {
          "output_type": "execute_result",
          "data": {
            "text/plain": [
              "<function __main__.f>"
            ]
          },
          "metadata": {},
          "execution_count": 232
        }
      ]
    },
    {
      "cell_type": "code",
      "metadata": {
        "colab": {
          "base_uri": "https://localhost:8080/",
          "height": 336
        },
        "id": "ByJ0-yjel_eW",
        "outputId": "dba48c25-b478-47e2-8f27-7f7d92d5a667"
      },
      "source": [
        "msno.bar(abalon_df);"
      ],
      "execution_count": 233,
      "outputs": [
        {
          "output_type": "display_data",
          "data": {
            "image/png": "[encoded data removed]",
            "text/plain": [
              "<Figure size 1800x720 with 3 Axes>"
            ]
          },
          "metadata": {
            "needs_background": "light"
          }
        }
      ]
    },
    {
      "cell_type": "markdown",
      "metadata": {
        "id": "oUUB_pvBk43f"
      },
      "source": [
        "#Codificacion Data Set, columna Sex"
      ]
    },
    {
      "cell_type": "markdown",
      "metadata": {
        "id": "oJ-7L5ruhk7l"
      },
      "source": [
        "definimos X e Y"
      ]
    },
    {
      "cell_type": "code",
      "metadata": {
        "colab": {
          "base_uri": "https://localhost:8080/",
          "height": 417
        },
        "id": "NCGNMms6k-qc",
        "outputId": "6cac8dd5-2a0d-4146-da45-b487a54c8b48"
      },
      "source": [
        "abalon_df=pd.get_dummies(abalon_df,prefix=[\"Sex\"],columns=[\"Sex\"])\n",
        "abalon_df"
      ],
      "execution_count": 234,
      "outputs": [
        {
          "output_type": "execute_result",
          "data": {
            "text/html": [
              "<div>\n",
              "<style scoped>\n",
              "    .dataframe tbody tr th:only-of-type {\n",
              "        vertical-align: middle;\n",
              "    }\n",
              "\n",
              "    .dataframe tbody tr th {\n",
              "        vertical-align: top;\n",
              "    }\n",
              "\n",
              "    .dataframe thead th {\n",
              "        text-align: right;\n",
              "    }\n",
              "</style>\n",
              "<table border=\"1\" class=\"dataframe\">\n",
              "  <thead>\n",
              "    <tr style=\"text-align: right;\">\n",
              "      <th></th>\n",
              "      <th>Length</th>\n",
              "      <th>Diameter</th>\n",
              "      <th>Height</th>\n",
              "      <th>Whole Weight</th>\n",
              "      <th>Shucked Weight</th>\n",
              "      <th>Viscera Weight</th>\n",
              "      <th>Shell Weight</th>\n",
              "      <th>Rings</th>\n",
              "      <th>Sex_F</th>\n",
              "      <th>Sex_I</th>\n",
              "      <th>Sex_M</th>\n",
              "    </tr>\n",
              "  </thead>\n",
              "  <tbody>\n",
              "    <tr>\n",
              "      <th>0</th>\n",
              "      <td>0.455</td>\n",
              "      <td>0.365</td>\n",
              "      <td>0.095</td>\n",
              "      <td>0.5140</td>\n",
              "      <td>0.2245</td>\n",
              "      <td>0.1010</td>\n",
              "      <td>0.1500</td>\n",
              "      <td>15</td>\n",
              "      <td>0</td>\n",
              "      <td>0</td>\n",
              "      <td>1</td>\n",
              "    </tr>\n",
              "    <tr>\n",
              "      <th>1</th>\n",
              "      <td>0.350</td>\n",
              "      <td>0.265</td>\n",
              "      <td>0.090</td>\n",
              "      <td>0.2255</td>\n",
              "      <td>0.0995</td>\n",
              "      <td>0.0485</td>\n",
              "      <td>0.0700</td>\n",
              "      <td>7</td>\n",
              "      <td>0</td>\n",
              "      <td>0</td>\n",
              "      <td>1</td>\n",
              "    </tr>\n",
              "    <tr>\n",
              "      <th>2</th>\n",
              "      <td>0.530</td>\n",
              "      <td>0.420</td>\n",
              "      <td>0.135</td>\n",
              "      <td>0.6770</td>\n",
              "      <td>0.2565</td>\n",
              "      <td>0.1415</td>\n",
              "      <td>0.2100</td>\n",
              "      <td>9</td>\n",
              "      <td>1</td>\n",
              "      <td>0</td>\n",
              "      <td>0</td>\n",
              "    </tr>\n",
              "    <tr>\n",
              "      <th>3</th>\n",
              "      <td>0.440</td>\n",
              "      <td>0.365</td>\n",
              "      <td>0.125</td>\n",
              "      <td>0.5160</td>\n",
              "      <td>0.2155</td>\n",
              "      <td>0.1140</td>\n",
              "      <td>0.1550</td>\n",
              "      <td>10</td>\n",
              "      <td>0</td>\n",
              "      <td>0</td>\n",
              "      <td>1</td>\n",
              "    </tr>\n",
              "    <tr>\n",
              "      <th>4</th>\n",
              "      <td>0.330</td>\n",
              "      <td>0.255</td>\n",
              "      <td>0.080</td>\n",
              "      <td>0.2050</td>\n",
              "      <td>0.0895</td>\n",
              "      <td>0.0395</td>\n",
              "      <td>0.0550</td>\n",
              "      <td>7</td>\n",
              "      <td>0</td>\n",
              "      <td>1</td>\n",
              "      <td>0</td>\n",
              "    </tr>\n",
              "    <tr>\n",
              "      <th>...</th>\n",
              "      <td>...</td>\n",
              "      <td>...</td>\n",
              "      <td>...</td>\n",
              "      <td>...</td>\n",
              "      <td>...</td>\n",
              "      <td>...</td>\n",
              "      <td>...</td>\n",
              "      <td>...</td>\n",
              "      <td>...</td>\n",
              "      <td>...</td>\n",
              "      <td>...</td>\n",
              "    </tr>\n",
              "    <tr>\n",
              "      <th>4172</th>\n",
              "      <td>0.565</td>\n",
              "      <td>0.450</td>\n",
              "      <td>0.165</td>\n",
              "      <td>0.8870</td>\n",
              "      <td>0.3700</td>\n",
              "      <td>0.2390</td>\n",
              "      <td>0.2490</td>\n",
              "      <td>11</td>\n",
              "      <td>1</td>\n",
              "      <td>0</td>\n",
              "      <td>0</td>\n",
              "    </tr>\n",
              "    <tr>\n",
              "      <th>4173</th>\n",
              "      <td>0.590</td>\n",
              "      <td>0.440</td>\n",
              "      <td>0.135</td>\n",
              "      <td>0.9660</td>\n",
              "      <td>0.4390</td>\n",
              "      <td>0.2145</td>\n",
              "      <td>0.2605</td>\n",
              "      <td>10</td>\n",
              "      <td>0</td>\n",
              "      <td>0</td>\n",
              "      <td>1</td>\n",
              "    </tr>\n",
              "    <tr>\n",
              "      <th>4174</th>\n",
              "      <td>0.600</td>\n",
              "      <td>0.475</td>\n",
              "      <td>0.205</td>\n",
              "      <td>1.1760</td>\n",
              "      <td>0.5255</td>\n",
              "      <td>0.2875</td>\n",
              "      <td>0.3080</td>\n",
              "      <td>9</td>\n",
              "      <td>0</td>\n",
              "      <td>0</td>\n",
              "      <td>1</td>\n",
              "    </tr>\n",
              "    <tr>\n",
              "      <th>4175</th>\n",
              "      <td>0.625</td>\n",
              "      <td>0.485</td>\n",
              "      <td>0.150</td>\n",
              "      <td>1.0945</td>\n",
              "      <td>0.5310</td>\n",
              "      <td>0.2610</td>\n",
              "      <td>0.2960</td>\n",
              "      <td>10</td>\n",
              "      <td>1</td>\n",
              "      <td>0</td>\n",
              "      <td>0</td>\n",
              "    </tr>\n",
              "    <tr>\n",
              "      <th>4176</th>\n",
              "      <td>0.710</td>\n",
              "      <td>0.555</td>\n",
              "      <td>0.195</td>\n",
              "      <td>1.9485</td>\n",
              "      <td>0.9455</td>\n",
              "      <td>0.3765</td>\n",
              "      <td>0.4950</td>\n",
              "      <td>12</td>\n",
              "      <td>0</td>\n",
              "      <td>0</td>\n",
              "      <td>1</td>\n",
              "    </tr>\n",
              "  </tbody>\n",
              "</table>\n",
              "<p>4177 rows × 11 columns</p>\n",
              "</div>"
            ],
            "text/plain": [
              "      Length  Diameter  Height  Whole Weight  ...  Rings  Sex_F  Sex_I  Sex_M\n",
              "0      0.455     0.365   0.095        0.5140  ...     15      0      0      1\n",
              "1      0.350     0.265   0.090        0.2255  ...      7      0      0      1\n",
              "2      0.530     0.420   0.135        0.6770  ...      9      1      0      0\n",
              "3      0.440     0.365   0.125        0.5160  ...     10      0      0      1\n",
              "4      0.330     0.255   0.080        0.2050  ...      7      0      1      0\n",
              "...      ...       ...     ...           ...  ...    ...    ...    ...    ...\n",
              "4172   0.565     0.450   0.165        0.8870  ...     11      1      0      0\n",
              "4173   0.590     0.440   0.135        0.9660  ...     10      0      0      1\n",
              "4174   0.600     0.475   0.205        1.1760  ...      9      0      0      1\n",
              "4175   0.625     0.485   0.150        1.0945  ...     10      1      0      0\n",
              "4176   0.710     0.555   0.195        1.9485  ...     12      0      0      1\n",
              "\n",
              "[4177 rows x 11 columns]"
            ]
          },
          "metadata": {},
          "execution_count": 234
        }
      ]
    },
    {
      "cell_type": "markdown",
      "metadata": {
        "id": "bAHNAVgX2yUf"
      },
      "source": [
        "#Regresion Lineal"
      ]
    },
    {
      "cell_type": "code",
      "metadata": {
        "id": "TUT3RpHufjuJ"
      },
      "source": [
        "X=abalon_df.drop(columns=\"Rings\")\n",
        "Y=abalon_df[\"Rings\"]\n",
        "\n",
        "X_train, X_test, y_train, y_test = train_test_split(X, Y, random_state=0,train_size=0.25 )\n",
        "\n"
      ],
      "execution_count": 235,
      "outputs": []
    },
    {
      "cell_type": "code",
      "metadata": {
        "id": "U3WfTLn4iIin"
      },
      "source": [
        "# inicializacion\n",
        "model=LinearRegression(fit_intercept=True)\n",
        "#entrenamiento\n"
      ],
      "execution_count": 236,
      "outputs": []
    },
    {
      "cell_type": "code",
      "metadata": {
        "id": "5cu7sJPHWbpF"
      },
      "source": [
        ""
      ],
      "execution_count": 236,
      "outputs": []
    },
    {
      "cell_type": "code",
      "metadata": {
        "colab": {
          "base_uri": "https://localhost:8080/"
        },
        "id": "J-TvxmRdWbRh",
        "outputId": "176c01b5-ae84-482f-d57d-2360015b55c4"
      },
      "source": [
        "model.fit(X_train,y_train)\n",
        "\n",
        "#predecimos con X_train\n",
        "y_preds=model.predict(X_test)\n",
        "\n",
        "y_preds"
      ],
      "execution_count": 237,
      "outputs": [
        {
          "output_type": "execute_result",
          "data": {
            "text/plain": [
              "array([13.59375   ,  9.28515625, 10.9765625 , ...,  6.9921875 ,\n",
              "       14.8515625 ,  7.4453125 ])"
            ]
          },
          "metadata": {},
          "execution_count": 237
        }
      ]
    },
    {
      "cell_type": "code",
      "metadata": {
        "colab": {
          "base_uri": "https://localhost:8080/"
        },
        "id": "jVqaOX9bnsSY",
        "outputId": "9374c97e-e4e6-4044-952f-8e4194cc64c3"
      },
      "source": [
        "#validamos \n",
        "len(Y_preds)\n",
        "\n",
        "model.score(X_test,y_test)"
      ],
      "execution_count": 238,
      "outputs": [
        {
          "output_type": "execute_result",
          "data": {
            "text/plain": [
              "0.5257658783902274"
            ]
          },
          "metadata": {},
          "execution_count": 238
        }
      ]
    },
    {
      "cell_type": "markdown",
      "metadata": {
        "id": "WD8JYHf-2_Io"
      },
      "source": [
        "nuestro modelo es explicado en un 53% por nuestro modelo, es decir CLW"
      ]
    },
    {
      "cell_type": "markdown",
      "metadata": {
        "id": "uo7YInzToaud"
      },
      "source": [
        "#hora por KNNClasificador\n"
      ]
    },
    {
      "cell_type": "code",
      "metadata": {
        "id": "4XafsKodpqo2"
      },
      "source": [
        "scaler = StandardScaler()\n",
        "# Ajusta en X (asumiendo que tu matriz de características es una matriz NumPy)\n",
        "scaler.fit(X)\n",
        "# Transform X\n",
        "X = scaler.transform(X);"
      ],
      "execution_count": 239,
      "outputs": []
    },
    {
      "cell_type": "code",
      "metadata": {
        "id": "2MO1sC8hoeE_"
      },
      "source": [
        "knn = KNeighborsClassifier(n_neighbors=1)"
      ],
      "execution_count": 240,
      "outputs": []
    },
    {
      "cell_type": "code",
      "metadata": {
        "colab": {
          "base_uri": "https://localhost:8080/"
        },
        "id": "LzpDHpmsoxgv",
        "outputId": "805ed694-02e7-49c7-a039-088c67abe747"
      },
      "source": [
        "knn"
      ],
      "execution_count": 241,
      "outputs": [
        {
          "output_type": "execute_result",
          "data": {
            "text/plain": [
              "KNeighborsClassifier(algorithm='auto', leaf_size=30, metric='minkowski',\n",
              "                     metric_params=None, n_jobs=None, n_neighbors=1, p=2,\n",
              "                     weights='uniform')"
            ]
          },
          "metadata": {},
          "execution_count": 241
        }
      ]
    },
    {
      "cell_type": "code",
      "metadata": {
        "colab": {
          "base_uri": "https://localhost:8080/"
        },
        "id": "G9KLnptspczh",
        "outputId": "b2efe01d-647c-44ba-f306-e97851945ced"
      },
      "source": [
        "knn.fit(X_train, y_train)"
      ],
      "execution_count": 242,
      "outputs": [
        {
          "output_type": "execute_result",
          "data": {
            "text/plain": [
              "KNeighborsClassifier(algorithm='auto', leaf_size=30, metric='minkowski',\n",
              "                     metric_params=None, n_jobs=None, n_neighbors=1, p=2,\n",
              "                     weights='uniform')"
            ]
          },
          "metadata": {},
          "execution_count": 242
        }
      ]
    },
    {
      "cell_type": "code",
      "metadata": {
        "colab": {
          "base_uri": "https://localhost:8080/"
        },
        "id": "83Gf6mR4qvRB",
        "outputId": "6417e912-f468-4585-a654-938700be0bd5"
      },
      "source": [
        "y_preds=knn.predict(X_test)\n",
        "y_preds"
      ],
      "execution_count": 243,
      "outputs": [
        {
          "output_type": "execute_result",
          "data": {
            "text/plain": [
              "array([13,  8,  9, ...,  6, 10,  9])"
            ]
          },
          "metadata": {},
          "execution_count": 243
        }
      ]
    },
    {
      "cell_type": "code",
      "metadata": {
        "colab": {
          "base_uri": "https://localhost:8080/"
        },
        "id": "6EhCIpRgryct",
        "outputId": "8b252358-434a-459f-936d-aa954750de30"
      },
      "source": [
        "score = knn.score(X_test,y_test)\n",
        "score"
      ],
      "execution_count": 244,
      "outputs": [
        {
          "output_type": "execute_result",
          "data": {
            "text/plain": [
              "0.2052345994254708"
            ]
          },
          "metadata": {},
          "execution_count": 244
        }
      ]
    },
    {
      "cell_type": "markdown",
      "metadata": {
        "id": "sYQ1YWC7vTrA"
      },
      "source": [
        "#KNN Regresor"
      ]
    },
    {
      "cell_type": "code",
      "metadata": {
        "colab": {
          "base_uri": "https://localhost:8080/"
        },
        "id": "pE5LDlsgvFE4",
        "outputId": "48a0610d-ab03-4706-93f2-159d5ddb9f7c"
      },
      "source": [
        "neigh = KNeighborsRegressor(n_neighbors=2)\n",
        "neigh.fit(X_train, y_train)\n",
        "y_preds=neigh.predict(X_test)\n",
        "y_preds"
      ],
      "execution_count": 245,
      "outputs": [
        {
          "output_type": "execute_result",
          "data": {
            "text/plain": [
              "array([13. ,  8.5,  9. , ...,  6.5, 13. ,  9. ])"
            ]
          },
          "metadata": {},
          "execution_count": 245
        }
      ]
    },
    {
      "cell_type": "code",
      "metadata": {
        "colab": {
          "base_uri": "https://localhost:8080/"
        },
        "id": "yKiavGaEvzN3",
        "outputId": "c008859a-a9c1-427f-e570-f8d3d2852164"
      },
      "source": [
        "score=neigh.score(X_test,y_test)\n",
        "score"
      ],
      "execution_count": 246,
      "outputs": [
        {
          "output_type": "execute_result",
          "data": {
            "text/plain": [
              "0.3810004112727239"
            ]
          },
          "metadata": {},
          "execution_count": 246
        }
      ]
    },
    {
      "cell_type": "markdown",
      "metadata": {
        "id": "YPRGULbCxj-Q"
      },
      "source": [
        "#Ahora predicciones para Sexo con Knn Clasificador\n"
      ]
    },
    {
      "cell_type": "markdown",
      "metadata": {
        "id": "Z6W0XWnHzBsz"
      },
      "source": [
        "reordenamos X,Y"
      ]
    },
    {
      "cell_type": "code",
      "metadata": {
        "colab": {
          "base_uri": "https://localhost:8080/"
        },
        "id": "h8gyoI8UzI5Y",
        "outputId": "dc6c9268-d504-4bb4-88a4-8d7f953ed329"
      },
      "source": [
        "X=abalon_Ori_df.drop(columns=[\"Sex\"])\n",
        "Y=abalon_Ori_df[\"Sex\"]\n",
        "Y"
      ],
      "execution_count": 247,
      "outputs": [
        {
          "output_type": "execute_result",
          "data": {
            "text/plain": [
              "0       M\n",
              "1       M\n",
              "2       F\n",
              "3       M\n",
              "4       I\n",
              "       ..\n",
              "4172    F\n",
              "4173    M\n",
              "4174    M\n",
              "4175    F\n",
              "4176    M\n",
              "Name: Sex, Length: 4177, dtype: object"
            ]
          },
          "metadata": {},
          "execution_count": 247
        }
      ]
    },
    {
      "cell_type": "code",
      "metadata": {
        "id": "boQYz29t0h9k"
      },
      "source": [
        "scaler = StandardScaler()\n",
        "# Ajusta en X (asumiendo que tu matriz de características es una matriz NumPy)\n",
        "scaler.fit(X)\n",
        "# Transform X\n",
        "X = scaler.transform(X);"
      ],
      "execution_count": 248,
      "outputs": []
    },
    {
      "cell_type": "code",
      "metadata": {
        "id": "gRA-wNQv0tGb"
      },
      "source": [
        "knn = KNeighborsClassifier(n_neighbors=1)"
      ],
      "execution_count": 249,
      "outputs": []
    },
    {
      "cell_type": "code",
      "metadata": {
        "colab": {
          "base_uri": "https://localhost:8080/"
        },
        "id": "UsSzvRUK2CUo",
        "outputId": "c012a142-af48-426e-f2a9-fd1a3d7cde86"
      },
      "source": [
        "knn.fit(X, Y)"
      ],
      "execution_count": 250,
      "outputs": [
        {
          "output_type": "execute_result",
          "data": {
            "text/plain": [
              "KNeighborsClassifier(algorithm='auto', leaf_size=30, metric='minkowski',\n",
              "                     metric_params=None, n_jobs=None, n_neighbors=1, p=2,\n",
              "                     weights='uniform')"
            ]
          },
          "metadata": {},
          "execution_count": 250
        }
      ]
    },
    {
      "cell_type": "code",
      "metadata": {
        "colab": {
          "base_uri": "https://localhost:8080/"
        },
        "id": "hXT02QDA2HbS",
        "outputId": "0e0cd4b0-c2c1-42b9-f3c4-04310f0c7420"
      },
      "source": [
        "Y_preds=knn.predict(X)\n",
        "Y_preds"
      ],
      "execution_count": 251,
      "outputs": [
        {
          "output_type": "execute_result",
          "data": {
            "text/plain": [
              "array(['M', 'M', 'F', ..., 'M', 'F', 'M'], dtype=object)"
            ]
          },
          "metadata": {},
          "execution_count": 251
        }
      ]
    },
    {
      "cell_type": "code",
      "metadata": {
        "colab": {
          "base_uri": "https://localhost:8080/"
        },
        "id": "gtXqQcoH2PfO",
        "outputId": "27404f9a-32bc-41d8-c42d-b073b9583340"
      },
      "source": [
        "score=knn.score(X,Y)\n",
        "score"
      ],
      "execution_count": 252,
      "outputs": [
        {
          "output_type": "execute_result",
          "data": {
            "text/plain": [
              "1.0"
            ]
          },
          "metadata": {},
          "execution_count": 252
        }
      ]
    },
    {
      "cell_type": "markdown",
      "metadata": {
        "id": "0AQcl1uS2hBn"
      },
      "source": [
        "#Preguntas"
      ]
    },
    {
      "cell_type": "markdown",
      "metadata": {
        "id": "75vqqY4k2jH-"
      },
      "source": [
        "Preguntas para pensar y responder\n",
        "Una vez que hayas completado la tarea, responde las siguientes preguntas:\n",
        "\n",
        "¿Cuál de KNN o regresión lineal pareció un mejor modelo cuando no usaste la división entrenar probar?\n",
        "\n",
        "R: KNN Classificador  r2 100%\n",
        "\n",
        "¿Cuál de KNN o regresión lineal pareció un mejor modelo cuando usaste la división entrenar probar?\n",
        "\n",
        "R: regresion Lineal (mantuvo su factor explicativo), los otros empeoraron su factor explicativo.\n",
        "\n",
        " ¿Hubo alguna ventaja en la regresión lineal en términos de la cantidad de código que tenías que escribir?\n",
        "\n",
        "R:No en primera insancia.\n",
        "\n",
        "¿Hay alguna forma de mostrarle a alguien cuál de los dos modelos fue más efectivo?\n",
        "\n",
        "si expresando mas de una metrica, en contexto. atravez de tabla o gráfico.\n",
        "\n",
        "¿Crees que podrías haber mejorado KNN para mejorar la eficacia del modelo?\n",
        "\n",
        "-no aún"
      ]
    },
    {
      "cell_type": "markdown",
      "metadata": {
        "id": "1e2H9XnK2myS"
      },
      "source": [
        ""
      ]
    }
  ]
}