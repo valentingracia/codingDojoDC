{
  "nbformat": 4,
  "nbformat_minor": 0,
  "metadata": {
    "colab": {
      "name": "Tarea1 Semana7.ipynb",
      "provenance": [],
      "collapsed_sections": [],
      "mount_file_id": "17TspCwgLREeq41HVYn18LEPL7dJ1AI9K",
      "authorship_tag": "ABX9TyO+LPrABrEd+EmWWYRtrMYv",
      "include_colab_link": true
    },
    "kernelspec": {
      "name": "python3",
      "display_name": "Python 3"
    },
    "language_info": {
      "name": "python"
    },
    "widgets": {
      "application/vnd.jupyter.widget-state+json": {
        "387892e4913b4f67a4f24c891f97f0a8": {
          "model_module": "@jupyter-widgets/controls",
          "model_name": "VBoxModel",
          "model_module_version": "1.5.0",
          "state": {
            "_view_name": "VBoxView",
            "_dom_classes": [
              "widget-interact"
            ],
            "_model_name": "VBoxModel",
            "_view_module": "@jupyter-widgets/controls",
            "_model_module_version": "1.5.0",
            "_view_count": null,
            "_view_module_version": "1.5.0",
            "box_style": "",
            "layout": "IPY_MODEL_47c8b2c59e0c4b1db413f6ddbac8a49c",
            "_model_module": "@jupyter-widgets/controls",
            "children": [
              "IPY_MODEL_4f1bc0b35aa24a8a9382a8b28298a40b",
              "IPY_MODEL_655e8c3ae01e4bee8af44e24027a08dc"
            ]
          }
        },
        "47c8b2c59e0c4b1db413f6ddbac8a49c": {
          "model_module": "@jupyter-widgets/base",
          "model_name": "LayoutModel",
          "model_module_version": "1.2.0",
          "state": {
            "_view_name": "LayoutView",
            "grid_template_rows": null,
            "right": null,
            "justify_content": null,
            "_view_module": "@jupyter-widgets/base",
            "overflow": null,
            "_model_module_version": "1.2.0",
            "_view_count": null,
            "flex_flow": null,
            "width": null,
            "min_width": null,
            "border": null,
            "align_items": null,
            "bottom": null,
            "_model_module": "@jupyter-widgets/base",
            "top": null,
            "grid_column": null,
            "overflow_y": null,
            "overflow_x": null,
            "grid_auto_flow": null,
            "grid_area": null,
            "grid_template_columns": null,
            "flex": null,
            "_model_name": "LayoutModel",
            "justify_items": null,
            "grid_row": null,
            "max_height": null,
            "align_content": null,
            "visibility": null,
            "align_self": null,
            "height": null,
            "min_height": null,
            "padding": null,
            "grid_auto_rows": null,
            "grid_gap": null,
            "max_width": null,
            "order": null,
            "_view_module_version": "1.2.0",
            "grid_template_areas": null,
            "object_position": null,
            "object_fit": null,
            "grid_auto_columns": null,
            "margin": null,
            "display": null,
            "left": null
          }
        },
        "4f1bc0b35aa24a8a9382a8b28298a40b": {
          "model_module": "@jupyter-widgets/controls",
          "model_name": "IntSliderModel",
          "model_module_version": "1.5.0",
          "state": {
            "_view_name": "IntSliderView",
            "style": "IPY_MODEL_4005fd83db1644069052e2f94bd2bff3",
            "_dom_classes": [],
            "description": "varCol",
            "step": 1,
            "_model_name": "IntSliderModel",
            "orientation": "horizontal",
            "max": 13,
            "_view_module": "@jupyter-widgets/controls",
            "_model_module_version": "1.5.0",
            "value": 0,
            "_view_count": null,
            "disabled": false,
            "_view_module_version": "1.5.0",
            "min": 0,
            "continuous_update": true,
            "readout_format": "d",
            "description_tooltip": null,
            "readout": true,
            "_model_module": "@jupyter-widgets/controls",
            "layout": "IPY_MODEL_e1115d522f824fc9a616916f7a28655d"
          }
        },
        "655e8c3ae01e4bee8af44e24027a08dc": {
          "model_module": "@jupyter-widgets/output",
          "model_name": "OutputModel",
          "model_module_version": "1.0.0",
          "state": {
            "_view_name": "OutputView",
            "msg_id": "",
            "_dom_classes": [],
            "_model_name": "OutputModel",
            "outputs": [
              {
                "output_type": "stream",
                "name": "stdout",
                "text": [
                  "Variable  \u001b[31m*0*  dtype:int64\u001b[0m\n",
                  "-----\n",
                  "3 Categorias\n",
                  "0 perdidos de  178\n"
                ]
              },
              {
                "output_type": "display_data",
                "data": {
                  "text/html": "<div>\n<style scoped>\n    .dataframe tbody tr th:only-of-type {\n        vertical-align: middle;\n    }\n\n    .dataframe tbody tr th {\n        vertical-align: top;\n    }\n\n    .dataframe thead th {\n        text-align: right;\n    }\n</style>\n<table border=\"1\" class=\"dataframe\">\n  <thead>\n    <tr style=\"text-align: right;\">\n      <th></th>\n      <th>count</th>\n    </tr>\n    <tr>\n      <th>wineType</th>\n      <th></th>\n    </tr>\n  </thead>\n  <tbody>\n    <tr>\n      <th>2</th>\n      <td>71</td>\n    </tr>\n    <tr>\n      <th>1</th>\n      <td>59</td>\n    </tr>\n    <tr>\n      <th>3</th>\n      <td>48</td>\n    </tr>\n  </tbody>\n</table>\n</div>",
                  "text/plain": "          count\nwineType       \n2            71\n1            59\n3            48"
                },
                "metadata": {}
              }
            ],
            "_view_module": "@jupyter-widgets/output",
            "_model_module_version": "1.0.0",
            "_view_count": null,
            "_view_module_version": "1.0.0",
            "layout": "IPY_MODEL_617f1cefa6d94db3bde2ec7e57185896",
            "_model_module": "@jupyter-widgets/output"
          }
        },
        "4005fd83db1644069052e2f94bd2bff3": {
          "model_module": "@jupyter-widgets/controls",
          "model_name": "SliderStyleModel",
          "model_module_version": "1.5.0",
          "state": {
            "_view_name": "StyleView",
            "handle_color": null,
            "_model_name": "SliderStyleModel",
            "description_width": "",
            "_view_module": "@jupyter-widgets/base",
            "_model_module_version": "1.5.0",
            "_view_count": null,
            "_view_module_version": "1.2.0",
            "_model_module": "@jupyter-widgets/controls"
          }
        },
        "e1115d522f824fc9a616916f7a28655d": {
          "model_module": "@jupyter-widgets/base",
          "model_name": "LayoutModel",
          "model_module_version": "1.2.0",
          "state": {
            "_view_name": "LayoutView",
            "grid_template_rows": null,
            "right": null,
            "justify_content": null,
            "_view_module": "@jupyter-widgets/base",
            "overflow": null,
            "_model_module_version": "1.2.0",
            "_view_count": null,
            "flex_flow": null,
            "width": null,
            "min_width": null,
            "border": null,
            "align_items": null,
            "bottom": null,
            "_model_module": "@jupyter-widgets/base",
            "top": null,
            "grid_column": null,
            "overflow_y": null,
            "overflow_x": null,
            "grid_auto_flow": null,
            "grid_area": null,
            "grid_template_columns": null,
            "flex": null,
            "_model_name": "LayoutModel",
            "justify_items": null,
            "grid_row": null,
            "max_height": null,
            "align_content": null,
            "visibility": null,
            "align_self": null,
            "height": null,
            "min_height": null,
            "padding": null,
            "grid_auto_rows": null,
            "grid_gap": null,
            "max_width": null,
            "order": null,
            "_view_module_version": "1.2.0",
            "grid_template_areas": null,
            "object_position": null,
            "object_fit": null,
            "grid_auto_columns": null,
            "margin": null,
            "display": null,
            "left": null
          }
        },
        "617f1cefa6d94db3bde2ec7e57185896": {
          "model_module": "@jupyter-widgets/base",
          "model_name": "LayoutModel",
          "model_module_version": "1.2.0",
          "state": {
            "_view_name": "LayoutView",
            "grid_template_rows": null,
            "right": null,
            "justify_content": null,
            "_view_module": "@jupyter-widgets/base",
            "overflow": null,
            "_model_module_version": "1.2.0",
            "_view_count": null,
            "flex_flow": null,
            "width": null,
            "min_width": null,
            "border": null,
            "align_items": null,
            "bottom": null,
            "_model_module": "@jupyter-widgets/base",
            "top": null,
            "grid_column": null,
            "overflow_y": null,
            "overflow_x": null,
            "grid_auto_flow": null,
            "grid_area": null,
            "grid_template_columns": null,
            "flex": null,
            "_model_name": "LayoutModel",
            "justify_items": null,
            "grid_row": null,
            "max_height": null,
            "align_content": null,
            "visibility": null,
            "align_self": null,
            "height": null,
            "min_height": null,
            "padding": null,
            "grid_auto_rows": null,
            "grid_gap": null,
            "max_width": null,
            "order": null,
            "_view_module_version": "1.2.0",
            "grid_template_areas": null,
            "object_position": null,
            "object_fit": null,
            "grid_auto_columns": null,
            "margin": null,
            "display": null,
            "left": null
          }
        }
      }
    }
  },
  "cells": [
    {
      "cell_type": "markdown",
      "metadata": {
        "id": "view-in-github",
        "colab_type": "text"
      },
      "source": [
        "<a href=\"https://colab.research.google.com/github/valentingracia/codingDojoDC/blob/main/Tarea1_Semana7.ipynb\" target=\"_parent\"><img src=\"https://colab.research.google.com/assets/colab-badge.svg\" alt=\"Open In Colab\"/></a>"
      ]
    },
    {
      "cell_type": "markdown",
      "metadata": {
        "id": "piQMuwqIGXDm"
      },
      "source": [
        "Tarea 1 Semana 7, Alumno Valentin Gracia"
      ]
    },
    {
      "cell_type": "code",
      "metadata": {
        "id": "iNRdJJGhJKqk"
      },
      "source": [
        "#librerisa Clasicas\n",
        "import matplotlib.pyplot as plt\n",
        "import seaborn as sb\n",
        "import pandas as pd\n",
        "import numpy as np\n",
        "\n",
        "from sklearn.model_selection import train_test_split\n",
        "from sklearn.preprocessing import StandardScaler\n",
        "from sklearn.linear_model import LinearRegression\n",
        "from sklearn.linear_model import LogisticRegression\n",
        "from sklearn.multiclass import OneVsOneClassifier\n",
        "from sklearn.multiclass import OneVsRestClassifier\n",
        "from sklearn.svm import SVC\n",
        "\n",
        "from sklearn.model_selection import GridSearchCV\n",
        "import missingno as mssno\n",
        "\n",
        "#Widgets\n",
        "from ipywidgets import interact, interactive, fixed, interact_manual,IntSlider\n",
        "import ipywidgets as widgets\n",
        "\n",
        "#other\n",
        "from termcolor import colored\n",
        "from google.colab import output\n",
        "\n",
        "import warnings\n",
        "warnings.filterwarnings('ignore')"
      ],
      "execution_count": 402,
      "outputs": []
    },
    {
      "cell_type": "markdown",
      "metadata": {
        "id": "04KB-Y0aHEPA"
      },
      "source": [
        ""
      ]
    },
    {
      "cell_type": "code",
      "metadata": {
        "id": "hinCWhmRHEmn"
      },
      "source": [
        "headers=[\"wineType\",\"Alcohol\",\"Malic acid\",\"Ash\",\"Alcalinity of ash\",\"Magnesium\",\"Total phenols\",\"Flavanoids\",\"Nonflavanoid phenols\",\"Proanthocyanins\",\n",
        "\"Color intensity\",\"Hue\",\"OD280/OD315 of diluted wines\",\"Proline\"]\n",
        "wine_df=pd.read_csv(\"/content/drive/MyDrive/Coding Dojo/Semana7/wine.data\",names=headers)"
      ],
      "execution_count": 403,
      "outputs": []
    },
    {
      "cell_type": "code",
      "metadata": {
        "colab": {
          "base_uri": "https://localhost:8080/",
          "height": 159
        },
        "id": "ZC9saACaHLHZ",
        "outputId": "c4b7105e-34bb-4a31-b8bb-23840c73ca73"
      },
      "source": [
        "wine_df.head(3)"
      ],
      "execution_count": 404,
      "outputs": [
        {
          "output_type": "execute_result",
          "data": {
            "text/html": [
              "<div>\n",
              "<style scoped>\n",
              "    .dataframe tbody tr th:only-of-type {\n",
              "        vertical-align: middle;\n",
              "    }\n",
              "\n",
              "    .dataframe tbody tr th {\n",
              "        vertical-align: top;\n",
              "    }\n",
              "\n",
              "    .dataframe thead th {\n",
              "        text-align: right;\n",
              "    }\n",
              "</style>\n",
              "<table border=\"1\" class=\"dataframe\">\n",
              "  <thead>\n",
              "    <tr style=\"text-align: right;\">\n",
              "      <th></th>\n",
              "      <th>wineType</th>\n",
              "      <th>Alcohol</th>\n",
              "      <th>Malic acid</th>\n",
              "      <th>Ash</th>\n",
              "      <th>Alcalinity of ash</th>\n",
              "      <th>Magnesium</th>\n",
              "      <th>Total phenols</th>\n",
              "      <th>Flavanoids</th>\n",
              "      <th>Nonflavanoid phenols</th>\n",
              "      <th>Proanthocyanins</th>\n",
              "      <th>Color intensity</th>\n",
              "      <th>Hue</th>\n",
              "      <th>OD280/OD315 of diluted wines</th>\n",
              "      <th>Proline</th>\n",
              "    </tr>\n",
              "  </thead>\n",
              "  <tbody>\n",
              "    <tr>\n",
              "      <th>0</th>\n",
              "      <td>1</td>\n",
              "      <td>14.23</td>\n",
              "      <td>1.71</td>\n",
              "      <td>2.43</td>\n",
              "      <td>15.6</td>\n",
              "      <td>127</td>\n",
              "      <td>2.80</td>\n",
              "      <td>3.06</td>\n",
              "      <td>0.28</td>\n",
              "      <td>2.29</td>\n",
              "      <td>5.64</td>\n",
              "      <td>1.04</td>\n",
              "      <td>3.92</td>\n",
              "      <td>1065</td>\n",
              "    </tr>\n",
              "    <tr>\n",
              "      <th>1</th>\n",
              "      <td>1</td>\n",
              "      <td>13.20</td>\n",
              "      <td>1.78</td>\n",
              "      <td>2.14</td>\n",
              "      <td>11.2</td>\n",
              "      <td>100</td>\n",
              "      <td>2.65</td>\n",
              "      <td>2.76</td>\n",
              "      <td>0.26</td>\n",
              "      <td>1.28</td>\n",
              "      <td>4.38</td>\n",
              "      <td>1.05</td>\n",
              "      <td>3.40</td>\n",
              "      <td>1050</td>\n",
              "    </tr>\n",
              "    <tr>\n",
              "      <th>2</th>\n",
              "      <td>1</td>\n",
              "      <td>13.16</td>\n",
              "      <td>2.36</td>\n",
              "      <td>2.67</td>\n",
              "      <td>18.6</td>\n",
              "      <td>101</td>\n",
              "      <td>2.80</td>\n",
              "      <td>3.24</td>\n",
              "      <td>0.30</td>\n",
              "      <td>2.81</td>\n",
              "      <td>5.68</td>\n",
              "      <td>1.03</td>\n",
              "      <td>3.17</td>\n",
              "      <td>1185</td>\n",
              "    </tr>\n",
              "  </tbody>\n",
              "</table>\n",
              "</div>"
            ],
            "text/plain": [
              "   wineType  Alcohol  Malic acid  ...   Hue  OD280/OD315 of diluted wines  Proline\n",
              "0         1    14.23        1.71  ...  1.04                          3.92     1065\n",
              "1         1    13.20        1.78  ...  1.05                          3.40     1050\n",
              "2         1    13.16        2.36  ...  1.03                          3.17     1185\n",
              "\n",
              "[3 rows x 14 columns]"
            ]
          },
          "metadata": {},
          "execution_count": 404
        }
      ]
    },
    {
      "cell_type": "code",
      "metadata": {
        "colab": {
          "base_uri": "https://localhost:8080/"
        },
        "id": "i0ugEmSXbVCT",
        "outputId": "43f335ff-c8ad-4d7c-b38a-ce140b8fa294"
      },
      "source": [
        "wine_df.info()"
      ],
      "execution_count": 405,
      "outputs": [
        {
          "output_type": "stream",
          "name": "stdout",
          "text": [
            "<class 'pandas.core.frame.DataFrame'>\n",
            "RangeIndex: 178 entries, 0 to 177\n",
            "Data columns (total 14 columns):\n",
            " #   Column                        Non-Null Count  Dtype  \n",
            "---  ------                        --------------  -----  \n",
            " 0   wineType                      178 non-null    int64  \n",
            " 1   Alcohol                       178 non-null    float64\n",
            " 2   Malic acid                    178 non-null    float64\n",
            " 3   Ash                           178 non-null    float64\n",
            " 4   Alcalinity of ash             178 non-null    float64\n",
            " 5   Magnesium                     178 non-null    int64  \n",
            " 6   Total phenols                 178 non-null    float64\n",
            " 7   Flavanoids                    178 non-null    float64\n",
            " 8   Nonflavanoid phenols          178 non-null    float64\n",
            " 9   Proanthocyanins               178 non-null    float64\n",
            " 10  Color intensity               178 non-null    float64\n",
            " 11  Hue                           178 non-null    float64\n",
            " 12  OD280/OD315 of diluted wines  178 non-null    float64\n",
            " 13  Proline                       178 non-null    int64  \n",
            "dtypes: float64(11), int64(3)\n",
            "memory usage: 19.6 KB\n"
          ]
        }
      ]
    },
    {
      "cell_type": "code",
      "metadata": {
        "colab": {
          "base_uri": "https://localhost:8080/",
          "height": 678
        },
        "id": "A2a5bUF4H0rB",
        "outputId": "0a32fc9c-1564-4c75-ebca-462b7c29139a"
      },
      "source": [
        "mssno.bar(wine_df);\n",
        "\n",
        "\n"
      ],
      "execution_count": 406,
      "outputs": [
        {
          "output_type": "display_data",
          "data": {
            "image/png": "[encoded data removed]",
            "text/plain": [
              "<Figure size 1800x720 with 3 Axes>"
            ]
          },
          "metadata": {
            "needs_background": "light"
          }
        }
      ]
    },
    {
      "cell_type": "code",
      "metadata": {
        "colab": {
          "base_uri": "https://localhost:8080/",
          "height": 290,
          "referenced_widgets": [
            "387892e4913b4f67a4f24c891f97f0a8",
            "47c8b2c59e0c4b1db413f6ddbac8a49c",
            "4f1bc0b35aa24a8a9382a8b28298a40b",
            "655e8c3ae01e4bee8af44e24027a08dc",
            "4005fd83db1644069052e2f94bd2bff3",
            "e1115d522f824fc9a616916f7a28655d",
            "617f1cefa6d94db3bde2ec7e57185896"
          ]
        },
        "id": "9Lyd9HbpL1p7",
        "outputId": "99ad75e7-0dc7-49a8-a1d5-2451151a8120"
      },
      "source": [
        "from google.colab import widgets\n",
        "\n",
        "#estoy trabajando esta funcion.\n",
        "def f(varCol=0):\n",
        "  df=wine_df\n",
        "  output.clear()\n",
        "  f=df.iloc[:,[varCol]];\n",
        "  f=f.value_counts()\n",
        "  f=pd.DataFrame(f)\n",
        "  #print(f\"csm {df.iloc[:,[x]].columns}\")\n",
        "  #print(\"Variable \", colored(f\"*{df.iloc[:,[x]].column}*\",'red'))\n",
        "  #f.index.name =df.iloc[:,[x]].columns\n",
        "  f.columns = ['count']\n",
        "\n",
        "  print(\"Variable \", colored(f\"*{varCol}*  dtype:{df.dtypes[varCol]}\",'red'))\n",
        "  print(\"-----\")\n",
        "  print(f\"{len(f.index)} Categorias\")\n",
        "  print(f\"{df.shape[0]-f.values.sum()} perdidos de  {df.shape[0]}\")\n",
        "  if len(f.index)== df.shape[0]:\n",
        "    print(\"UNICO, se podria usar de indice\")\n",
        " \n",
        " \n",
        "  return f;\n",
        "  \n",
        "interact(f, varCol=(0,len(wine_df.columns)-1))"
      ],
      "execution_count": 407,
      "outputs": [
        {
          "output_type": "display_data",
          "data": {
            "application/vnd.jupyter.widget-view+json": {
              "model_id": "387892e4913b4f67a4f24c891f97f0a8",
              "version_minor": 0,
              "version_major": 2
            },
            "text/plain": [
              "interactive(children=(IntSlider(value=0, description='varCol', max=13), Output()), _dom_classes=('widget-inter…"
            ]
          },
          "metadata": {}
        },
        {
          "output_type": "execute_result",
          "data": {
            "text/plain": [
              "<function __main__.f>"
            ]
          },
          "metadata": {},
          "execution_count": 407
        }
      ]
    },
    {
      "cell_type": "code",
      "metadata": {
        "id": "HaLjgfG5IA9v"
      },
      "source": [
        "X=wine_df.drop(columns=[\"wineType\"])\n",
        "y=wine_df[\"wineType\"]"
      ],
      "execution_count": 408,
      "outputs": []
    },
    {
      "cell_type": "code",
      "metadata": {
        "id": "c3IXbU1eJ99p"
      },
      "source": [
        "X_train,X_test,y_train,y_test=train_test_split(X,y,train_size=0.75,random_state=1)"
      ],
      "execution_count": 409,
      "outputs": []
    },
    {
      "cell_type": "code",
      "metadata": {
        "id": "MF9gSCI3KTo1"
      },
      "source": [
        "scaler=StandardScaler()\n",
        "scaler.fit(X_train)\n",
        "\n",
        "X_train=scaler.transform(X_train)\n",
        "X_test=scaler.transform(X_test)\n"
      ],
      "execution_count": 410,
      "outputs": []
    },
    {
      "cell_type": "code",
      "metadata": {
        "colab": {
          "base_uri": "https://localhost:8080/"
        },
        "id": "dG2EZJcDKwld",
        "outputId": "54b8d7b1-30e2-4795-eea7-2bfabe908ba8"
      },
      "source": [
        "logRegOVR=LogisticRegression().fit(X_train,y_train)\n",
        "ovo=OneVsOneClassifier(SVC()).fit(X_train, y_train)\n",
        "\n",
        "print(f\"logRegovr: {logRegOVR}\")\n",
        "print(f\"ovo: {ovo}\")      \n",
        "#ovr.fit(X_train,y_train)"
      ],
      "execution_count": 411,
      "outputs": [
        {
          "output_type": "stream",
          "name": "stdout",
          "text": [
            "logRegovr: LogisticRegression(C=1.0, class_weight=None, dual=False, fit_intercept=True,\n",
            "                   intercept_scaling=1, l1_ratio=None, max_iter=100,\n",
            "                   multi_class='auto', n_jobs=None, penalty='l2',\n",
            "                   random_state=None, solver='lbfgs', tol=0.0001, verbose=0,\n",
            "                   warm_start=False)\n",
            "ovo: OneVsOneClassifier(estimator=SVC(C=1.0, break_ties=False, cache_size=200,\n",
            "                                 class_weight=None, coef0=0.0,\n",
            "                                 decision_function_shape='ovr', degree=3,\n",
            "                                 gamma='scale', kernel='rbf', max_iter=-1,\n",
            "                                 probability=False, random_state=None,\n",
            "                                 shrinking=True, tol=0.001, verbose=False),\n",
            "                   n_jobs=None)\n"
          ]
        }
      ]
    },
    {
      "cell_type": "code",
      "metadata": {
        "colab": {
          "base_uri": "https://localhost:8080/"
        },
        "id": "h3WmEL0dLTuA",
        "outputId": "ed9e5aa7-7f72-4035-c48f-76e7d770824f"
      },
      "source": [
        "#R2 train\n",
        "print(f\"logRegOVR: {logRegOVR.score(X_train,y_train)}\")\n",
        "print(f\"ovo: {ovr.score(X_train,y_train)}\")\n"
      ],
      "execution_count": 412,
      "outputs": [
        {
          "output_type": "stream",
          "name": "stdout",
          "text": [
            "logRegOVR: 1.0\n",
            "ovo: 1.0\n"
          ]
        }
      ]
    },
    {
      "cell_type": "code",
      "metadata": {
        "colab": {
          "base_uri": "https://localhost:8080/"
        },
        "id": "zXORHOzFLaGv",
        "outputId": "acea6641-39c6-4ac7-eaf4-2c9c742ba2a7"
      },
      "source": [
        "#r2 test\n",
        "print(f\"logRegOVR: {logRegOVR.score(X_test,y_test)}\")\n",
        "print(f\"ovo: {ovo.score(X_test,y_test)}\")"
      ],
      "execution_count": 413,
      "outputs": [
        {
          "output_type": "stream",
          "name": "stdout",
          "text": [
            "logRegOVR: 1.0\n",
            "ovo: 0.9777777777777777\n"
          ]
        }
      ]
    },
    {
      "cell_type": "markdown",
      "metadata": {
        "id": "WdYo9MVmbmW5"
      },
      "source": [
        "# ahora vamos con la optimizaciones"
      ]
    },
    {
      "cell_type": "code",
      "metadata": {
        "id": "7HLkiq02OJgh"
      },
      "source": [
        "param_grid_logRegOVR = [{'penalty': [\"none\",\"l1\",\"l2\",'elasticnet'], 'solver': ['newton-cg', 'lbfgs', 'liblinear', 'sag','saga'],\n",
        "   'C': [100, 50, 20, 10, 5, 1,0.5,0.3,0.2,0.1]}]\n",
        "\n",
        "bestRegLogOVR = GridSearchCV(estimator = LogisticRegression(), param_grid = param_grid_logRegOVR, scoring = 'accuracy', cv=10) \n",
        "bestRegLogOVR = bestRegLogOVR.fit(X_train,y_train)\n",
        "\n"
      ],
      "execution_count": 414,
      "outputs": []
    },
    {
      "cell_type": "code",
      "metadata": {
        "colab": {
          "base_uri": "https://localhost:8080/"
        },
        "id": "X98604HYOJS6",
        "outputId": "c88a93c7-e083-4216-c5eb-1a4449aff378"
      },
      "source": [
        "print(\"Mejor score (error minimo cuadrado negativo): \", bestRegLogOVR.best_score_)\n",
        "print(\"Mejores hiperparámetros: \", bestRegLogOVR.best_params_)\n",
        "print(\"Mejor modelo: \", bestRegLogOVR.best_estimator_)"
      ],
      "execution_count": 415,
      "outputs": [
        {
          "output_type": "stream",
          "name": "stdout",
          "text": [
            "Mejor score (error minimo cuadrado negativo):  0.9923076923076923\n",
            "Mejores hiperparámetros:  {'C': 100, 'penalty': 'l1', 'solver': 'liblinear'}\n",
            "Mejor modelo:  LogisticRegression(C=100, class_weight=None, dual=False, fit_intercept=True,\n",
            "                   intercept_scaling=1, l1_ratio=None, max_iter=100,\n",
            "                   multi_class='auto', n_jobs=None, penalty='l1',\n",
            "                   random_state=None, solver='liblinear', tol=0.0001, verbose=0,\n",
            "                   warm_start=False)\n"
          ]
        }
      ]
    },
    {
      "cell_type": "code",
      "metadata": {
        "colab": {
          "base_uri": "https://localhost:8080/"
        },
        "id": "3FBTkG0waUVn",
        "outputId": "ac21dcab-1d76-45aa-b3dd-b0ae6435a5dd"
      },
      "source": [
        "ovo.get_params().keys()"
      ],
      "execution_count": 416,
      "outputs": [
        {
          "output_type": "execute_result",
          "data": {
            "text/plain": [
              "dict_keys(['estimator__C', 'estimator__break_ties', 'estimator__cache_size', 'estimator__class_weight', 'estimator__coef0', 'estimator__decision_function_shape', 'estimator__degree', 'estimator__gamma', 'estimator__kernel', 'estimator__max_iter', 'estimator__probability', 'estimator__random_state', 'estimator__shrinking', 'estimator__tol', 'estimator__verbose', 'estimator', 'n_jobs'])"
            ]
          },
          "metadata": {},
          "execution_count": 416
        }
      ]
    },
    {
      "cell_type": "code",
      "metadata": {
        "id": "CvgRiBMVX2gp"
      },
      "source": [
        "param_grid_OVO = [{'estimator__C': [1,0.7,0.4,0.1]}]\n",
        "\n",
        "bestOVO = GridSearchCV(estimator = OneVsOneClassifier(SVC()), param_grid = param_grid_OVO, scoring = 'accuracy', cv=10) \n",
        "\n",
        "bestOVO = bestOVO.fit(X_train,y_train)\n",
        "\n"
      ],
      "execution_count": 417,
      "outputs": []
    },
    {
      "cell_type": "code",
      "metadata": {
        "colab": {
          "base_uri": "https://localhost:8080/"
        },
        "id": "E39-ecQ5X3Tz",
        "outputId": "c254d239-6975-4a74-a1e4-5d508edff0ff"
      },
      "source": [
        "print(\"Mejor score (error minimo cuadrado negativo): \", bestOVO.best_score_)\n",
        "print(\"Mejores hiperparámetros: \", bestOVO.best_params_)\n",
        "print(\"Mejor modelo: \", bestOVO.best_estimator_)"
      ],
      "execution_count": 418,
      "outputs": [
        {
          "output_type": "stream",
          "name": "stdout",
          "text": [
            "Mejor score (error minimo cuadrado negativo):  0.976923076923077\n",
            "Mejores hiperparámetros:  {'estimator__C': 1}\n",
            "Mejor modelo:  OneVsOneClassifier(estimator=SVC(C=1, break_ties=False, cache_size=200,\n",
            "                                 class_weight=None, coef0=0.0,\n",
            "                                 decision_function_shape='ovr', degree=3,\n",
            "                                 gamma='scale', kernel='rbf', max_iter=-1,\n",
            "                                 probability=False, random_state=None,\n",
            "                                 shrinking=True, tol=0.001, verbose=False),\n",
            "                   n_jobs=None)\n"
          ]
        }
      ]
    },
    {
      "cell_type": "code",
      "metadata": {
        "colab": {
          "base_uri": "https://localhost:8080/"
        },
        "id": "bKcc2Y84X3Ik",
        "outputId": "b14b77c9-5246-46fa-b5d9-e540d22f0377"
      },
      "source": [
        "#R2 Best train\n",
        "print(f\"Best logRegOVR: {bestRegLogOVR.score(X_train,y_train)}\")\n",
        "print(f\"Best ovo: {bestOVO.score(X_train,y_train)}\")\n"
      ],
      "execution_count": 419,
      "outputs": [
        {
          "output_type": "stream",
          "name": "stdout",
          "text": [
            "Best logRegOVR: 1.0\n",
            "Best ovo: 1.0\n"
          ]
        }
      ]
    },
    {
      "cell_type": "code",
      "metadata": {
        "colab": {
          "base_uri": "https://localhost:8080/"
        },
        "id": "Wrm1sS8DZZis",
        "outputId": "9cc4e2af-b2ff-42a2-be92-2ffcb0e30d13"
      },
      "source": [
        "#R2 Best test\n",
        "print(f\"Best logRegOVR: {bestRegLogOVR.score(X_test,y_test)}\")\n",
        "print(f\"Best ovo: {bestOVO.score(X_test,y_test)}\")"
      ],
      "execution_count": 420,
      "outputs": [
        {
          "output_type": "stream",
          "name": "stdout",
          "text": [
            "Best logRegOVR: 0.9777777777777777\n",
            "Best ovo: 0.9777777777777777\n"
          ]
        }
      ]
    }
  ]
}