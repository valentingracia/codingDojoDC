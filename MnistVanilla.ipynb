{
  "nbformat": 4,
  "nbformat_minor": 0,
  "metadata": {
    "colab": {
      "name": "MnistVanilla.ipynb",
      "provenance": [],
      "collapsed_sections": [],
      "mount_file_id": "1RdXsfdau2zLrAIBMjuLglztrVWi8sJks",
      "authorship_tag": "ABX9TyNXZ3vSFrGQtEMax2KYwFQR",
      "include_colab_link": true
    },
    "kernelspec": {
      "name": "python3",
      "display_name": "Python 3"
    },
    "language_info": {
      "name": "python"
    }
  },
  "cells": [
    {
      "cell_type": "markdown",
      "metadata": {
        "id": "view-in-github",
        "colab_type": "text"
      },
      "source": [
        "<a href=\"https://colab.research.google.com/github/valentingracia/codingDojoDC/blob/main/MnistVanilla.ipynb\" target=\"_parent\"><img src=\"https://colab.research.google.com/assets/colab-badge.svg\" alt=\"Open In Colab\"/></a>"
      ]
    },
    {
      "cell_type": "markdown",
      "metadata": {
        "id": "y_aULUfvEMLF"
      },
      "source": [
        "Red Neuronal Convolucional Mnist\n",
        "\n"
      ]
    },
    {
      "cell_type": "code",
      "metadata": {
        "id": "lsq8li5wEJt2"
      },
      "source": [
        "# Imports\n",
        "import numpy as np\n",
        "import matplotlib.pyplot as plt\n",
        "import pandas as pd\n",
        "from sklearn.model_selection import train_test_split\n",
        "\n",
        "from sklearn.preprocessing import StandardScaler\n",
        "from tensorflow.keras.models import Sequential\n",
        "from tensorflow.keras.layers import Dense, Flatten, Conv2D, MaxPooling2D\n",
        "from tensorflow.keras.utils import to_categorical\n",
        "from tensorflow.keras.datasets import mnist"
      ],
      "execution_count": 103,
      "outputs": []
    },
    {
      "cell_type": "code",
      "metadata": {
        "id": "VVKPeIbfEWg0"
      },
      "source": [
        "# Obtener datos: ya está dividido en conjuntos de entrenamiento y prueba\n",
        "#(X_train, y_train), (X_test, y_test) = mnist.load_data()\n",
        "\n"
      ],
      "execution_count": 104,
      "outputs": []
    },
    {
      "cell_type": "code",
      "metadata": {
        "id": "2mUMQkzvIoaD"
      },
      "source": [
        "#minist2\n",
        "mnist=pd.read_csv(\"/content/drive/MyDrive/Coding Dojo/MNIST/fashion-mnist_train.csv\")\n",
        "\n",
        "mnist2.head(2)\n",
        "X=mnist2.drop(columns=[\"label\"])\n",
        "y=mnist2[\"label\"]\n",
        "(X_train, X_test,y_train,y_test)=train_test_split(X,y,random_state=1)"
      ],
      "execution_count": 105,
      "outputs": []
    },
    {
      "cell_type": "code",
      "metadata": {
        "colab": {
          "base_uri": "https://localhost:8080/"
        },
        "id": "ScNZ-iubIoJk",
        "outputId": "3b8ca41d-b9d5-4001-918a-c36a3e961cf3"
      },
      "source": [
        "X_train=X_train.to_numpy()\n",
        "X_test=X_test.to_numpy()\n",
        "y_train=y_train.to_numpy()\n",
        "y_test=y_test.to_numpy()\n",
        "type(X_train)"
      ],
      "execution_count": 106,
      "outputs": [
        {
          "output_type": "execute_result",
          "data": {
            "text/plain": [
              "numpy.ndarray"
            ]
          },
          "metadata": {},
          "execution_count": 106
        }
      ]
    },
    {
      "cell_type": "code",
      "metadata": {
        "colab": {
          "base_uri": "https://localhost:8080/"
        },
        "id": "fQlZQuKKEWFA",
        "outputId": "e7e7a484-df13-41db-bf73-45bea917de8e"
      },
      "source": [
        "X_train.shape"
      ],
      "execution_count": 107,
      "outputs": [
        {
          "output_type": "execute_result",
          "data": {
            "text/plain": [
              "(45000, 784)"
            ]
          },
          "metadata": {},
          "execution_count": 107
        }
      ]
    },
    {
      "cell_type": "code",
      "metadata": {
        "id": "FoTjHK9JEVpW"
      },
      "source": [
        "# Escalar datos entre 0 y 1\n",
        "X_train = X_train / 255\n",
        "X_test = X_test / 255\n"
      ],
      "execution_count": 108,
      "outputs": []
    },
    {
      "cell_type": "code",
      "metadata": {
        "id": "dqHL0SNeEjDA"
      },
      "source": [
        "# Reformar datos\n",
        "X_train = X_train.reshape(X_train.shape[0], 28, 28, 1)\n",
        "X_test = X_test.reshape(X_test.shape[0], 28, 28, 1)"
      ],
      "execution_count": 109,
      "outputs": []
    },
    {
      "cell_type": "code",
      "metadata": {
        "id": "rU9ObePuEnLA"
      },
      "source": [
        "y_train = to_categorical(y_train, num_classes = 10)\n",
        "y_test = to_categorical(y_test, num_classes = 10)"
      ],
      "execution_count": 110,
      "outputs": []
    },
    {
      "cell_type": "code",
      "metadata": {
        "colab": {
          "base_uri": "https://localhost:8080/"
        },
        "id": "lJDN49-YEqul",
        "outputId": "68a07f2d-4ba1-4549-c38b-49d7079fc72a"
      },
      "source": [
        "# Paso 1: Definir nuestra estructura de red\n",
        "# Guardar la forma de entrada\n",
        "input_shape = X_train.shape[1:4]\n",
        "input_shape"
      ],
      "execution_count": 111,
      "outputs": [
        {
          "output_type": "execute_result",
          "data": {
            "text/plain": [
              "(28, 28, 1)"
            ]
          },
          "metadata": {},
          "execution_count": 111
        }
      ]
    },
    {
      "cell_type": "code",
      "metadata": {
        "id": "zaptxjyKEqmr"
      },
      "source": [
        "# Modelo secuencial\n",
        "model = Sequential()"
      ],
      "execution_count": 112,
      "outputs": []
    },
    {
      "cell_type": "code",
      "metadata": {
        "id": "_W_SlF1UEqeJ"
      },
      "source": [
        "# Capa convolucional\n",
        "model.add(Conv2D(filters = 8, # Cuantos filtros quieres usar\n",
        "                 kernel_size = 3, # tamaño de cada filtro\n",
        "                 input_shape = input_shape)) # ¿Cuál es la forma de tus características de entrada (definimos esto arriba)\n",
        "# Pooling layer\n",
        "model.add(MaxPooling2D(pool_size = 2)) # Tamaño de pooling\n",
        "# Capa de aplanamiento\n",
        "model.add(Flatten())\n",
        "# Capa de salida\n",
        "model.add(Dense(10, # Cuantas posibilidades de salida tenemos\n",
        "                activation = 'softmax')) # ¿Qué función de activación estás usando?"
      ],
      "execution_count": 113,
      "outputs": []
    },
    {
      "cell_type": "code",
      "metadata": {
        "id": "XByTOBBMEqVB"
      },
      "source": [
        "# Paso 2: compilar\n",
        "model.compile(loss = 'categorical_crossentropy', optimizer = 'adam', metrics = ['acc'])"
      ],
      "execution_count": 114,
      "outputs": []
    },
    {
      "cell_type": "code",
      "metadata": {
        "colab": {
          "base_uri": "https://localhost:8080/"
        },
        "id": "5J-d5CzzGejY",
        "outputId": "5c94b9e8-bc77-4922-cd64-e094faa650c5"
      },
      "source": [
        "# Paso 3: ajustar nuestro modelo\n",
        "history = model.fit(X_train, y_train,\n",
        "                    validation_data = (X_test, y_test), \n",
        "                    epochs=20)"
      ],
      "execution_count": 115,
      "outputs": [
        {
          "output_type": "stream",
          "name": "stdout",
          "text": [
            "Epoch 1/20\n",
            "1407/1407 [==============================] - 16s 11ms/step - loss: 0.5498 - acc: 0.8084 - val_loss: 0.4487 - val_acc: 0.8410\n",
            "Epoch 2/20\n",
            "1407/1407 [==============================] - 15s 11ms/step - loss: 0.4031 - acc: 0.8602 - val_loss: 0.4010 - val_acc: 0.8609\n",
            "Epoch 3/20\n",
            "1407/1407 [==============================] - 15s 11ms/step - loss: 0.3665 - acc: 0.8729 - val_loss: 0.3607 - val_acc: 0.8761\n",
            "Epoch 4/20\n",
            "1407/1407 [==============================] - 15s 11ms/step - loss: 0.3450 - acc: 0.8774 - val_loss: 0.3576 - val_acc: 0.8766\n",
            "Epoch 5/20\n",
            "1407/1407 [==============================] - 15s 11ms/step - loss: 0.3281 - acc: 0.8850 - val_loss: 0.3579 - val_acc: 0.8759\n",
            "Epoch 6/20\n",
            "1407/1407 [==============================] - 15s 11ms/step - loss: 0.3155 - acc: 0.8896 - val_loss: 0.3423 - val_acc: 0.8815\n",
            "Epoch 7/20\n",
            "1407/1407 [==============================] - 15s 11ms/step - loss: 0.3058 - acc: 0.8933 - val_loss: 0.3660 - val_acc: 0.8736\n",
            "Epoch 8/20\n",
            "1407/1407 [==============================] - 15s 11ms/step - loss: 0.2976 - acc: 0.8948 - val_loss: 0.3408 - val_acc: 0.8819\n",
            "Epoch 9/20\n",
            "1407/1407 [==============================] - 15s 11ms/step - loss: 0.2895 - acc: 0.8980 - val_loss: 0.3308 - val_acc: 0.8858\n",
            "Epoch 10/20\n",
            "1407/1407 [==============================] - 15s 11ms/step - loss: 0.2829 - acc: 0.8993 - val_loss: 0.3294 - val_acc: 0.8859\n",
            "Epoch 11/20\n",
            "1407/1407 [==============================] - 15s 11ms/step - loss: 0.2769 - acc: 0.9018 - val_loss: 0.3284 - val_acc: 0.8875\n",
            "Epoch 12/20\n",
            "1407/1407 [==============================] - 16s 11ms/step - loss: 0.2700 - acc: 0.9052 - val_loss: 0.3294 - val_acc: 0.8870\n",
            "Epoch 13/20\n",
            "1407/1407 [==============================] - 15s 11ms/step - loss: 0.2645 - acc: 0.9055 - val_loss: 0.3290 - val_acc: 0.8886\n",
            "Epoch 14/20\n",
            "1407/1407 [==============================] - 18s 13ms/step - loss: 0.2608 - acc: 0.9077 - val_loss: 0.3317 - val_acc: 0.8873\n",
            "Epoch 15/20\n",
            "1407/1407 [==============================] - 14s 10ms/step - loss: 0.2561 - acc: 0.9096 - val_loss: 0.3262 - val_acc: 0.8897\n",
            "Epoch 16/20\n",
            "1407/1407 [==============================] - 14s 10ms/step - loss: 0.2521 - acc: 0.9099 - val_loss: 0.3325 - val_acc: 0.8882\n",
            "Epoch 17/20\n",
            "1407/1407 [==============================] - 14s 10ms/step - loss: 0.2488 - acc: 0.9113 - val_loss: 0.3323 - val_acc: 0.8873\n",
            "Epoch 18/20\n",
            "1407/1407 [==============================] - 14s 10ms/step - loss: 0.2452 - acc: 0.9126 - val_loss: 0.3277 - val_acc: 0.8888\n",
            "Epoch 19/20\n",
            "1407/1407 [==============================] - 14s 10ms/step - loss: 0.2419 - acc: 0.9142 - val_loss: 0.3337 - val_acc: 0.8888\n",
            "Epoch 20/20\n",
            "1407/1407 [==============================] - 14s 10ms/step - loss: 0.2395 - acc: 0.9144 - val_loss: 0.3374 - val_acc: 0.8843\n"
          ]
        }
      ]
    },
    {
      "cell_type": "code",
      "metadata": {
        "colab": {
          "base_uri": "https://localhost:8080/",
          "height": 265
        },
        "id": "HNptsqvFGeZI",
        "outputId": "12e511be-79c8-4413-b8be-7cf488ec15e8"
      },
      "source": [
        "# Visualizar la pérdida\n",
        "plt.plot(history.history['loss'], label='Train loss')\n",
        "plt.plot(history.history['val_loss'], label='Test Loss')\n",
        "plt.legend();"
      ],
      "execution_count": 116,
      "outputs": [
        {
          "output_type": "display_data",
          "data": {
            "image/png": "[encoded data removed]",
            "text/plain": [
              "<Figure size 432x288 with 1 Axes>"
            ]
          },
          "metadata": {
            "needs_background": "light"
          }
        }
      ]
    },
    {
      "cell_type": "code",
      "metadata": {
        "colab": {
          "base_uri": "https://localhost:8080/",
          "height": 265
        },
        "id": "Ga8rvdFuGeQI",
        "outputId": "db823491-3a5e-4965-ce79-e45875ae2d8d"
      },
      "source": [
        "# Visualizar la precisión\n",
        "plt.plot(history.history['acc'], label='Train Accuracy')\n",
        "plt.plot(history.history['val_acc'], label='Test Accuracy')\n",
        "plt.legend();"
      ],
      "execution_count": 117,
      "outputs": [
        {
          "output_type": "display_data",
          "data": {
            "image/png": "[encoded data removed]",
            "text/plain": [
              "<Figure size 432x288 with 1 Axes>"
            ]
          },
          "metadata": {
            "needs_background": "light"
          }
        }
      ]
    },
    {
      "cell_type": "code",
      "metadata": {
        "id": "KmofnJ-sGeDn"
      },
      "source": [
        ""
      ],
      "execution_count": 117,
      "outputs": []
    }
  ]
}