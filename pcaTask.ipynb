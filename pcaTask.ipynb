{
  "nbformat": 4,
  "nbformat_minor": 0,
  "metadata": {
    "colab": {
      "name": "pcaTask.ipynb",
      "provenance": [],
      "collapsed_sections": [],
      "authorship_tag": "ABX9TyPjyWtw5WdERi7Lv2EtYxZZ",
      "include_colab_link": true
    },
    "kernelspec": {
      "name": "python3",
      "display_name": "Python 3"
    },
    "language_info": {
      "name": "python"
    }
  },
  "cells": [
    {
      "cell_type": "markdown",
      "metadata": {
        "id": "view-in-github",
        "colab_type": "text"
      },
      "source": [
        "<a href=\"https://colab.research.google.com/github/valentingracia/codingDojoDC/blob/main/pcaTask.ipynb\" target=\"_parent\"><img src=\"https://colab.research.google.com/assets/colab-badge.svg\" alt=\"Open In Colab\"/></a>"
      ]
    },
    {
      "cell_type": "code",
      "metadata": {
        "id": "jPIalNL03qo1"
      },
      "source": [
        "# cargar el conjunto de datos\n",
        "# Imports\n",
        "import numpy as np\n",
        "import matplotlib.pyplot as plt\n",
        "import pandas as pd\n",
        "from sklearn.preprocessing import LabelEncoder, StandardScaler\n",
        "from sklearn.model_selection import train_test_split\n",
        "from sklearn.decomposition import PCA\n",
        "\n",
        "from sklearn.linear_model import LogisticRegression\n",
        "from sklearn.neighbors import KNeighborsClassifier\n",
        "from sklearn.tree import DecisionTreeClassifier\n",
        "from sklearn.ensemble import RandomForestClassifier\n",
        "\n",
        "import pandas as pd\n",
        "from sklearn.datasets import fetch_openml\n",
        "\n",
        "\n"
      ],
      "execution_count": 147,
      "outputs": []
    },
    {
      "cell_type": "code",
      "metadata": {
        "colab": {
          "base_uri": "https://localhost:8080/"
        },
        "id": "hcrU6aH18UPO",
        "outputId": "e310cebd-bf51-4678-8c4d-8cec55a4a7a5"
      },
      "source": [
        "mnist = fetch_openml('mnist_784')\n",
        "# ver la forma del conjunto de datos\n",
        "mnist.data.shape"
      ],
      "execution_count": 148,
      "outputs": [
        {
          "output_type": "execute_result",
          "data": {
            "text/plain": [
              "(70000, 784)"
            ]
          },
          "metadata": {},
          "execution_count": 148
        }
      ]
    },
    {
      "cell_type": "code",
      "metadata": {
        "id": "gryONHWF4Cs2"
      },
      "source": [
        "X=pd.DataFrame(data=mnist.data)\n",
        "y=mnist.target"
      ],
      "execution_count": 149,
      "outputs": []
    },
    {
      "cell_type": "code",
      "metadata": {
        "colab": {
          "base_uri": "https://localhost:8080/"
        },
        "id": "Dx9LRJAZ4kz2",
        "outputId": "0574b044-1ee4-4dcb-ef8a-27699a7904ad"
      },
      "source": [
        "y"
      ],
      "execution_count": 150,
      "outputs": [
        {
          "output_type": "execute_result",
          "data": {
            "text/plain": [
              "array(['5', '0', '4', ..., '4', '5', '6'], dtype=object)"
            ]
          },
          "metadata": {},
          "execution_count": 150
        }
      ]
    },
    {
      "cell_type": "markdown",
      "metadata": {
        "id": "C8zWsOJ66tvL"
      },
      "source": [
        "Escaladores"
      ]
    },
    {
      "cell_type": "code",
      "metadata": {
        "id": "LgDISLdO60NJ"
      },
      "source": [
        "# Instantiar Escalador Estándar\n",
        "scaler = StandardScaler()\n",
        "# Ajustar y transformar datos\n",
        "scaled_df = scaler.fit_transform(X)"
      ],
      "execution_count": 151,
      "outputs": []
    },
    {
      "cell_type": "code",
      "metadata": {
        "colab": {
          "base_uri": "https://localhost:8080/"
        },
        "id": "dBPNz-e060Dx",
        "outputId": "8c9b22a0-813b-43f2-a5c4-5b1a2d5bb5be"
      },
      "source": [
        "# Instanciar y ajustar datos usando PCA\n",
        "pca = PCA()\n",
        "pca.fit(scaled_df)"
      ],
      "execution_count": 152,
      "outputs": [
        {
          "output_type": "execute_result",
          "data": {
            "text/plain": [
              "PCA(copy=True, iterated_power='auto', n_components=None, random_state=None,\n",
              "    svd_solver='auto', tol=0.0, whiten=False)"
            ]
          },
          "metadata": {},
          "execution_count": 152
        }
      ]
    },
    {
      "cell_type": "code",
      "metadata": {
        "colab": {
          "base_uri": "https://localhost:8080/",
          "height": 296
        },
        "id": "vEUwJ9DP6z6v",
        "outputId": "11109ebc-f79a-46cf-f7d0-53946de59048"
      },
      "source": [
        "# Graficar los ratios de varianza explicadas de los primeros 10 componentes principales\n",
        "plt.plot(range(1, 11), pca.explained_variance_ratio_[:10], marker = '.')\n",
        "plt.xticks(ticks = range(1, 11))\n",
        "plt.xlabel('Principal Component')\n",
        "plt.ylabel('Proportion of Explained Variance')"
      ],
      "execution_count": 153,
      "outputs": [
        {
          "output_type": "execute_result",
          "data": {
            "text/plain": [
              "Text(0, 0.5, 'Proportion of Explained Variance')"
            ]
          },
          "metadata": {},
          "execution_count": 153
        },
        {
          "output_type": "display_data",
          "data": {
            "image/png": "[encoded data removed]",
            "text/plain": [
              "<Figure size 432x288 with 1 Axes>"
            ]
          },
          "metadata": {
            "needs_background": "light"
          }
        }
      ]
    },
    {
      "cell_type": "markdown",
      "metadata": {
        "id": "jBBq7MT3_xRK"
      },
      "source": [
        "Ok aqui concluimos que el numero ideal de PCAs es 4,\n",
        "\n",
        "empezamos con nuevo modelo"
      ]
    },
    {
      "cell_type": "code",
      "metadata": {
        "id": "aYdJU3zy_7KD"
      },
      "source": [
        "# División entrenamiento prueba\n",
        "X_train, X_test, y_train, y_test = train_test_split(X, y, random_state=3)"
      ],
      "execution_count": 154,
      "outputs": []
    },
    {
      "cell_type": "markdown",
      "metadata": {
        "id": "K8MMA_7jAA_m"
      },
      "source": [
        "escalado para modelo predictivo"
      ]
    },
    {
      "cell_type": "code",
      "metadata": {
        "id": "_NGUcg9EABbb"
      },
      "source": [
        "# Instanciar Escalador Estándar\n",
        "scaler = StandardScaler()\n",
        "# Ajustar y transformar datos\n",
        "X_train_sc = scaler.fit_transform(X_train)\n",
        "X_test_sc = scaler.transform(X_test)"
      ],
      "execution_count": 155,
      "outputs": []
    },
    {
      "cell_type": "code",
      "metadata": {
        "colab": {
          "base_uri": "https://localhost:8080/"
        },
        "id": "p-mCqXJrAIda",
        "outputId": "c1784f89-f5e9-4a31-b038-fda55b6fa4d2"
      },
      "source": [
        "# Ajustar PCA\n",
        "pca = PCA(n_components = 4)\n",
        "X_train_pca = pca.fit_transform(X_train_sc)\n",
        "X_test_pca = pca.transform(X_test_sc)\n",
        "# ajustar regresión logística\n",
        "rf= RandomForestClassifier()\n",
        "rf.fit(X_train_pca, y_train)"
      ],
      "execution_count": 156,
      "outputs": [
        {
          "output_type": "execute_result",
          "data": {
            "text/plain": [
              "DecisionTreeClassifier(ccp_alpha=0.0, class_weight=None, criterion='gini',\n",
              "                       max_depth=None, max_features=None, max_leaf_nodes=None,\n",
              "                       min_impurity_decrease=0.0, min_impurity_split=None,\n",
              "                       min_samples_leaf=1, min_samples_split=2,\n",
              "                       min_weight_fraction_leaf=0.0, presort='deprecated',\n",
              "                       random_state=None, splitter='best')"
            ]
          },
          "metadata": {},
          "execution_count": 156
        }
      ]
    },
    {
      "cell_type": "code",
      "metadata": {
        "colab": {
          "base_uri": "https://localhost:8080/"
        },
        "id": "hvzq4trkAMdN",
        "outputId": "379929be-8dcc-41bf-84dd-9023977b297c"
      },
      "source": [
        "print('Training accuracy:', rf.score(X_train_pca, y_train))\n",
        "print('Testing accuracy:', rf.score(X_test_pca, y_test))"
      ],
      "execution_count": 158,
      "outputs": [
        {
          "output_type": "stream",
          "name": "stdout",
          "text": [
            "Training accuracy: 0.9996571428571429\n",
            "Testing accuracy: 0.6790285714285714\n"
          ]
        }
      ]
    }
  ]
}